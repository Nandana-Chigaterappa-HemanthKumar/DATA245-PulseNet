{
 "cells": [
  {
   "cell_type": "code",
   "execution_count": 1,
   "id": "13119351",
   "metadata": {},
   "outputs": [
    {
     "name": "stdout",
     "output_type": "stream",
     "text": [
      "Parquet file has been successfully converted to CSV and saved at: C:\\Users\\Lenovo\\OneDrive\\Desktop\\SEM 2\\ml\\project\\id_00f332d1.csv\n"
     ]
    }
   ],
   "source": [
    "import pandas as pd\n",
    "\n",
    "# Path to the Parquet file\n",
    "parquet_file = r\"C:\\Users\\Lenovo\\OneDrive\\Desktop\\SEM 2\\ml\\project\\cleaned_series_train.parquet\\id=00f332d1.parquet\"\n",
    "\n",
    "# Path to save the converted CSV file\n",
    "csv_file = r\"C:\\Users\\Lenovo\\OneDrive\\Desktop\\SEM 2\\ml\\project\\id_00f332d1.csv\"\n",
    "\n",
    "# Read the Parquet file into a pandas DataFrame\n",
    "try:\n",
    "    df = pd.read_parquet(parquet_file)\n",
    "    \n",
    "    # Save the DataFrame to a CSV file\n",
    "    df.to_csv(csv_file, index=False)\n",
    "    \n",
    "    print(f\"Parquet file has been successfully converted to CSV and saved at: {csv_file}\")\n",
    "except Exception as e:\n",
    "    print(f\"An error occurred: {e}\")\n"
   ]
  },
  {
   "cell_type": "code",
   "execution_count": null,
   "id": "70bf2d52",
   "metadata": {},
   "outputs": [],
   "source": []
  }
 ],
 "metadata": {
  "kernelspec": {
   "display_name": "Python 3 (ipykernel)",
   "language": "python",
   "name": "python3"
  },
  "language_info": {
   "codemirror_mode": {
    "name": "ipython",
    "version": 3
   },
   "file_extension": ".py",
   "mimetype": "text/x-python",
   "name": "python",
   "nbconvert_exporter": "python",
   "pygments_lexer": "ipython3",
   "version": "3.11.5"
  }
 },
 "nbformat": 4,
 "nbformat_minor": 5
}

{
 "cells": [
  {
   "cell_type": "code",
   "execution_count": 5,
   "id": "84d75348-1e45-4a19-ab49-b329f808a23c",
   "metadata": {},
   "outputs": [
    {
     "name": "stdout",
     "output_type": "stream",
     "text": [
      "Processed file saved to: /Users/nandana_hemanth/Documents/Semester II/DATA 245/Project/Dataset/child-mind-institute-problematic-internet-use/Actigraphy_Data_Cleaned_and_Final.csv\n"
     ]
    }
   ],
   "source": [
    "import pandas as pd\n",
    "\n",
    "# Input and output file paths\n",
    "input_file = \"/Users/nandana_hemanth/Documents/Semester II/DATA 245/Project/Dataset/child-mind-institute-problematic-internet-use/Actigraphy_extracted_features_final.csv\"  \n",
    "output_file = \"/Users/nandana_hemanth/Documents/Semester II/DATA 245/Project/Dataset/child-mind-institute-problematic-internet-use/Actigraphy_Data_Cleaned_and_Final.csv\"  \n",
    "\n",
    "# Columns to remove\n",
    "columns_to_drop = ['mean_x', 'mean_y', 'mean_z', 'std_x', 'std_y', 'std_z']\n",
    "\n",
    "# Loading the dataset\n",
    "data = pd.read_csv(input_file)\n",
    "\n",
    "# Removing the specified columns\n",
    "if all(col in data.columns for col in columns_to_drop):  \n",
    "    data = data.drop(columns=columns_to_drop)\n",
    "else:\n",
    "    print(\"Some columns to drop are missing from the dataset.\")\n",
    "\n",
    "# Moving the 'participant_id' column to the first position\n",
    "if 'participant_id' in data.columns:  \n",
    "    columns = ['participant_id'] + [col for col in data.columns if col != 'participant_id']\n",
    "    data = data[columns]\n",
    "else:\n",
    "    print(\"'participant_id' column not found in the dataset.\")\n",
    "\n",
    "data.to_csv(output_file, index=False)\n",
    "print(f\"Processed file saved to: {output_file}\")"
   ]
  },
  {
   "cell_type": "code",
   "execution_count": null,
   "id": "61d596bc-c59a-4a34-bff9-6bc39b7283f0",
   "metadata": {},
   "outputs": [],
   "source": []
  }
 ],
 "metadata": {
  "kernelspec": {
   "display_name": "Python 3 (ipykernel)",
   "language": "python",
   "name": "python3"
  },
  "language_info": {
   "codemirror_mode": {
    "name": "ipython",
    "version": 3
   },
   "file_extension": ".py",
   "mimetype": "text/x-python",
   "name": "python",
   "nbconvert_exporter": "python",
   "pygments_lexer": "ipython3",
   "version": "3.11.7"
  }
 },
 "nbformat": 4,
 "nbformat_minor": 5
}

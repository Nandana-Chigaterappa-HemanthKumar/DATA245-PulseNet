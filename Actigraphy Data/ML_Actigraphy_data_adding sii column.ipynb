{
 "cells": [
  {
   "cell_type": "code",
   "execution_count": 4,
   "id": "b040028a",
   "metadata": {},
   "outputs": [
    {
     "name": "stdout",
     "output_type": "stream",
     "text": [
      "Updated extracted features with SII saved to: C:/Users/Lenovo/OneDrive/Desktop/SEM 2/ml/project/extracted_features/extracted_features_with_sii.csv\n"
     ]
    }
   ],
   "source": [
    "import pandas as pd\n",
    "\n",
    "# Input path files\n",
    "aggregated_data_path = \"C:/Users/Lenovo/OneDrive/Desktop/SEM 2/ml/project/child-mind-institute-problematic-internet-use/train.csv\"\n",
    "extracted_features_path = \"C:/Users/Lenovo/OneDrive/Desktop/SEM 2/ml/project/extracted_features/extracted_features_all_participants.csv\"\n",
    "\n",
    "# Output file path\n",
    "output_file_path = \"C:/Users/Lenovo/OneDrive/Desktop/SEM 2/ml/project/extracted_features/extracted_features_with_sii.csv\"\n",
    "\n",
    "# Loaded the aggregated participant data (to fetch id and SII)\n",
    "aggregated_data = pd.read_csv(aggregated_data_path)\n",
    "\n",
    "# Loaded the extracted features data\n",
    "extracted_features = pd.read_csv(extracted_features_path)\n",
    "\n",
    "# Ensured IDs are consistent in both files\n",
    "aggregated_data['id'] = aggregated_data['id'].astype(str)\n",
    "extracted_features['participant_id'] = extracted_features['participant_id'].astype(str)\n",
    "\n",
    "# Merged the SII values into the extracted features based on id -> participant_id\n",
    "merged_data = pd.merge(\n",
    "    extracted_features,\n",
    "    aggregated_data[['id', 'sii']],  # Include only relevant columns\n",
    "    left_on='participant_id',\n",
    "    right_on='id',\n",
    "    how='left'  # Use 'left' join to preserve all extracted_features rows\n",
    ")\n",
    "\n",
    "# Droped the extra 'id' column from the merged result\n",
    "merged_data = merged_data.drop(columns=['id'])\n",
    "\n",
    "# Saved the updated data with SII to a new CSV file\n",
    "merged_data.to_csv(output_file_path, index=False)\n",
    "\n",
    "print(f\"Updated extracted features with SII saved to: {output_file_path}\")\n"
   ]
  },
  {
   "cell_type": "code",
   "execution_count": null,
   "id": "b88b8bcc",
   "metadata": {},
   "outputs": [],
   "source": []
  }
 ],
 "metadata": {
  "kernelspec": {
   "display_name": "Python 3 (ipykernel)",
   "language": "python",
   "name": "python3"
  },
  "language_info": {
   "codemirror_mode": {
    "name": "ipython",
    "version": 3
   },
   "file_extension": ".py",
   "mimetype": "text/x-python",
   "name": "python",
   "nbconvert_exporter": "python",
   "pygments_lexer": "ipython3",
   "version": "3.11.5"
  }
 },
 "nbformat": 4,
 "nbformat_minor": 5
}

{
 "cells": [
  {
   "cell_type": "code",
   "execution_count": 2,
   "id": "800e97ee",
   "metadata": {},
   "outputs": [
    {
     "name": "stdout",
     "output_type": "stream",
     "text": [
      "Matching participant IDs found:\n",
      "['00115b9f', '001f3379', '00f332d1', '01085eb3', '012cadd8', '012e3869', '029a19c9', '02cebf33', '02cf7384', '035c96dd', '03a9019b', '0417c91e', '045a0a94', '04afb6f9', '04bb1a76', '04cb2c30', '04d06a9c', '04f094a8', '051680a0', '055156e2', '059eed01', '05bbed1b', '05db1b9b', '05e94f88', '063b16fc', '064e8da5', '0668373f', '067b9287', '06c8b2fb', '06eb8adb', '070386b2', '07048067', '0720320e', '0745c390', '080698b7', '082df556', '08577722', '08660d12', '089a6b19', '09331bb8', '0983654b', '099e3614', '09b29113', '0a418b57', '0a431608', '0b4014f0', '0b50f3fa', '0b518637', '0b7d7aec', '0b7d9da6', '0bd89878', '0bfe4fc9', '0c4e2d68', '0c4eabac', '0c98f822', '0cbe4e54', '0d01bbf2', '0d279d77', '0d4800c8', '0d4fa8f4', '0d570d3e', '0d924604', '0e3b0bd2', '0ec403df', '0ed2a3c8', '0eddd8e5', '0f6b71c4', '0fbb3ca5', '101774f0', '101c27f1', '108b8659', '10ad8c48', '10e46254', '113f5798', '11739de2', '119d7562', '119e181e', '11be5d2e', '11f9b26c', '12380b06', '12a607f6', '1301f65d', '1314bc8c', '137baaec', '13eee030', '13fca10c', '14391970', '144a9a79', '14568d61', '1470a1df', '14a6e58e', '14b3d6e5', '15227eef', '154d1191', '15dbc929', '15f217a6', '15f2e240', '1606f203', '1649ce22', '17c1ae23', '1837456f', '18b8b2f6', '19098ef0', '1911731d', '19455336', '1957153d', '1a803bfe', '1aae1de3', '1aff6762', '1b2eea8f', '1b32427b', '1b329556', '1b5b34bc', '1b6fb363', '1c063ebc', '1c23295e', '1c5ba087', '1cd37b36', '1d78b3c3', '1e08b1dc', '1e5f6199', '1e87baed', '1eda934b', '1eea8df2', '1eedf45e', '1f2164a4', '1f5835cd', '1f65fa82', '1f7bd44c', '1fc07a80', '1fed3943', '214f46e8', '215ca39b', '218faf6f', '21a76448', '21eb6d47', '221e37e0', '22375702', '224fc39a', '22536a61', '22b4191a', '22c72c4e', '22e44415', '22f43a12', '233b9425', '23567787', '23dafdab', '23e024bd', '23e71e7c', '24398aed', '2496c491', '24a3b16d', '24ab10c6', '25849c6c', '25a3a723', '25eba023', '260f542b', '26190ddd', '26aeacdf', '26d541c2', '2760be91', '278e8a51', '27d7e5e4', '2812951b', '2840643b', '2898269f', '28e973b1', '29587a31', '29b37b4a', '29c54890', '2a0b8386', '2a3fcf9a', '2a6a6b92', '2a88cbe9', '2a922ca4', '2a9e0dee', '2ac0bd9f', '2afea280', '2b34dcf3', '2bac0893', '2bbcfd43', '2c2dc20d', '2c3b09db', '2c406043', '2c483245', '2c54d6c5', '2ca2206f', '2cb0db2c', '2cd9b5a3', '2cda86bd', '2d0bbbd3', '2da6bf6e', '2e17c497', '2e5f5207', '2ee0a1e8', '2f154763', '2f16cad4', '2f1af08a', '2f8ec752', '2fba6cf4', '2fef897e', '3065aa2f', '30d2fd47', '31648caa', '31b74cd4', '31d61741', '31f01671', '321202d4', '3216b978', '325afd3d', '3268c574', '327ef356', '32b8490d', '32dcc8ab', '331733c7', '338146bd', '33d60f7d', '33fe1b04', '34362a9a', '34ec5de4', '350cf38b', '350dbeba', '35198c2d', '351cd4ec', '35d2aa41', '35daea65', '35fa2ebf', '36530d36', '36c060b9', '36c1f189', '372a7950', '37995242', '37ae1239', '37bcfa7e', '380029ef', '3826be66', '384c3f27', '3875d4de', '38cccd6d', '38d53b92', '3950aa00', '397efe7a', '3983d3cd', '39fb1ad0', '3a594acf', '3ab539f0', '3acb5be3', '3b091b83', '3b1b9538', '3ba48ca7', '3c0aba64', '3c2cf08e', '3c620257', '3c8f474a', '3ca35642', '3d36fe8b', '3d3b87db', '3d3dd3ae', '3d48430d', '3d6143f3', '3d736110', '3d970ce4', '3e398bf9', '3e5d5b58', '3e5ee48c', '3f1cf5ba', '3f1f23e7', '3fcef947', '40087bc5', '408bed19', '40aae75f', '416b6ba2', '4177e5e5', '419d05c6', '427037b2', '4280076d', '428970d4', '428c37ea', '429cc266', '4307d287', '432aff11', '43629a34', '436dd613', '43720c15', '43a7386d', '43f44f6c', '43f5d3c5', '440acf4f', '4442c376', '4570c8b8', '464a75fb', '467c549f', '47240aa3', '47350ac6', '481a1861', '4859a9f9', '48db8ecf', '48df987b', '48e69212', '4926b18a', '4940a214', '4950e24c', '49a1931d', '49e4eade', '4a1440d9', '4a17b463', '4a475a9f', '4a4a0f78', '4a62661a', '4a6af685', '4a9f92ca', '4aa87859', '4b0f961e', '4b3c7594', '4b71830a', '4bc2bee9', '4ca242ea', '4cabd7aa', '4cde1e34', '4d19854c', '4d5a8ce7', '4d61a44e', '4dc4ed56', '4decbcd8', '4dfb4e1d', '4e6c7a75', '4e85505f', '4f059221', '4f20b188', '4fd7e043', '50707f1e', '50b2b84b', '5124169c', '5132511c', '51364c23', '51f38b37', '5264bb0e', '526f719b', '52ce9b8b', '52e9e467', '537dc410', '53814642', '53905a2c', '54391716', '54945f30', '54fef303', '554e46e9', '55f9338e', '563ebc00', '56cb7161', '56d9dead', '56ef356c', '5779f2e9', '579e50bd', '57c4f2b4', '57de6095', '57f6fa6c', '58391429', '58ada72e', '58dfccdb', '5985f299', '5a313293', '5af79adb', '5b2c9b83', '5b66b6f2', '5b9ff85e', '5c186496', '5c22f241', '5c2c136d', '5cd83147', '5d3b6ea5', '5d762840', '5d885b20', '5ddbac80', '5e359a08', '5e55e9fd', '5e57bd12', '5ea2c305', '5ed5f205', '5ee595e8', '5ef3d64e', '5f099188', '5f1b07e1', '5f37ceb1', '5f574f3d', '5f7537cf', '5f78f7b9', '5f9dddb4', '60c1ff37', '613fc399', '6187d0dc', '6197a2ce', '621066ff', '6247cc15', '6282e693', '62b873a2', '62cd5c74', '63d4ab9a', '63fc9770', '641697e6', '649ff6d9', '64b4005d', '64ed48c4', '658e66ec', '6595d479', '659fec57', '65fe69c0', '6699c999', '66f619e3', '677038b5', '6774ba64', '678598dd', '6795027a', '6826f0be', '685cc0f1', '687c85e7', '68be3d5c', '68fa4631', '697c41d7', '69b65679', '6a16089d', '6a2fd807', '6a4df6ff', '6a864b11', '6abd21d4', '6ac5763a', '6ac5eaaf', '6b6467f4', '6b773506', '6c0fe935', '6c2edc91', '6c6cd633', '6c737069', '6d5944a9', '6d707ac3', '6dfe4a75', '6e128c6b', '6e1d28b6', '6e85a624', '6e9beaee', '6ebfdc95', '6f49c8d0', '6f5677b7', '6fb28c2a', '6fcdcb2a', '7015528d', '709457f3', '70de1c63', '71850348', '71852781', '7187caec', '71c1b1d2', '71ee31f8', '721ea536', '7265f1e5', '72a0c969', '72c9c38d', '732b2327', '7347b54e', '73ec551e', '73ffa609', '745e6065', '7494989e', '75ad73ee', '75b0446f', '75b53bd4', '75c13e08', '764d8b42', '76781cd8', '76fb4afb', '7800a084', '7860b64c', '78704d22', '79bd36b6', '7a0136e0', '7a6d26a2', '7b0a4060', '7b543871', '7b8842c3', '7bdbf66f', '7c194077', '7c21ad67', '7c39c8e5', '7ce36c38', '7d8f1716', '7dc65b92', '7e46b693', '7e87087b', '7f26f78c', '7f2715b4', '7f44236f', '7fa51811', '7fa7ccc4', '806d877f', '8078b7de', '807d8908', '80b46ffb', '812f6873', '8148c785', '81a4b826', '81d3ab22', '81feecad', '82ec9747', '83379672', '836b4de3', '83711ef5', '8376acc5', '83846d0c', '83912085', '83eda373', '84875079', '84b7d89d', '855c6099', '857baaa6', '85d99199', '85d9c915', '860f4f9c', '86335468', '863e40c7', '86a8e0d6', '86bd716a', '87050a09', '87af775e', '8823b020', '8875387b', '893293dd', '89739b1a', '897da2c8', '898096eb', '89a26502', '8a44ea3a', '8a4e5d1a', '8a645723', '8a6b6912', '8a77c3e9', '8a9e653f', '8abbbc38', '8ba98f12', '8c0ca955', '8c1f9196', '8c6c52a2', '8cab7bc4', '8d8b8553', '8ddb6b8d', '8e59a69a', '8e749c85', '8e80deb7', '8ec2cc63', '8f015125', '8f21c613', '8f2d131f', '8f753551', '8f9c03c6', '90161e10', '9027c805', '9052579b', '9061cc9c', '9105b812', '9130a22e', '913bea9f', '91656d27', '92293b06', '92622443', '9271574b', '92bb8516', '930c567c', '93559639', '93904b23', '93c06d4c', '93c72a97', '93c93585', '93fd93c4', '93fda84a', '9402b885', '948a7025', '948e1435', '949f94e5', '94a1053b', '9540fa8e', '954a4c2e', '9570bfb7', '95cc96cc', '95d57ff9', '966161e7', '96de5f57', '97bb0cc0', '98413061', '98ed2153', '994ee014', '99b15811', '9a2082cf', '9a5aed6c', '9a7e4c38', '9aa1a2ae', '9ab4909f', '9b328d6c', '9b96b0e4', '9bdd6964', '9c1ea003', '9cba0d0e', '9ce139d3', '9cee3c19', '9cf04c41', '9d0670dd', '9d1b2d2c', '9d65adbf', '9d6b1410', '9dc74359', '9ddb06db', '9ddfb9e6', '9e027e04', '9e052412', '9e171735', '9e4385f7', '9e964060', '9eb283e4', '9ebb73c7', '9f3ca269', '9f70688f', '9f9be55c', '9fa5cdfd', '9fa68512', '9fb96ae3', '9ff73d95', 'a00c85e7', 'a0182b17', 'a0522c83', 'a08ebf6e', 'a148b46f', 'a1942b0b', 'a1ab89aa', 'a221c60c', 'a26c3e8f', 'a28c7891', 'a297d1b9', 'a2994e55', 'a302a015', 'a3391798', 'a3858c6a', 'a3b146ca', 'a3bd8858', 'a402c6c8', 'a40c8316', 'a4481101', 'a4530b41', 'a49eda7f', 'a4e0447e', 'a4f13c0d', 'a5078c62', 'a5099438', 'a5710c0a', 'a5974a7d', 'a5dbb00a', 'a614af1b', 'a65b2226', 'a6969e1a', 'a6fbb2e7', 'a774c63b', 'a7b9546a', 'a808ad0a', 'a814e825', 'a8926a86', 'a8b0428d', 'a8c1aab5', 'a8d9de72', 'a922ef3f', 'a95b4487', 'a9b84b96', 'a9c53cdb', 'aa1700c7', 'aae9800e', 'aaefeff0', 'ab16a20d', 'ab2ad965', 'ab36aa48', 'ab54c39e', 'ab987c75', 'abac67cc', 'abaf745c', 'ac1ad4a7', 'ac3ba541', 'ac66c144', 'ad0bbf35', 'ad380962', 'ad536dea', 'ad9f821d', 'adaf7461', 'adba23f0', 'adbd6839', 'adc2d620', 'ae712150', 'aecc7e74', 'af485add', 'af4f064e', 'b074f33b', 'b08423c5', 'b08f0ca4', 'b120a337', 'b1de4423', 'b1f064ac', 'b23b9220', 'b25abc27', 'b2987a65', 'b2b56219', 'b308c03e', 'b37281d5', 'b3b200af', 'b3f5c066', 'b41cee02', 'b447e66d', 'b452f767', 'b4e69f09', 'b69bf1f7', 'b712b69b', 'b7a61f8d', 'b7c410a9', 'b802aec3', 'b823508b', 'b94ec4a1', 'b95aad8d', 'b9b22bff', 'b9c085ab', 'b9cf3f7c', 'b9e90f7f', 'ba73bc7c', 'bb0d7d92', 'bb808a71', 'bba6ff20', 'bbd71a7c', 'bbe5bedd', 'bc4eaf77', 'bc66f41d', 'bc6bd8b2', 'bd4ccd4c', 'bd8397cb', 'bdbff28b', 'bdcc7d10', 'be210bc7', 'bea525dc', 'bebff291', 'bf31e0a7', 'bfb421f9', 'c00c663c', 'c0442863', 'c09d41cd', 'c0a7d046', 'c0f2a046', 'c1373df0', 'c274a243', 'c294b507', 'c2b40d6f', 'c2e15338', 'c3061b23', 'c308b134', 'c38585c5', 'c38a5c9b', 'c3a3f61e', 'c3a86e3e', 'c3adae87', 'c3d46daf', 'c3dde859', 'c446e1c5', 'c45068a1', 'c4c2076b', 'c5462e87', 'c55187b4', 'c5cfaeae', 'c6313b18', 'c6575d38', 'c6cc7467', 'c6d4b453', 'c6da0d4b', 'c6ead822', 'c731458f', 'c73dd2e4', 'c73f149c', 'c79039af', 'c7d9e964', 'c8270746', 'c829500d', 'c8cc2e1b', 'c8fbbc8a', 'c9600298', 'c96b9609', 'c9879365', 'c9902f48', 'c9dabad5', 'c9e419e7', 'ca3204b0', 'ca33a5e7', 'cadd4ae5', 'cb2752bc', 'cb3b7c3c', 'cb73fed9', 'cba39753', 'cbcf8cf2', 'cd144127', 'cd1fff5a', 'cd39e576', 'cd68643b', 'cd703872', 'cd89d5f1', 'cd8f3c61', 'cda90e9e', 'ce379a6a', 'ce6eeadf', 'cefdb7fe', 'cf1b9d44', 'cfcf9dc9', 'cfe4cf40', 'd05f5d71', 'd08806a2', 'd0ac4f1c', 'd19e1025', 'd28f0d44', 'd2d9b474', 'd3da09e8', 'd445fb74', 'd4d2f272', 'd4d9f7f9', 'd506f4c7', 'd57f6c9e', 'd5a8d9b0', 'd5b089a4', 'd5fde276', 'd6251195', 'd661ddf7', 'd6776176', 'd6cca65e', 'd74e4d7c', 'd77ac332', 'd791703f', 'd8037389', 'd859115e', 'd87e2d01', 'd9c82502', 'da09ed4b', 'da19c97e', 'da5a8921', 'dacc2f83', 'daf3969c', 'db23fbe4', 'db38d1f9', 'db3b1dd1', 'db746de0', 'db9eae59', 'dc33dcef', 'dcfcd574', 'dd689eb0', 'dd747bba', 'de3750cc', 'de3ecca9', 'de742c5c', 'de91310c', 'df4ab9b1', 'df556fd2', 'df98fbb4', 'e0283d3d', 'e0655da2', 'e072b994', 'e0869709', 'e0ad6550', 'e0db55b1', 'e1958a83', 'e1a4575f', 'e1ccc3d1', 'e1e02e28', 'e1ea8dd7', 'e21255e2', 'e23a8a0a', 'e243119c', 'e28c0bfa', 'e315fdd7', 'e328a032', 'e37d000b', 'e3bce7e1', 'e3f71f7a', 'e40319d7', 'e4614ec6', 'e46417a7', 'e4762a2b', 'e4ab3b12', 'e4b47411', 'e4d396d7', 'e4e58096', 'e51193d1', 'e5349ce2', 'e63000c5', 'e683d2c9', 'e7401605', 'e754411f', 'e76ad778', 'e7d08824', 'e88aa867', 'e892aec6', 'e8b64419', 'e8e82627', 'e9ca5586', 'e9d94c4e', 'ea4619ec', 'ea544af3', 'ea7277b4', 'ea7adcd6', 'eaab7a96', 'eb93a46a', 'ebd6f819', 'ebf2b0c9', 'ebf30e46', 'ec13a1b9', 'ec6b57b4', 'ec8f8f95', 'ec9195be', 'ecd25dd1', 'ed0b3906', 'ed711416', 'edb9d0f3', 'ee21612e', 'ee2bf575', 'ee67eb55', 'eeedcd5e', 'eef79620', 'ef07f833', 'ef58dd3c', 'ef9617e7', 'efa35d35', 'f015a18c', 'f028534c', 'f0957ca1', 'f09e7b33', 'f0d76b32', 'f1049268', 'f11e17c0', 'f1baae47', 'f1bd0f59', 'f285b43c', 'f2d4efd8', 'f3020788', 'f32a9580', 'f35b607c', 'f4114031', 'f420b05a', 'f44f1227', 'f47a67cc', 'f47abc42', 'f4d2f5af', 'f57de847', 'f584742f', 'f5ad7abc', 'f5b2acf0', 'f62b317d', 'f64ae747', 'f67908e7', 'f6b719ee', 'f6c0e2b7', 'f6c20447', 'f6cc80a9', 'f6d6f400', 'f6d879aa', 'f74eda33', 'f75c957f', 'f7b1374e', 'f7fc97cf', 'f81598bf', 'f8674e15', 'f869d220', 'f8bf4a1c', 'f8ff0bc8', 'f93010a8', 'f9334e08', 'f9384fa2', 'fa34f945', 'fa3e1e21', 'fa633e39', 'fa9a0add', 'fab75c2c', 'fad07fce', 'fb04f7dd', 'fb3c2c87', 'fb9c5a33', 'fc2c2c08', 'fc41be2f', 'fc49ba65', 'fc8e4de4', 'fd028ecc', 'fd0d9bca', 'fd56e059', 'fdb6b48b', 'fdc11b96', 'fdea7d9e', 'fdf4691f', 'fe3cbf02', 'fe9c71d8', 'fecc07d6', 'ff18b749', 'ffcd4dbd', 'ffed1dd5']\n"
     ]
    }
   ],
   "source": [
    "import pandas as pd\n",
    "\n",
    "# Paths to the CSV files\n",
    "file1 = \"C:/Users/Lenovo/OneDrive/Desktop/SEM 2/ml/project/aggregated_participant_data_modified.csv\"\n",
    "file2 = \"C:/Users/Lenovo/OneDrive/Desktop/SEM 2/ml/project/child-mind-institute-problematic-internet-use/train.csv\"\n",
    "\n",
    "# Loaded the data into DataFrames\n",
    "df1 = pd.read_csv(file1)\n",
    "df2 = pd.read_csv(file2)\n",
    "\n",
    "# Checked if required columns exist in the files\n",
    "if 'participant_id' not in df1.columns:\n",
    "    print(f\"Column 'participant_id' not found in {file1}\")\n",
    "elif 'id' not in df2.columns:\n",
    "    print(f\"Column 'id' not found in {file2}\")\n",
    "else:\n",
    "    # Found matching participant IDs\n",
    "    matching_ids = df1[df1['participant_id'].isin(df2['id'])]\n",
    "\n",
    "    # Printed matching participant IDs\n",
    "    if not matching_ids.empty:\n",
    "        print(\"Matching participant IDs found:\")\n",
    "        print(matching_ids['participant_id'].to_list())\n",
    "    else:\n",
    "        print(\"No matching participant IDs found.\")\n"
   ]
  },
  {
   "cell_type": "code",
   "execution_count": 3,
   "id": "6034f903",
   "metadata": {},
   "outputs": [
    {
     "name": "stdout",
     "output_type": "stream",
     "text": [
      "Number of matching participant IDs: 996\n",
      "Matching participant IDs found:\n",
      "['00115b9f', '001f3379', '00f332d1', '01085eb3', '012cadd8', '012e3869', '029a19c9', '02cebf33', '02cf7384', '035c96dd', '03a9019b', '0417c91e', '045a0a94', '04afb6f9', '04bb1a76', '04cb2c30', '04d06a9c', '04f094a8', '051680a0', '055156e2', '059eed01', '05bbed1b', '05db1b9b', '05e94f88', '063b16fc', '064e8da5', '0668373f', '067b9287', '06c8b2fb', '06eb8adb', '070386b2', '07048067', '0720320e', '0745c390', '080698b7', '082df556', '08577722', '08660d12', '089a6b19', '09331bb8', '0983654b', '099e3614', '09b29113', '0a418b57', '0a431608', '0b4014f0', '0b50f3fa', '0b518637', '0b7d7aec', '0b7d9da6', '0bd89878', '0bfe4fc9', '0c4e2d68', '0c4eabac', '0c98f822', '0cbe4e54', '0d01bbf2', '0d279d77', '0d4800c8', '0d4fa8f4', '0d570d3e', '0d924604', '0e3b0bd2', '0ec403df', '0ed2a3c8', '0eddd8e5', '0f6b71c4', '0fbb3ca5', '101774f0', '101c27f1', '108b8659', '10ad8c48', '10e46254', '113f5798', '11739de2', '119d7562', '119e181e', '11be5d2e', '11f9b26c', '12380b06', '12a607f6', '1301f65d', '1314bc8c', '137baaec', '13eee030', '13fca10c', '14391970', '144a9a79', '14568d61', '1470a1df', '14a6e58e', '14b3d6e5', '15227eef', '154d1191', '15dbc929', '15f217a6', '15f2e240', '1606f203', '1649ce22', '17c1ae23', '1837456f', '18b8b2f6', '19098ef0', '1911731d', '19455336', '1957153d', '1a803bfe', '1aae1de3', '1aff6762', '1b2eea8f', '1b32427b', '1b329556', '1b5b34bc', '1b6fb363', '1c063ebc', '1c23295e', '1c5ba087', '1cd37b36', '1d78b3c3', '1e08b1dc', '1e5f6199', '1e87baed', '1eda934b', '1eea8df2', '1eedf45e', '1f2164a4', '1f5835cd', '1f65fa82', '1f7bd44c', '1fc07a80', '1fed3943', '214f46e8', '215ca39b', '218faf6f', '21a76448', '21eb6d47', '221e37e0', '22375702', '224fc39a', '22536a61', '22b4191a', '22c72c4e', '22e44415', '22f43a12', '233b9425', '23567787', '23dafdab', '23e024bd', '23e71e7c', '24398aed', '2496c491', '24a3b16d', '24ab10c6', '25849c6c', '25a3a723', '25eba023', '260f542b', '26190ddd', '26aeacdf', '26d541c2', '2760be91', '278e8a51', '27d7e5e4', '2812951b', '2840643b', '2898269f', '28e973b1', '29587a31', '29b37b4a', '29c54890', '2a0b8386', '2a3fcf9a', '2a6a6b92', '2a88cbe9', '2a922ca4', '2a9e0dee', '2ac0bd9f', '2afea280', '2b34dcf3', '2bac0893', '2bbcfd43', '2c2dc20d', '2c3b09db', '2c406043', '2c483245', '2c54d6c5', '2ca2206f', '2cb0db2c', '2cd9b5a3', '2cda86bd', '2d0bbbd3', '2da6bf6e', '2e17c497', '2e5f5207', '2ee0a1e8', '2f154763', '2f16cad4', '2f1af08a', '2f8ec752', '2fba6cf4', '2fef897e', '3065aa2f', '30d2fd47', '31648caa', '31b74cd4', '31d61741', '31f01671', '321202d4', '3216b978', '325afd3d', '3268c574', '327ef356', '32b8490d', '32dcc8ab', '331733c7', '338146bd', '33d60f7d', '33fe1b04', '34362a9a', '34ec5de4', '350cf38b', '350dbeba', '35198c2d', '351cd4ec', '35d2aa41', '35daea65', '35fa2ebf', '36530d36', '36c060b9', '36c1f189', '372a7950', '37995242', '37ae1239', '37bcfa7e', '380029ef', '3826be66', '384c3f27', '3875d4de', '38cccd6d', '38d53b92', '3950aa00', '397efe7a', '3983d3cd', '39fb1ad0', '3a594acf', '3ab539f0', '3acb5be3', '3b091b83', '3b1b9538', '3ba48ca7', '3c0aba64', '3c2cf08e', '3c620257', '3c8f474a', '3ca35642', '3d36fe8b', '3d3b87db', '3d3dd3ae', '3d48430d', '3d6143f3', '3d736110', '3d970ce4', '3e398bf9', '3e5d5b58', '3e5ee48c', '3f1cf5ba', '3f1f23e7', '3fcef947', '40087bc5', '408bed19', '40aae75f', '416b6ba2', '4177e5e5', '419d05c6', '427037b2', '4280076d', '428970d4', '428c37ea', '429cc266', '4307d287', '432aff11', '43629a34', '436dd613', '43720c15', '43a7386d', '43f44f6c', '43f5d3c5', '440acf4f', '4442c376', '4570c8b8', '464a75fb', '467c549f', '47240aa3', '47350ac6', '481a1861', '4859a9f9', '48db8ecf', '48df987b', '48e69212', '4926b18a', '4940a214', '4950e24c', '49a1931d', '49e4eade', '4a1440d9', '4a17b463', '4a475a9f', '4a4a0f78', '4a62661a', '4a6af685', '4a9f92ca', '4aa87859', '4b0f961e', '4b3c7594', '4b71830a', '4bc2bee9', '4ca242ea', '4cabd7aa', '4cde1e34', '4d19854c', '4d5a8ce7', '4d61a44e', '4dc4ed56', '4decbcd8', '4dfb4e1d', '4e6c7a75', '4e85505f', '4f059221', '4f20b188', '4fd7e043', '50707f1e', '50b2b84b', '5124169c', '5132511c', '51364c23', '51f38b37', '5264bb0e', '526f719b', '52ce9b8b', '52e9e467', '537dc410', '53814642', '53905a2c', '54391716', '54945f30', '54fef303', '554e46e9', '55f9338e', '563ebc00', '56cb7161', '56d9dead', '56ef356c', '5779f2e9', '579e50bd', '57c4f2b4', '57de6095', '57f6fa6c', '58391429', '58ada72e', '58dfccdb', '5985f299', '5a313293', '5af79adb', '5b2c9b83', '5b66b6f2', '5b9ff85e', '5c186496', '5c22f241', '5c2c136d', '5cd83147', '5d3b6ea5', '5d762840', '5d885b20', '5ddbac80', '5e359a08', '5e55e9fd', '5e57bd12', '5ea2c305', '5ed5f205', '5ee595e8', '5ef3d64e', '5f099188', '5f1b07e1', '5f37ceb1', '5f574f3d', '5f7537cf', '5f78f7b9', '5f9dddb4', '60c1ff37', '613fc399', '6187d0dc', '6197a2ce', '621066ff', '6247cc15', '6282e693', '62b873a2', '62cd5c74', '63d4ab9a', '63fc9770', '641697e6', '649ff6d9', '64b4005d', '64ed48c4', '658e66ec', '6595d479', '659fec57', '65fe69c0', '6699c999', '66f619e3', '677038b5', '6774ba64', '678598dd', '6795027a', '6826f0be', '685cc0f1', '687c85e7', '68be3d5c', '68fa4631', '697c41d7', '69b65679', '6a16089d', '6a2fd807', '6a4df6ff', '6a864b11', '6abd21d4', '6ac5763a', '6ac5eaaf', '6b6467f4', '6b773506', '6c0fe935', '6c2edc91', '6c6cd633', '6c737069', '6d5944a9', '6d707ac3', '6dfe4a75', '6e128c6b', '6e1d28b6', '6e85a624', '6e9beaee', '6ebfdc95', '6f49c8d0', '6f5677b7', '6fb28c2a', '6fcdcb2a', '7015528d', '709457f3', '70de1c63', '71850348', '71852781', '7187caec', '71c1b1d2', '71ee31f8', '721ea536', '7265f1e5', '72a0c969', '72c9c38d', '732b2327', '7347b54e', '73ec551e', '73ffa609', '745e6065', '7494989e', '75ad73ee', '75b0446f', '75b53bd4', '75c13e08', '764d8b42', '76781cd8', '76fb4afb', '7800a084', '7860b64c', '78704d22', '79bd36b6', '7a0136e0', '7a6d26a2', '7b0a4060', '7b543871', '7b8842c3', '7bdbf66f', '7c194077', '7c21ad67', '7c39c8e5', '7ce36c38', '7d8f1716', '7dc65b92', '7e46b693', '7e87087b', '7f26f78c', '7f2715b4', '7f44236f', '7fa51811', '7fa7ccc4', '806d877f', '8078b7de', '807d8908', '80b46ffb', '812f6873', '8148c785', '81a4b826', '81d3ab22', '81feecad', '82ec9747', '83379672', '836b4de3', '83711ef5', '8376acc5', '83846d0c', '83912085', '83eda373', '84875079', '84b7d89d', '855c6099', '857baaa6', '85d99199', '85d9c915', '860f4f9c', '86335468', '863e40c7', '86a8e0d6', '86bd716a', '87050a09', '87af775e', '8823b020', '8875387b', '893293dd', '89739b1a', '897da2c8', '898096eb', '89a26502', '8a44ea3a', '8a4e5d1a', '8a645723', '8a6b6912', '8a77c3e9', '8a9e653f', '8abbbc38', '8ba98f12', '8c0ca955', '8c1f9196', '8c6c52a2', '8cab7bc4', '8d8b8553', '8ddb6b8d', '8e59a69a', '8e749c85', '8e80deb7', '8ec2cc63', '8f015125', '8f21c613', '8f2d131f', '8f753551', '8f9c03c6', '90161e10', '9027c805', '9052579b', '9061cc9c', '9105b812', '9130a22e', '913bea9f', '91656d27', '92293b06', '92622443', '9271574b', '92bb8516', '930c567c', '93559639', '93904b23', '93c06d4c', '93c72a97', '93c93585', '93fd93c4', '93fda84a', '9402b885', '948a7025', '948e1435', '949f94e5', '94a1053b', '9540fa8e', '954a4c2e', '9570bfb7', '95cc96cc', '95d57ff9', '966161e7', '96de5f57', '97bb0cc0', '98413061', '98ed2153', '994ee014', '99b15811', '9a2082cf', '9a5aed6c', '9a7e4c38', '9aa1a2ae', '9ab4909f', '9b328d6c', '9b96b0e4', '9bdd6964', '9c1ea003', '9cba0d0e', '9ce139d3', '9cee3c19', '9cf04c41', '9d0670dd', '9d1b2d2c', '9d65adbf', '9d6b1410', '9dc74359', '9ddb06db', '9ddfb9e6', '9e027e04', '9e052412', '9e171735', '9e4385f7', '9e964060', '9eb283e4', '9ebb73c7', '9f3ca269', '9f70688f', '9f9be55c', '9fa5cdfd', '9fa68512', '9fb96ae3', '9ff73d95', 'a00c85e7', 'a0182b17', 'a0522c83', 'a08ebf6e', 'a148b46f', 'a1942b0b', 'a1ab89aa', 'a221c60c', 'a26c3e8f', 'a28c7891', 'a297d1b9', 'a2994e55', 'a302a015', 'a3391798', 'a3858c6a', 'a3b146ca', 'a3bd8858', 'a402c6c8', 'a40c8316', 'a4481101', 'a4530b41', 'a49eda7f', 'a4e0447e', 'a4f13c0d', 'a5078c62', 'a5099438', 'a5710c0a', 'a5974a7d', 'a5dbb00a', 'a614af1b', 'a65b2226', 'a6969e1a', 'a6fbb2e7', 'a774c63b', 'a7b9546a', 'a808ad0a', 'a814e825', 'a8926a86', 'a8b0428d', 'a8c1aab5', 'a8d9de72', 'a922ef3f', 'a95b4487', 'a9b84b96', 'a9c53cdb', 'aa1700c7', 'aae9800e', 'aaefeff0', 'ab16a20d', 'ab2ad965', 'ab36aa48', 'ab54c39e', 'ab987c75', 'abac67cc', 'abaf745c', 'ac1ad4a7', 'ac3ba541', 'ac66c144', 'ad0bbf35', 'ad380962', 'ad536dea', 'ad9f821d', 'adaf7461', 'adba23f0', 'adbd6839', 'adc2d620', 'ae712150', 'aecc7e74', 'af485add', 'af4f064e', 'b074f33b', 'b08423c5', 'b08f0ca4', 'b120a337', 'b1de4423', 'b1f064ac', 'b23b9220', 'b25abc27', 'b2987a65', 'b2b56219', 'b308c03e', 'b37281d5', 'b3b200af', 'b3f5c066', 'b41cee02', 'b447e66d', 'b452f767', 'b4e69f09', 'b69bf1f7', 'b712b69b', 'b7a61f8d', 'b7c410a9', 'b802aec3', 'b823508b', 'b94ec4a1', 'b95aad8d', 'b9b22bff', 'b9c085ab', 'b9cf3f7c', 'b9e90f7f', 'ba73bc7c', 'bb0d7d92', 'bb808a71', 'bba6ff20', 'bbd71a7c', 'bbe5bedd', 'bc4eaf77', 'bc66f41d', 'bc6bd8b2', 'bd4ccd4c', 'bd8397cb', 'bdbff28b', 'bdcc7d10', 'be210bc7', 'bea525dc', 'bebff291', 'bf31e0a7', 'bfb421f9', 'c00c663c', 'c0442863', 'c09d41cd', 'c0a7d046', 'c0f2a046', 'c1373df0', 'c274a243', 'c294b507', 'c2b40d6f', 'c2e15338', 'c3061b23', 'c308b134', 'c38585c5', 'c38a5c9b', 'c3a3f61e', 'c3a86e3e', 'c3adae87', 'c3d46daf', 'c3dde859', 'c446e1c5', 'c45068a1', 'c4c2076b', 'c5462e87', 'c55187b4', 'c5cfaeae', 'c6313b18', 'c6575d38', 'c6cc7467', 'c6d4b453', 'c6da0d4b', 'c6ead822', 'c731458f', 'c73dd2e4', 'c73f149c', 'c79039af', 'c7d9e964', 'c8270746', 'c829500d', 'c8cc2e1b', 'c8fbbc8a', 'c9600298', 'c96b9609', 'c9879365', 'c9902f48', 'c9dabad5', 'c9e419e7', 'ca3204b0', 'ca33a5e7', 'cadd4ae5', 'cb2752bc', 'cb3b7c3c', 'cb73fed9', 'cba39753', 'cbcf8cf2', 'cd144127', 'cd1fff5a', 'cd39e576', 'cd68643b', 'cd703872', 'cd89d5f1', 'cd8f3c61', 'cda90e9e', 'ce379a6a', 'ce6eeadf', 'cefdb7fe', 'cf1b9d44', 'cfcf9dc9', 'cfe4cf40', 'd05f5d71', 'd08806a2', 'd0ac4f1c', 'd19e1025', 'd28f0d44', 'd2d9b474', 'd3da09e8', 'd445fb74', 'd4d2f272', 'd4d9f7f9', 'd506f4c7', 'd57f6c9e', 'd5a8d9b0', 'd5b089a4', 'd5fde276', 'd6251195', 'd661ddf7', 'd6776176', 'd6cca65e', 'd74e4d7c', 'd77ac332', 'd791703f', 'd8037389', 'd859115e', 'd87e2d01', 'd9c82502', 'da09ed4b', 'da19c97e', 'da5a8921', 'dacc2f83', 'daf3969c', 'db23fbe4', 'db38d1f9', 'db3b1dd1', 'db746de0', 'db9eae59', 'dc33dcef', 'dcfcd574', 'dd689eb0', 'dd747bba', 'de3750cc', 'de3ecca9', 'de742c5c', 'de91310c', 'df4ab9b1', 'df556fd2', 'df98fbb4', 'e0283d3d', 'e0655da2', 'e072b994', 'e0869709', 'e0ad6550', 'e0db55b1', 'e1958a83', 'e1a4575f', 'e1ccc3d1', 'e1e02e28', 'e1ea8dd7', 'e21255e2', 'e23a8a0a', 'e243119c', 'e28c0bfa', 'e315fdd7', 'e328a032', 'e37d000b', 'e3bce7e1', 'e3f71f7a', 'e40319d7', 'e4614ec6', 'e46417a7', 'e4762a2b', 'e4ab3b12', 'e4b47411', 'e4d396d7', 'e4e58096', 'e51193d1', 'e5349ce2', 'e63000c5', 'e683d2c9', 'e7401605', 'e754411f', 'e76ad778', 'e7d08824', 'e88aa867', 'e892aec6', 'e8b64419', 'e8e82627', 'e9ca5586', 'e9d94c4e', 'ea4619ec', 'ea544af3', 'ea7277b4', 'ea7adcd6', 'eaab7a96', 'eb93a46a', 'ebd6f819', 'ebf2b0c9', 'ebf30e46', 'ec13a1b9', 'ec6b57b4', 'ec8f8f95', 'ec9195be', 'ecd25dd1', 'ed0b3906', 'ed711416', 'edb9d0f3', 'ee21612e', 'ee2bf575', 'ee67eb55', 'eeedcd5e', 'eef79620', 'ef07f833', 'ef58dd3c', 'ef9617e7', 'efa35d35', 'f015a18c', 'f028534c', 'f0957ca1', 'f09e7b33', 'f0d76b32', 'f1049268', 'f11e17c0', 'f1baae47', 'f1bd0f59', 'f285b43c', 'f2d4efd8', 'f3020788', 'f32a9580', 'f35b607c', 'f4114031', 'f420b05a', 'f44f1227', 'f47a67cc', 'f47abc42', 'f4d2f5af', 'f57de847', 'f584742f', 'f5ad7abc', 'f5b2acf0', 'f62b317d', 'f64ae747', 'f67908e7', 'f6b719ee', 'f6c0e2b7', 'f6c20447', 'f6cc80a9', 'f6d6f400', 'f6d879aa', 'f74eda33', 'f75c957f', 'f7b1374e', 'f7fc97cf', 'f81598bf', 'f8674e15', 'f869d220', 'f8bf4a1c', 'f8ff0bc8', 'f93010a8', 'f9334e08', 'f9384fa2', 'fa34f945', 'fa3e1e21', 'fa633e39', 'fa9a0add', 'fab75c2c', 'fad07fce', 'fb04f7dd', 'fb3c2c87', 'fb9c5a33', 'fc2c2c08', 'fc41be2f', 'fc49ba65', 'fc8e4de4', 'fd028ecc', 'fd0d9bca', 'fd56e059', 'fdb6b48b', 'fdc11b96', 'fdea7d9e', 'fdf4691f', 'fe3cbf02', 'fe9c71d8', 'fecc07d6', 'ff18b749', 'ffcd4dbd', 'ffed1dd5']\n"
     ]
    }
   ],
   "source": [
    "import pandas as pd\n",
    "\n",
    "# Paths to the CSV files\n",
    "file1 = \"C:/Users/Lenovo/OneDrive/Desktop/SEM 2/ml/project/aggregated_participant_data_modified.csv\"\n",
    "file2 = \"C:/Users/Lenovo/OneDrive/Desktop/SEM 2/ml/project/child-mind-institute-problematic-internet-use/train.csv\"\n",
    "\n",
    "# Load the data into DataFrames\n",
    "df1 = pd.read_csv(file1)\n",
    "df2 = pd.read_csv(file2)\n",
    "\n",
    "# Check if required columns exist in the files\n",
    "if 'participant_id' not in df1.columns:\n",
    "    print(f\"Column 'participant_id' not found in {file1}\")\n",
    "elif 'id' not in df2.columns:\n",
    "    print(f\"Column 'id' not found in {file2}\")\n",
    "else:\n",
    "    # Find matching participant IDs\n",
    "    matching_ids = df1[df1['participant_id'].isin(df2['id'])]\n",
    "\n",
    "    # Print matching participant IDs and count\n",
    "    if not matching_ids.empty:\n",
    "        print(f\"Number of matching participant IDs: {len(matching_ids)}\")\n",
    "        print(\"Matching participant IDs found:\")\n",
    "        print(matching_ids['participant_id'].to_list())\n",
    "    else:\n",
    "        print(\"No matching participant IDs found.\")\n"
   ]
  },
  {
   "cell_type": "code",
   "execution_count": 4,
   "id": "6af7d6be",
   "metadata": {},
   "outputs": [
    {
     "name": "stdout",
     "output_type": "stream",
     "text": [
      "Number of matching participant IDs: 996\n",
      "Matching participant IDs:\n",
      "['00115b9f', '001f3379', '00f332d1', '01085eb3', '012cadd8', '012e3869', '029a19c9', '02cebf33', '02cf7384', '035c96dd', '03a9019b', '0417c91e', '045a0a94', '04afb6f9', '04bb1a76', '04cb2c30', '04d06a9c', '04f094a8', '051680a0', '055156e2', '059eed01', '05bbed1b', '05db1b9b', '05e94f88', '063b16fc', '064e8da5', '0668373f', '067b9287', '06c8b2fb', '06eb8adb', '070386b2', '07048067', '0720320e', '0745c390', '080698b7', '082df556', '08577722', '08660d12', '089a6b19', '09331bb8', '0983654b', '099e3614', '09b29113', '0a418b57', '0a431608', '0b4014f0', '0b50f3fa', '0b518637', '0b7d7aec', '0b7d9da6', '0bd89878', '0bfe4fc9', '0c4e2d68', '0c4eabac', '0c98f822', '0cbe4e54', '0d01bbf2', '0d279d77', '0d4800c8', '0d4fa8f4', '0d570d3e', '0d924604', '0e3b0bd2', '0ec403df', '0ed2a3c8', '0eddd8e5', '0f6b71c4', '0fbb3ca5', '101774f0', '101c27f1', '108b8659', '10ad8c48', '10e46254', '113f5798', '11739de2', '119d7562', '119e181e', '11be5d2e', '11f9b26c', '12380b06', '12a607f6', '1301f65d', '1314bc8c', '137baaec', '13eee030', '13fca10c', '14391970', '144a9a79', '14568d61', '1470a1df', '14a6e58e', '14b3d6e5', '15227eef', '154d1191', '15dbc929', '15f217a6', '15f2e240', '1606f203', '1649ce22', '17c1ae23', '1837456f', '18b8b2f6', '19098ef0', '1911731d', '19455336', '1957153d', '1a803bfe', '1aae1de3', '1aff6762', '1b2eea8f', '1b32427b', '1b329556', '1b5b34bc', '1b6fb363', '1c063ebc', '1c23295e', '1c5ba087', '1cd37b36', '1d78b3c3', '1e08b1dc', '1e5f6199', '1e87baed', '1eda934b', '1eea8df2', '1eedf45e', '1f2164a4', '1f5835cd', '1f65fa82', '1f7bd44c', '1fc07a80', '1fed3943', '214f46e8', '215ca39b', '218faf6f', '21a76448', '21eb6d47', '221e37e0', '22375702', '224fc39a', '22536a61', '22b4191a', '22c72c4e', '22e44415', '22f43a12', '233b9425', '23567787', '23dafdab', '23e024bd', '23e71e7c', '24398aed', '2496c491', '24a3b16d', '24ab10c6', '25849c6c', '25a3a723', '25eba023', '260f542b', '26190ddd', '26aeacdf', '26d541c2', '2760be91', '278e8a51', '27d7e5e4', '2812951b', '2840643b', '2898269f', '28e973b1', '29587a31', '29b37b4a', '29c54890', '2a0b8386', '2a3fcf9a', '2a6a6b92', '2a88cbe9', '2a922ca4', '2a9e0dee', '2ac0bd9f', '2afea280', '2b34dcf3', '2bac0893', '2bbcfd43', '2c2dc20d', '2c3b09db', '2c406043', '2c483245', '2c54d6c5', '2ca2206f', '2cb0db2c', '2cd9b5a3', '2cda86bd', '2d0bbbd3', '2da6bf6e', '2e17c497', '2e5f5207', '2ee0a1e8', '2f154763', '2f16cad4', '2f1af08a', '2f8ec752', '2fba6cf4', '2fef897e', '3065aa2f', '30d2fd47', '31648caa', '31b74cd4', '31d61741', '31f01671', '321202d4', '3216b978', '325afd3d', '3268c574', '327ef356', '32b8490d', '32dcc8ab', '331733c7', '338146bd', '33d60f7d', '33fe1b04', '34362a9a', '34ec5de4', '350cf38b', '350dbeba', '35198c2d', '351cd4ec', '35d2aa41', '35daea65', '35fa2ebf', '36530d36', '36c060b9', '36c1f189', '372a7950', '37995242', '37ae1239', '37bcfa7e', '380029ef', '3826be66', '384c3f27', '3875d4de', '38cccd6d', '38d53b92', '3950aa00', '397efe7a', '3983d3cd', '39fb1ad0', '3a594acf', '3ab539f0', '3acb5be3', '3b091b83', '3b1b9538', '3ba48ca7', '3c0aba64', '3c2cf08e', '3c620257', '3c8f474a', '3ca35642', '3d36fe8b', '3d3b87db', '3d3dd3ae', '3d48430d', '3d6143f3', '3d736110', '3d970ce4', '3e398bf9', '3e5d5b58', '3e5ee48c', '3f1cf5ba', '3f1f23e7', '3fcef947', '40087bc5', '408bed19', '40aae75f', '416b6ba2', '4177e5e5', '419d05c6', '427037b2', '4280076d', '428970d4', '428c37ea', '429cc266', '4307d287', '432aff11', '43629a34', '436dd613', '43720c15', '43a7386d', '43f44f6c', '43f5d3c5', '440acf4f', '4442c376', '4570c8b8', '464a75fb', '467c549f', '47240aa3', '47350ac6', '481a1861', '4859a9f9', '48db8ecf', '48df987b', '48e69212', '4926b18a', '4940a214', '4950e24c', '49a1931d', '49e4eade', '4a1440d9', '4a17b463', '4a475a9f', '4a4a0f78', '4a62661a', '4a6af685', '4a9f92ca', '4aa87859', '4b0f961e', '4b3c7594', '4b71830a', '4bc2bee9', '4ca242ea', '4cabd7aa', '4cde1e34', '4d19854c', '4d5a8ce7', '4d61a44e', '4dc4ed56', '4decbcd8', '4dfb4e1d', '4e6c7a75', '4e85505f', '4f059221', '4f20b188', '4fd7e043', '50707f1e', '50b2b84b', '5124169c', '5132511c', '51364c23', '51f38b37', '5264bb0e', '526f719b', '52ce9b8b', '52e9e467', '537dc410', '53814642', '53905a2c', '54391716', '54945f30', '54fef303', '554e46e9', '55f9338e', '563ebc00', '56cb7161', '56d9dead', '56ef356c', '5779f2e9', '579e50bd', '57c4f2b4', '57de6095', '57f6fa6c', '58391429', '58ada72e', '58dfccdb', '5985f299', '5a313293', '5af79adb', '5b2c9b83', '5b66b6f2', '5b9ff85e', '5c186496', '5c22f241', '5c2c136d', '5cd83147', '5d3b6ea5', '5d762840', '5d885b20', '5ddbac80', '5e359a08', '5e55e9fd', '5e57bd12', '5ea2c305', '5ed5f205', '5ee595e8', '5ef3d64e', '5f099188', '5f1b07e1', '5f37ceb1', '5f574f3d', '5f7537cf', '5f78f7b9', '5f9dddb4', '60c1ff37', '613fc399', '6187d0dc', '6197a2ce', '621066ff', '6247cc15', '6282e693', '62b873a2', '62cd5c74', '63d4ab9a', '63fc9770', '641697e6', '649ff6d9', '64b4005d', '64ed48c4', '658e66ec', '6595d479', '659fec57', '65fe69c0', '6699c999', '66f619e3', '677038b5', '6774ba64', '678598dd', '6795027a', '6826f0be', '685cc0f1', '687c85e7', '68be3d5c', '68fa4631', '697c41d7', '69b65679', '6a16089d', '6a2fd807', '6a4df6ff', '6a864b11', '6abd21d4', '6ac5763a', '6ac5eaaf', '6b6467f4', '6b773506', '6c0fe935', '6c2edc91', '6c6cd633', '6c737069', '6d5944a9', '6d707ac3', '6dfe4a75', '6e128c6b', '6e1d28b6', '6e85a624', '6e9beaee', '6ebfdc95', '6f49c8d0', '6f5677b7', '6fb28c2a', '6fcdcb2a', '7015528d', '709457f3', '70de1c63', '71850348', '71852781', '7187caec', '71c1b1d2', '71ee31f8', '721ea536', '7265f1e5', '72a0c969', '72c9c38d', '732b2327', '7347b54e', '73ec551e', '73ffa609', '745e6065', '7494989e', '75ad73ee', '75b0446f', '75b53bd4', '75c13e08', '764d8b42', '76781cd8', '76fb4afb', '7800a084', '7860b64c', '78704d22', '79bd36b6', '7a0136e0', '7a6d26a2', '7b0a4060', '7b543871', '7b8842c3', '7bdbf66f', '7c194077', '7c21ad67', '7c39c8e5', '7ce36c38', '7d8f1716', '7dc65b92', '7e46b693', '7e87087b', '7f26f78c', '7f2715b4', '7f44236f', '7fa51811', '7fa7ccc4', '806d877f', '8078b7de', '807d8908', '80b46ffb', '812f6873', '8148c785', '81a4b826', '81d3ab22', '81feecad', '82ec9747', '83379672', '836b4de3', '83711ef5', '8376acc5', '83846d0c', '83912085', '83eda373', '84875079', '84b7d89d', '855c6099', '857baaa6', '85d99199', '85d9c915', '860f4f9c', '86335468', '863e40c7', '86a8e0d6', '86bd716a', '87050a09', '87af775e', '8823b020', '8875387b', '893293dd', '89739b1a', '897da2c8', '898096eb', '89a26502', '8a44ea3a', '8a4e5d1a', '8a645723', '8a6b6912', '8a77c3e9', '8a9e653f', '8abbbc38', '8ba98f12', '8c0ca955', '8c1f9196', '8c6c52a2', '8cab7bc4', '8d8b8553', '8ddb6b8d', '8e59a69a', '8e749c85', '8e80deb7', '8ec2cc63', '8f015125', '8f21c613', '8f2d131f', '8f753551', '8f9c03c6', '90161e10', '9027c805', '9052579b', '9061cc9c', '9105b812', '9130a22e', '913bea9f', '91656d27', '92293b06', '92622443', '9271574b', '92bb8516', '930c567c', '93559639', '93904b23', '93c06d4c', '93c72a97', '93c93585', '93fd93c4', '93fda84a', '9402b885', '948a7025', '948e1435', '949f94e5', '94a1053b', '9540fa8e', '954a4c2e', '9570bfb7', '95cc96cc', '95d57ff9', '966161e7', '96de5f57', '97bb0cc0', '98413061', '98ed2153', '994ee014', '99b15811', '9a2082cf', '9a5aed6c', '9a7e4c38', '9aa1a2ae', '9ab4909f', '9b328d6c', '9b96b0e4', '9bdd6964', '9c1ea003', '9cba0d0e', '9ce139d3', '9cee3c19', '9cf04c41', '9d0670dd', '9d1b2d2c', '9d65adbf', '9d6b1410', '9dc74359', '9ddb06db', '9ddfb9e6', '9e027e04', '9e052412', '9e171735', '9e4385f7', '9e964060', '9eb283e4', '9ebb73c7', '9f3ca269', '9f70688f', '9f9be55c', '9fa5cdfd', '9fa68512', '9fb96ae3', '9ff73d95', 'a00c85e7', 'a0182b17', 'a0522c83', 'a08ebf6e', 'a148b46f', 'a1942b0b', 'a1ab89aa', 'a221c60c', 'a26c3e8f', 'a28c7891', 'a297d1b9', 'a2994e55', 'a302a015', 'a3391798', 'a3858c6a', 'a3b146ca', 'a3bd8858', 'a402c6c8', 'a40c8316', 'a4481101', 'a4530b41', 'a49eda7f', 'a4e0447e', 'a4f13c0d', 'a5078c62', 'a5099438', 'a5710c0a', 'a5974a7d', 'a5dbb00a', 'a614af1b', 'a65b2226', 'a6969e1a', 'a6fbb2e7', 'a774c63b', 'a7b9546a', 'a808ad0a', 'a814e825', 'a8926a86', 'a8b0428d', 'a8c1aab5', 'a8d9de72', 'a922ef3f', 'a95b4487', 'a9b84b96', 'a9c53cdb', 'aa1700c7', 'aae9800e', 'aaefeff0', 'ab16a20d', 'ab2ad965', 'ab36aa48', 'ab54c39e', 'ab987c75', 'abac67cc', 'abaf745c', 'ac1ad4a7', 'ac3ba541', 'ac66c144', 'ad0bbf35', 'ad380962', 'ad536dea', 'ad9f821d', 'adaf7461', 'adba23f0', 'adbd6839', 'adc2d620', 'ae712150', 'aecc7e74', 'af485add', 'af4f064e', 'b074f33b', 'b08423c5', 'b08f0ca4', 'b120a337', 'b1de4423', 'b1f064ac', 'b23b9220', 'b25abc27', 'b2987a65', 'b2b56219', 'b308c03e', 'b37281d5', 'b3b200af', 'b3f5c066', 'b41cee02', 'b447e66d', 'b452f767', 'b4e69f09', 'b69bf1f7', 'b712b69b', 'b7a61f8d', 'b7c410a9', 'b802aec3', 'b823508b', 'b94ec4a1', 'b95aad8d', 'b9b22bff', 'b9c085ab', 'b9cf3f7c', 'b9e90f7f', 'ba73bc7c', 'bb0d7d92', 'bb808a71', 'bba6ff20', 'bbd71a7c', 'bbe5bedd', 'bc4eaf77', 'bc66f41d', 'bc6bd8b2', 'bd4ccd4c', 'bd8397cb', 'bdbff28b', 'bdcc7d10', 'be210bc7', 'bea525dc', 'bebff291', 'bf31e0a7', 'bfb421f9', 'c00c663c', 'c0442863', 'c09d41cd', 'c0a7d046', 'c0f2a046', 'c1373df0', 'c274a243', 'c294b507', 'c2b40d6f', 'c2e15338', 'c3061b23', 'c308b134', 'c38585c5', 'c38a5c9b', 'c3a3f61e', 'c3a86e3e', 'c3adae87', 'c3d46daf', 'c3dde859', 'c446e1c5', 'c45068a1', 'c4c2076b', 'c5462e87', 'c55187b4', 'c5cfaeae', 'c6313b18', 'c6575d38', 'c6cc7467', 'c6d4b453', 'c6da0d4b', 'c6ead822', 'c731458f', 'c73dd2e4', 'c73f149c', 'c79039af', 'c7d9e964', 'c8270746', 'c829500d', 'c8cc2e1b', 'c8fbbc8a', 'c9600298', 'c96b9609', 'c9879365', 'c9902f48', 'c9dabad5', 'c9e419e7', 'ca3204b0', 'ca33a5e7', 'cadd4ae5', 'cb2752bc', 'cb3b7c3c', 'cb73fed9', 'cba39753', 'cbcf8cf2', 'cd144127', 'cd1fff5a', 'cd39e576', 'cd68643b', 'cd703872', 'cd89d5f1', 'cd8f3c61', 'cda90e9e', 'ce379a6a', 'ce6eeadf', 'cefdb7fe', 'cf1b9d44', 'cfcf9dc9', 'cfe4cf40', 'd05f5d71', 'd08806a2', 'd0ac4f1c', 'd19e1025', 'd28f0d44', 'd2d9b474', 'd3da09e8', 'd445fb74', 'd4d2f272', 'd4d9f7f9', 'd506f4c7', 'd57f6c9e', 'd5a8d9b0', 'd5b089a4', 'd5fde276', 'd6251195', 'd661ddf7', 'd6776176', 'd6cca65e', 'd74e4d7c', 'd77ac332', 'd791703f', 'd8037389', 'd859115e', 'd87e2d01', 'd9c82502', 'da09ed4b', 'da19c97e', 'da5a8921', 'dacc2f83', 'daf3969c', 'db23fbe4', 'db38d1f9', 'db3b1dd1', 'db746de0', 'db9eae59', 'dc33dcef', 'dcfcd574', 'dd689eb0', 'dd747bba', 'de3750cc', 'de3ecca9', 'de742c5c', 'de91310c', 'df4ab9b1', 'df556fd2', 'df98fbb4', 'e0283d3d', 'e0655da2', 'e072b994', 'e0869709', 'e0ad6550', 'e0db55b1', 'e1958a83', 'e1a4575f', 'e1ccc3d1', 'e1e02e28', 'e1ea8dd7', 'e21255e2', 'e23a8a0a', 'e243119c', 'e28c0bfa', 'e315fdd7', 'e328a032', 'e37d000b', 'e3bce7e1', 'e3f71f7a', 'e40319d7', 'e4614ec6', 'e46417a7', 'e4762a2b', 'e4ab3b12', 'e4b47411', 'e4d396d7', 'e4e58096', 'e51193d1', 'e5349ce2', 'e63000c5', 'e683d2c9', 'e7401605', 'e754411f', 'e76ad778', 'e7d08824', 'e88aa867', 'e892aec6', 'e8b64419', 'e8e82627', 'e9ca5586', 'e9d94c4e', 'ea4619ec', 'ea544af3', 'ea7277b4', 'ea7adcd6', 'eaab7a96', 'eb93a46a', 'ebd6f819', 'ebf2b0c9', 'ebf30e46', 'ec13a1b9', 'ec6b57b4', 'ec8f8f95', 'ec9195be', 'ecd25dd1', 'ed0b3906', 'ed711416', 'edb9d0f3', 'ee21612e', 'ee2bf575', 'ee67eb55', 'eeedcd5e', 'eef79620', 'ef07f833', 'ef58dd3c', 'ef9617e7', 'efa35d35', 'f015a18c', 'f028534c', 'f0957ca1', 'f09e7b33', 'f0d76b32', 'f1049268', 'f11e17c0', 'f1baae47', 'f1bd0f59', 'f285b43c', 'f2d4efd8', 'f3020788', 'f32a9580', 'f35b607c', 'f4114031', 'f420b05a', 'f44f1227', 'f47a67cc', 'f47abc42', 'f4d2f5af', 'f57de847', 'f584742f', 'f5ad7abc', 'f5b2acf0', 'f62b317d', 'f64ae747', 'f67908e7', 'f6b719ee', 'f6c0e2b7', 'f6c20447', 'f6cc80a9', 'f6d6f400', 'f6d879aa', 'f74eda33', 'f75c957f', 'f7b1374e', 'f7fc97cf', 'f81598bf', 'f8674e15', 'f869d220', 'f8bf4a1c', 'f8ff0bc8', 'f93010a8', 'f9334e08', 'f9384fa2', 'fa34f945', 'fa3e1e21', 'fa633e39', 'fa9a0add', 'fab75c2c', 'fad07fce', 'fb04f7dd', 'fb3c2c87', 'fb9c5a33', 'fc2c2c08', 'fc41be2f', 'fc49ba65', 'fc8e4de4', 'fd028ecc', 'fd0d9bca', 'fd56e059', 'fdb6b48b', 'fdc11b96', 'fdea7d9e', 'fdf4691f', 'fe3cbf02', 'fe9c71d8', 'fecc07d6', 'ff18b749', 'ffcd4dbd', 'ffed1dd5']\n",
      "Matching 'sii' values:\n",
      "            id  sii\n",
      "3     00115b9f  1.0\n",
      "5     001f3379  1.0\n",
      "20    00f332d1  1.0\n",
      "22    01085eb3  0.0\n",
      "25    012cadd8  0.0\n",
      "...        ...  ...\n",
      "3945  fe9c71d8  0.0\n",
      "3947  fecc07d6  0.0\n",
      "3951  ff18b749  0.0\n",
      "3957  ffcd4dbd  1.0\n",
      "3958  ffed1dd5  0.0\n",
      "\n",
      "[996 rows x 2 columns]\n",
      "Number of null values in 'sii': 0\n"
     ]
    }
   ],
   "source": [
    "import pandas as pd\n",
    "\n",
    "# Paths to the CSV files\n",
    "file1 = \"C:/Users/Lenovo/OneDrive/Desktop/SEM 2/ml/project/aggregated_participant_data_modified.csv\"\n",
    "file2 = \"C:/Users/Lenovo/OneDrive/Desktop/SEM 2/ml/project/child-mind-institute-problematic-internet-use/train.csv\"\n",
    "\n",
    "# Load the data into DataFrames\n",
    "df1 = pd.read_csv(file1)\n",
    "df2 = pd.read_csv(file2)\n",
    "\n",
    "# Check if required columns exist in the files\n",
    "if 'participant_id' not in df1.columns:\n",
    "    print(f\"Column 'participant_id' not found in {file1}\")\n",
    "elif 'id' not in df2.columns:\n",
    "    print(f\"Column 'id' not found in {file2}\")\n",
    "else:\n",
    "    # Find matching participant IDs\n",
    "    matching_ids = df1[df1['participant_id'].isin(df2['id'])]\n",
    "    \n",
    "    if not matching_ids.empty:\n",
    "        print(f\"Number of matching participant IDs: {len(matching_ids)}\")\n",
    "        print(\"Matching participant IDs:\")\n",
    "        print(matching_ids['participant_id'].to_list())\n",
    "        \n",
    "        # Extract corresponding rows from the second file\n",
    "        matched_rows = df2[df2['id'].isin(matching_ids['participant_id'])]\n",
    "        \n",
    "        # Print 'sii' values\n",
    "        if 'sii' in matched_rows.columns:\n",
    "            print(\"Matching 'sii' values:\")\n",
    "            print(matched_rows[['id', 'sii']])\n",
    "            \n",
    "            # Count and print the number of null values in 'sii'\n",
    "            null_count = matched_rows['sii'].isnull().sum()\n",
    "            print(f\"Number of null values in 'sii': {null_count}\")\n",
    "        else:\n",
    "            print(\"Column 'sii' not found in the second file.\")\n",
    "    else:\n",
    "        print(\"No matching participant IDs found.\")\n"
   ]
  },
  {
   "cell_type": "code",
   "execution_count": 5,
   "id": "fa6b2789",
   "metadata": {},
   "outputs": [
    {
     "name": "stdout",
     "output_type": "stream",
     "text": [
      "CSV file created successfully at C:/Users/Lenovo/OneDrive/Desktop/SEM 2/ml/project/participant_sii_mapping.csv\n"
     ]
    }
   ],
   "source": [
    "import pandas as pd\n",
    "\n",
    "# Paths to the CSV files\n",
    "file1 = \"C:/Users/Lenovo/OneDrive/Desktop/SEM 2/ml/project/aggregated_participant_data_modified.csv\"\n",
    "file2 = \"C:/Users/Lenovo/OneDrive/Desktop/SEM 2/ml/project/child-mind-institute-problematic-internet-use/train.csv\"\n",
    "output_file =\"C:/Users/Lenovo/OneDrive/Desktop/SEM 2/ml/project/participant_sii_mapping.csv\"\n",
    "\n",
    "# Load the data into DataFrames\n",
    "df1 = pd.read_csv(file1)\n",
    "df2 = pd.read_csv(file2)\n",
    "\n",
    "# Check if required columns exist in the files\n",
    "if 'participant_id' not in df1.columns:\n",
    "    print(f\"Column 'participant_id' not found in {file1}\")\n",
    "elif 'id' not in df2.columns or 'sii' not in df2.columns:\n",
    "    print(f\"Required columns ('id' and 'sii') not found in {file2}\")\n",
    "else:\n",
    "    # Merge the data on participant_id and id\n",
    "    merged_df = pd.merge(df1, df2, left_on='participant_id', right_on='id', how='left')\n",
    "    \n",
    "    # Select only the participant_id and sii columns\n",
    "    output_df = merged_df[['participant_id', 'sii']]\n",
    "    \n",
    "    # Save the resulting DataFrame to a CSV file\n",
    "    output_df.to_csv(output_file, index=False)\n",
    "    \n",
    "    print(f\"CSV file created successfully at {output_file}\")\n"
   ]
  },
  {
   "cell_type": "code",
   "execution_count": null,
   "id": "970f868c",
   "metadata": {},
   "outputs": [],
   "source": [
    "This file has code for mapping the participantids in actigraphy data and csv also for checking for their sii and null values in sii"
   ]
  }
 ],
 "metadata": {
  "kernelspec": {
   "display_name": "Python 3 (ipykernel)",
   "language": "python",
   "name": "python3"
  },
  "language_info": {
   "codemirror_mode": {
    "name": "ipython",
    "version": 3
   },
   "file_extension": ".py",
   "mimetype": "text/x-python",
   "name": "python",
   "nbconvert_exporter": "python",
   "pygments_lexer": "ipython3",
   "version": "3.11.5"
  }
 },
 "nbformat": 4,
 "nbformat_minor": 5
}

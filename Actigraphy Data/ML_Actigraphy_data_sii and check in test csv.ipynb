{
 "cells": [
  {
   "cell_type": "code",
   "execution_count": 1,
   "id": "ae6a460c",
   "metadata": {},
   "outputs": [
    {
     "name": "stdout",
     "output_type": "stream",
     "text": [
      "Number of matching participant IDs: 2\n",
      "Matching participant IDs:\n",
      "['00115b9f', '001f3379']\n",
      "Column 'sii' not found in the second file.\n"
     ]
    }
   ],
   "source": [
    "import pandas as pd\n",
    "\n",
    "# Paths to the CSV files\n",
    "file1 = \"C:/Users/Lenovo/OneDrive/Desktop/SEM 2/ml/project/aggregated_participant_data_modified.csv\"\n",
    "file2 = \"C:/Users/Lenovo/OneDrive/Desktop/SEM 2/ml/project/child-mind-institute-problematic-internet-use/test.csv\"\n",
    "\n",
    "# Loaded the data into DataFrames\n",
    "df1 = pd.read_csv(file1)\n",
    "df2 = pd.read_csv(file2)\n",
    "\n",
    "# Checked if required columns exist in the files\n",
    "if 'participant_id' not in df1.columns:\n",
    "    print(f\"Column 'participant_id' not found in {file1}\")\n",
    "elif 'id' not in df2.columns:\n",
    "    print(f\"Column 'id' not found in {file2}\")\n",
    "else:\n",
    "    # Found matching participant IDs\n",
    "    matching_ids = df1[df1['participant_id'].isin(df2['id'])]\n",
    "    \n",
    "    if not matching_ids.empty:\n",
    "        print(f\"Number of matching participant IDs: {len(matching_ids)}\")\n",
    "        print(\"Matching participant IDs:\")\n",
    "        print(matching_ids['participant_id'].to_list())\n",
    "        \n",
    "        # Extracted corresponding rows from the second file\n",
    "        matched_rows = df2[df2['id'].isin(matching_ids['participant_id'])]\n",
    "        \n",
    "        # Printed 'sii' values\n",
    "        if 'sii' in matched_rows.columns:\n",
    "            print(\"Matching 'sii' values:\")\n",
    "            print(matched_rows[['id', 'sii']])\n",
    "            \n",
    "            # Counted and print the number of null values in 'sii'\n",
    "            null_count = matched_rows['sii'].isnull().sum()\n",
    "            print(f\"Number of null values in 'sii': {null_count}\")\n",
    "        else:\n",
    "            print(\"Column 'sii' not found in the second file.\")\n",
    "    else:\n",
    "        print(\"No matching participant IDs found.\")\n"
   ]
  },
  {
   "cell_type": "code",
   "execution_count": null,
   "id": "dfe6fb3c",
   "metadata": {},
   "outputs": [],
   "source": []
  }
 ],
 "metadata": {
  "kernelspec": {
   "display_name": "Python 3 (ipykernel)",
   "language": "python",
   "name": "python3"
  },
  "language_info": {
   "codemirror_mode": {
    "name": "ipython",
    "version": 3
   },
   "file_extension": ".py",
   "mimetype": "text/x-python",
   "name": "python",
   "nbconvert_exporter": "python",
   "pygments_lexer": "ipython3",
   "version": "3.11.5"
  }
 },
 "nbformat": 4,
 "nbformat_minor": 5
}

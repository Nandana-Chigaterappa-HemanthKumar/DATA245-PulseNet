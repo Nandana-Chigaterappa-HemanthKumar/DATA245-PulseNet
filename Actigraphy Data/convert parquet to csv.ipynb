{
 "cells": [
  {
   "cell_type": "code",
   "execution_count": null,
   "id": "61b50bcf",
   "metadata": {},
   "outputs": [],
   "source": [
    "import pandas as pd\n",
    "\n",
    "# Load the Parquet file\n",
    "parquet_file = 'C:/Users/Lenovo/Downloads/child-mind-institute-problematic-internet-use/series_train.parquet'  # Path to your Parquet file\n",
    "df = pd.read_parquet(parquet_file)\n",
    "\n",
    "# Convert to CSV\n",
    "csv_file = 'output.csv'  # Desired path for the output CSV file\n",
    "df.to_csv(csv_file, index=False)\n",
    "\n",
    "print(f\"Parquet data has been successfully converted to {csv_file}\")\n"
   ]
  },
  {
   "cell_type": "code",
   "execution_count": null,
   "id": "cc6c94b7",
   "metadata": {},
   "outputs": [],
   "source": []
  }
 ],
 "metadata": {
  "kernelspec": {
   "display_name": "Python 3 (ipykernel)",
   "language": "python",
   "name": "python3"
  },
  "language_info": {
   "codemirror_mode": {
    "name": "ipython",
    "version": 3
   },
   "file_extension": ".py",
   "mimetype": "text/x-python",
   "name": "python",
   "nbconvert_exporter": "python",
   "pygments_lexer": "ipython3",
   "version": "3.11.5"
  }
 },
 "nbformat": 4,
 "nbformat_minor": 5
}

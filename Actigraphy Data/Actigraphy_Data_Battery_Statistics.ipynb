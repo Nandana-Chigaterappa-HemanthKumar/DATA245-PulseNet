{
 "cells": [
  {
   "cell_type": "markdown",
   "id": "957b3a79-2a78-4002-868f-0f36d4bedd38",
   "metadata": {},
   "source": [
    "Determing the threshold for the Battery Level across all participants:"
   ]
  },
  {
   "cell_type": "code",
   "execution_count": 19,
   "id": "3346fb5c-2a5a-4775-8ef3-3d7007949d55",
   "metadata": {},
   "outputs": [
    {
     "name": "stdout",
     "output_type": "stream",
     "text": [
      "Battery Statistics Across Sample Participants:\n",
      "            id  mean_battery  median_battery  25th_percentile  min_battery\n",
      "0    2fef897e   3840.489746          3812.0      3741.000000  3098.166748\n",
      "1    90161e10   3845.631592          3812.0      3747.000000  3098.166748\n",
      "2    49e4eade   3836.187500          3806.0      3739.166748  3098.166748\n",
      "3    31b74cd4   3847.067139          3818.0      3741.000000  3098.166748\n",
      "4    d8037389   3801.283203          3800.0      3741.000000  3098.166748\n",
      "..        ...           ...             ...              ...          ...\n",
      "991  1649ce22   3889.106445          3853.0      3788.000000  3683.000000\n",
      "992  ba73bc7c   3791.461182          3788.0      3730.000000  3098.166748\n",
      "993  6e9beaee   3832.606934          3806.0      3741.000000  3098.166748\n",
      "994  b3f5c066   3850.967285          3818.0      3752.062439  3098.166748\n",
      "995  6ac5763a   3844.443604          3816.0      3741.000000  3098.166748\n",
      "\n",
      "[996 rows x 5 columns]\n",
      "Global Battery Threshold (Average 25th Percentile): 3785.08 mV\n"
     ]
    }
   ],
   "source": [
    "import os\n",
    "import pandas as pd\n",
    "import random\n",
    "\n",
    "# Defining the path to the train folder\n",
    "TRAIN_DIR = '/Users/nandana_hemanth/Documents/Semester II/DATA 245/Project/Dataset/child-mind-institute-problematic-internet-use/series_train.parquet'\n",
    "# Step 1: Getting a list of all participant folders in the train directory\n",
    "participant_folders = [f for f in os.listdir(TRAIN_DIR) if os.path.isdir(os.path.join(TRAIN_DIR, f))]\n",
    "\n",
    "# Step 2: Taking the entire participant train participant set\n",
    "sample_size = 996\n",
    "sampled_folders = random.sample(participant_folders, sample_size)\n",
    "battery_data = []\n",
    "\n",
    "# Step 3: Analyzing Battery Levels for each sampled participant\n",
    "for folder in sampled_folders:\n",
    "    # Constructing the path to the parquet file within each folder\n",
    "    file_path = os.path.join(TRAIN_DIR, folder, 'part-0.parquet')\n",
    "    \n",
    "    # Loading the parquet file for the participant\n",
    "    series_data = pd.read_parquet(file_path)\n",
    "    \n",
    "    # Checking if the required columns are present\n",
    "    if 'time_of_day' in series_data.columns and 'relative_date_PCIAT' in series_data.columns:\n",
    "        # Creating continuous time scale\n",
    "        series_data['time_of_day_hours'] = series_data['time_of_day'] / 1e9 / 3600  # Convrting nanoseconds to hours\n",
    "        series_data['day_time'] = series_data['relative_date_PCIAT'] + (series_data['time_of_day_hours'] / 24)\n",
    "\n",
    "        # Extracting battery voltage statistics\n",
    "        battery_stats = series_data['battery_voltage'].describe()\n",
    "        battery_data.append({\n",
    "            'id': folder.split('=')[-1],  # Extracting participant ID from folder name\n",
    "            'mean_battery': battery_stats['mean'],\n",
    "            'median_battery': battery_stats['50%'],\n",
    "            '25th_percentile': battery_stats['25%'],\n",
    "            'min_battery': battery_stats['min']\n",
    "        })\n",
    "    else:\n",
    "        print(f\"Missing required columns in {folder}. Skipping this participant.\")\n",
    "\n",
    "# Step 4: Converting battery statistics data into a DataFrame\n",
    "battery_df = pd.DataFrame(battery_data)\n",
    "print(\"Battery Statistics Across Sample Participants:\\n\", battery_df)\n",
    "\n",
    "# Step 5: Determining a global battery threshold\n",
    "global_battery_threshold = battery_df['25th_percentile'].mean()  # Considering the average of the 25th percentile as threshold\n",
    "print(f\"Global Battery Threshold (Average 25th Percentile): {global_battery_threshold:.2f} mV\")"
   ]
  }
 ],
 "metadata": {
  "kernelspec": {
   "display_name": "Python 3 (ipykernel)",
   "language": "python",
   "name": "python3"
  },
  "language_info": {
   "codemirror_mode": {
    "name": "ipython",
    "version": 3
   },
   "file_extension": ".py",
   "mimetype": "text/x-python",
   "name": "python",
   "nbconvert_exporter": "python",
   "pygments_lexer": "ipython3",
   "version": "3.11.7"
  }
 },
 "nbformat": 4,
 "nbformat_minor": 5
}

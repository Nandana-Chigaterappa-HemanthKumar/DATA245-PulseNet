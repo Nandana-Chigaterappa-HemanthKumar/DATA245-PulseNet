{
 "cells": [
  {
   "cell_type": "code",
   "execution_count": 81,
   "id": "419224d6",
   "metadata": {},
   "outputs": [],
   "source": [
    "import pandas as pd\n",
    "import numpy as np\n",
    "import matplotlib.pyplot as plt\n",
    "import matplotlib.gridspec as gridspec\n",
    "import seaborn as sns\n",
    "import warnings\n",
    "from scipy.stats import pearsonr, spearmanr"
   ]
  },
  {
   "cell_type": "code",
   "execution_count": 82,
   "id": "bedf4fdd",
   "metadata": {},
   "outputs": [
    {
     "name": "stdout",
     "output_type": "stream",
     "text": [
      "Index(['id', 'Basic_Demos-Age', 'Basic_Demos-Sex', 'SDS-SDS_Total_T',\n",
      "       'PreInt_EduHx-computerinternet_hoursday'],\n",
      "      dtype='object')\n"
     ]
    }
   ],
   "source": [
    "#Reading Cleaned data\n",
    "test1 = pd.read_csv(r'C:\\Users\\samhi\\OneDrive - sjsu.edu\\Documents\\sjsu\\Fall_24\\ML\\GWAR\\Dataset\\filtered_test_data.csv')\n",
    "print(test1.columns)"
   ]
  },
  {
   "cell_type": "code",
   "execution_count": 83,
   "id": "025402be",
   "metadata": {},
   "outputs": [
    {
     "data": {
      "text/plain": [
       "(20, 5)"
      ]
     },
     "execution_count": 83,
     "metadata": {},
     "output_type": "execute_result"
    }
   ],
   "source": [
    "test1.shape"
   ]
  },
  {
   "cell_type": "code",
   "execution_count": 84,
   "id": "bd98eb9c",
   "metadata": {},
   "outputs": [
    {
     "name": "stdout",
     "output_type": "stream",
     "text": [
      "Index(['id', 'Basic_Demos-Enroll_Season', 'Basic_Demos-Age', 'Basic_Demos-Sex',\n",
      "       'CGAS-Season', 'CGAS-CGAS_Score', 'Physical-Season', 'Physical-BMI',\n",
      "       'Physical-Height', 'Physical-Weight', 'Physical-Waist_Circumference',\n",
      "       'Physical-Diastolic_BP', 'Physical-HeartRate', 'Physical-Systolic_BP',\n",
      "       'Fitness_Endurance-Season', 'Fitness_Endurance-Max_Stage',\n",
      "       'Fitness_Endurance-Time_Mins', 'Fitness_Endurance-Time_Sec',\n",
      "       'FGC-Season', 'FGC-FGC_CU', 'FGC-FGC_CU_Zone', 'FGC-FGC_GSND',\n",
      "       'FGC-FGC_GSND_Zone', 'FGC-FGC_GSD', 'FGC-FGC_GSD_Zone', 'FGC-FGC_PU',\n",
      "       'FGC-FGC_PU_Zone', 'FGC-FGC_SRL', 'FGC-FGC_SRL_Zone', 'FGC-FGC_SRR',\n",
      "       'FGC-FGC_SRR_Zone', 'FGC-FGC_TL', 'FGC-FGC_TL_Zone', 'BIA-Season',\n",
      "       'BIA-BIA_Activity_Level_num', 'BIA-BIA_BMC', 'BIA-BIA_BMI',\n",
      "       'BIA-BIA_BMR', 'BIA-BIA_DEE', 'BIA-BIA_ECW', 'BIA-BIA_FFM',\n",
      "       'BIA-BIA_FFMI', 'BIA-BIA_FMI', 'BIA-BIA_Fat', 'BIA-BIA_Frame_num',\n",
      "       'BIA-BIA_ICW', 'BIA-BIA_LDM', 'BIA-BIA_LST', 'BIA-BIA_SMM',\n",
      "       'BIA-BIA_TBW', 'PAQ_A-Season', 'PAQ_A-PAQ_A_Total', 'PAQ_C-Season',\n",
      "       'PAQ_C-PAQ_C_Total', 'SDS-Season', 'SDS-SDS_Total_Raw',\n",
      "       'SDS-SDS_Total_T', 'PreInt_EduHx-Season',\n",
      "       'PreInt_EduHx-computerinternet_hoursday'],\n",
      "      dtype='object')\n"
     ]
    }
   ],
   "source": [
    "test2=pd.read_csv(r'C:\\Users\\samhi\\OneDrive - sjsu.edu\\Documents\\sjsu\\Fall_24\\ML\\GWAR\\Dataset\\test.csv')\n",
    "print(test2.columns)"
   ]
  },
  {
   "cell_type": "code",
   "execution_count": 85,
   "id": "9709f5dd",
   "metadata": {},
   "outputs": [
    {
     "name": "stdout",
     "output_type": "stream",
     "text": [
      "Index(['id', 'Basic_Demos-Age', 'Basic_Demos-Sex', 'CGAS-CGAS_Score',\n",
      "       'Physical-BMI', 'Physical-Height', 'Physical-Weight',\n",
      "       'Fitness_Endurance-Max_Stage', 'Fitness_Endurance-Time_Mins',\n",
      "       'Fitness_Endurance-Time_Sec', 'FGC-FGC_CU_Zone', 'FGC-FGC_GSND_Zone',\n",
      "       'FGC-FGC_GSD_Zone', 'FGC-FGC_PU_Zone', 'FGC-FGC_SRL_Zone',\n",
      "       'FGC-FGC_SRR_Zone', 'FGC-FGC_TL_Zone', 'BIA-BIA_Activity_Level_num',\n",
      "       'BIA-BIA_BMC', 'BIA-BIA_BMI', 'BIA-BIA_BMR', 'BIA-BIA_DEE',\n",
      "       'BIA-BIA_ECW', 'BIA-BIA_FFM', 'BIA-BIA_FFMI', 'BIA-BIA_FMI',\n",
      "       'BIA-BIA_Fat', 'BIA-BIA_Frame_num', 'BIA-BIA_ICW', 'BIA-BIA_LDM',\n",
      "       'BIA-BIA_LST', 'BIA-BIA_SMM', 'BIA-BIA_TBW', 'PAQ_A-PAQ_A_Total'],\n",
      "      dtype='object')\n"
     ]
    }
   ],
   "source": [
    "columns_to_drop = [\n",
    "    \"Physical-Season\", \"Basic_Demos-Enroll_Season\",\"PAQ_A-Season\", \"PAQ_C-Season\", \n",
    "    \"PAQ_C-PAQ_C_Total\", \"SDS-Season\", \"SDS-SDS_Total_Raw\", \n",
    "    \"SDS-SDS_Total_T\", \"PreInt_EduHx-Season\", \"PreInt_EduHx-computerinternet_hoursday\",    \n",
    "    \"CGAS-Season\", \"Physical-Waist_Circumference\", \n",
    "    \"Physical-Diastolic_BP\", \"Physical-HeartRate\", \"Physical-Systolic_BP\", \n",
    "    \"Fitness_Endurance-Season\", \"FGC-Season\", \"FGC-FGC_CU\", \"FGC-FGC_GSND\", \n",
    "    \"FGC-FGC_GSD\", \"FGC-FGC_PU\", \"FGC-FGC_SRL\", \"FGC-FGC_SRR\", \"FGC-FGC_TL\", \n",
    "    \"BIA-Season\"\n",
    "]\n",
    "\n",
    "test2= test2.drop(columns=columns_to_drop)\n",
    "print(test2.columns)"
   ]
  },
  {
   "cell_type": "code",
   "execution_count": 86,
   "id": "d7f5fe45",
   "metadata": {},
   "outputs": [
    {
     "name": "stdout",
     "output_type": "stream",
     "text": [
      "id                              0\n",
      "Basic_Demos-Age                 0\n",
      "Basic_Demos-Sex                 0\n",
      "CGAS-CGAS_Score                12\n",
      "Physical-BMI                    7\n",
      "Physical-Height                 7\n",
      "Physical-Weight                 7\n",
      "Fitness_Endurance-Max_Stage    17\n",
      "Fitness_Endurance-Time_Mins    17\n",
      "Fitness_Endurance-Time_Sec     17\n",
      "FGC-FGC_CU_Zone                 7\n",
      "FGC-FGC_GSND_Zone              15\n",
      "FGC-FGC_GSD_Zone               15\n",
      "FGC-FGC_PU_Zone                 7\n",
      "FGC-FGC_SRL_Zone                7\n",
      "FGC-FGC_SRR_Zone                7\n",
      "FGC-FGC_TL_Zone                 7\n",
      "BIA-BIA_Activity_Level_num     12\n",
      "BIA-BIA_BMC                    12\n",
      "BIA-BIA_BMI                    12\n",
      "BIA-BIA_BMR                    12\n",
      "BIA-BIA_DEE                    12\n",
      "BIA-BIA_ECW                    12\n",
      "BIA-BIA_FFM                    12\n",
      "BIA-BIA_FFMI                   12\n",
      "BIA-BIA_FMI                    12\n",
      "BIA-BIA_Fat                    12\n",
      "BIA-BIA_Frame_num              12\n",
      "BIA-BIA_ICW                    12\n",
      "BIA-BIA_LDM                    12\n",
      "BIA-BIA_LST                    12\n",
      "BIA-BIA_SMM                    12\n",
      "BIA-BIA_TBW                    12\n",
      "PAQ_A-PAQ_A_Total              19\n",
      "dtype: int64\n"
     ]
    }
   ],
   "source": [
    "#Checking for number of null values\n",
    "print(test2.isna().sum())"
   ]
  },
  {
   "cell_type": "code",
   "execution_count": 87,
   "id": "e65ab60f",
   "metadata": {},
   "outputs": [
    {
     "name": "stdout",
     "output_type": "stream",
     "text": [
      "Index(['id', 'Basic_Demos-Age', 'Basic_Demos-Sex', 'SDS-SDS_Total_T',\n",
      "       'PreInt_EduHx-computerinternet_hoursday', 'CGAS-CGAS_Score',\n",
      "       'Physical-BMI', 'Physical-Height', 'Physical-Weight',\n",
      "       'Fitness_Endurance-Max_Stage', 'Fitness_Endurance-Time_Mins',\n",
      "       'Fitness_Endurance-Time_Sec', 'FGC-FGC_CU_Zone', 'FGC-FGC_GSND_Zone',\n",
      "       'FGC-FGC_GSD_Zone', 'FGC-FGC_PU_Zone', 'FGC-FGC_SRL_Zone',\n",
      "       'FGC-FGC_SRR_Zone', 'FGC-FGC_TL_Zone', 'BIA-BIA_Activity_Level_num',\n",
      "       'BIA-BIA_BMC', 'BIA-BIA_BMI', 'BIA-BIA_BMR', 'BIA-BIA_DEE',\n",
      "       'BIA-BIA_ECW', 'BIA-BIA_FFM', 'BIA-BIA_FFMI', 'BIA-BIA_FMI',\n",
      "       'BIA-BIA_Fat', 'BIA-BIA_Frame_num', 'BIA-BIA_ICW', 'BIA-BIA_LDM',\n",
      "       'BIA-BIA_LST', 'BIA-BIA_SMM', 'BIA-BIA_TBW', 'PAQ_A-PAQ_A_Total'],\n",
      "      dtype='object')\n",
      "id                                         0\n",
      "Basic_Demos-Age                            0\n",
      "Basic_Demos-Sex                            0\n",
      "SDS-SDS_Total_T                            0\n",
      "PreInt_EduHx-computerinternet_hoursday     0\n",
      "CGAS-CGAS_Score                           12\n",
      "Physical-BMI                               7\n",
      "Physical-Height                            7\n",
      "Physical-Weight                            7\n",
      "Fitness_Endurance-Max_Stage               17\n",
      "Fitness_Endurance-Time_Mins               17\n",
      "Fitness_Endurance-Time_Sec                17\n",
      "FGC-FGC_CU_Zone                            7\n",
      "FGC-FGC_GSND_Zone                         15\n",
      "FGC-FGC_GSD_Zone                          15\n",
      "FGC-FGC_PU_Zone                            7\n",
      "FGC-FGC_SRL_Zone                           7\n",
      "FGC-FGC_SRR_Zone                           7\n",
      "FGC-FGC_TL_Zone                            7\n",
      "BIA-BIA_Activity_Level_num                12\n",
      "BIA-BIA_BMC                               12\n",
      "BIA-BIA_BMI                               12\n",
      "BIA-BIA_BMR                               12\n",
      "BIA-BIA_DEE                               12\n",
      "BIA-BIA_ECW                               12\n",
      "BIA-BIA_FFM                               12\n",
      "BIA-BIA_FFMI                              12\n",
      "BIA-BIA_FMI                               12\n",
      "BIA-BIA_Fat                               12\n",
      "BIA-BIA_Frame_num                         12\n",
      "BIA-BIA_ICW                               12\n",
      "BIA-BIA_LDM                               12\n",
      "BIA-BIA_LST                               12\n",
      "BIA-BIA_SMM                               12\n",
      "BIA-BIA_TBW                               12\n",
      "PAQ_A-PAQ_A_Total                         19\n",
      "dtype: int64\n"
     ]
    },
    {
     "data": {
      "text/plain": [
       "(20, 36)"
      ]
     },
     "execution_count": 87,
     "metadata": {},
     "output_type": "execute_result"
    }
   ],
   "source": [
    "#Merging data \n",
    "import pandas as pd\n",
    "\n",
    "# Perform a left join to retain only rows present in test1\n",
    "test = pd.merge(test1, test2, on='id', how='left')\n",
    "\n",
    "# Loop through the columns to identify and handle duplicates\n",
    "columns_to_drop = []\n",
    "\n",
    "for column in test.columns:\n",
    "    # Check for columns with the '_x' and '_y' suffix\n",
    "    if '_x' in column:\n",
    "        corresponding_y_column = column.replace('_x', '_y')\n",
    "        if corresponding_y_column in test.columns:\n",
    "            # If both '_x' and '_y' columns exist, decide which one to keep\n",
    "            # For this example, we'll keep the '_x' version and drop the '_y' version\n",
    "            columns_to_drop.append(corresponding_y_column)\n",
    "\n",
    "# Drop the identified duplicate columns\n",
    "test = test.drop(columns=columns_to_drop)\n",
    "\n",
    "# Remove the '_x' suffix from column names to clean up\n",
    "test.columns = [col.replace('_x', '') if '_x' in col else col for col in test.columns]\n",
    "\n",
    "# Check the result\n",
    "print(test.columns)\n",
    "print(test.isna().sum())\n",
    "test.shape"
   ]
  },
  {
   "cell_type": "markdown",
   "id": "52b679f3",
   "metadata": {},
   "source": [
    "Handling null values in CGAS-Score"
   ]
  },
  {
   "cell_type": "code",
   "execution_count": 88,
   "id": "616d1662",
   "metadata": {},
   "outputs": [
    {
     "name": "stdout",
     "output_type": "stream",
     "text": [
      "0\n"
     ]
    }
   ],
   "source": [
    "from sklearn.impute import KNNImputer\n",
    "\n",
    "# Initialize the KNN imputer with a specified number of neighbors\n",
    "knn_imputer = KNNImputer(n_neighbors=5)\n",
    "\n",
    "# Select only the 'CGAS-CGAS_Score' column for imputation\n",
    "cgas_column = ['CGAS-CGAS_Score']\n",
    "\n",
    "# Perform KNN imputation only on the 'CGAS-CGAS_Score' column\n",
    "test[cgas_column] = knn_imputer.fit_transform(test[cgas_column])\n",
    "\n",
    "# To check if the imputation for 'CGAS-CGAS_Score' was successful\n",
    "print(test['CGAS-CGAS_Score'].isna().sum())"
   ]
  },
  {
   "cell_type": "markdown",
   "id": "4d1ccf21",
   "metadata": {},
   "source": [
    "Handling Fitness Endurance Data"
   ]
  },
  {
   "cell_type": "code",
   "execution_count": 89,
   "id": "d10eb66c",
   "metadata": {},
   "outputs": [
    {
     "name": "stdout",
     "output_type": "stream",
     "text": [
      "Index(['id', 'Basic_Demos-Age', 'Basic_Demos-Sex', 'SDS-SDS_Total_T',\n",
      "       'PreInt_EduHx-computerinternet_hoursday', 'CGAS-CGAS_Score',\n",
      "       'Physical-BMI', 'Physical-Height', 'Physical-Weight', 'FGC-FGC_CU_Zone',\n",
      "       'FGC-FGC_GSND_Zone', 'FGC-FGC_GSD_Zone', 'FGC-FGC_PU_Zone',\n",
      "       'FGC-FGC_SRL_Zone', 'FGC-FGC_SRR_Zone', 'FGC-FGC_TL_Zone',\n",
      "       'BIA-BIA_Activity_Level_num', 'BIA-BIA_BMC', 'BIA-BIA_BMI',\n",
      "       'BIA-BIA_BMR', 'BIA-BIA_DEE', 'BIA-BIA_ECW', 'BIA-BIA_FFM',\n",
      "       'BIA-BIA_FFMI', 'BIA-BIA_FMI', 'BIA-BIA_Fat', 'BIA-BIA_Frame_num',\n",
      "       'BIA-BIA_ICW', 'BIA-BIA_LDM', 'BIA-BIA_LST', 'BIA-BIA_SMM',\n",
      "       'BIA-BIA_TBW', 'PAQ_A-PAQ_A_Total'],\n",
      "      dtype='object')\n"
     ]
    }
   ],
   "source": [
    "#Handling Fitness Endurance Data\n",
    "\n",
    "# List of additional columns to drop\n",
    "Fitnessvitals_columns_to_drop = [\n",
    "    \"Fitness_Endurance-Max_Stage\", \"Fitness_Endurance-Time_Mins\", \"Fitness_Endurance-Time_Sec\"\n",
    "]\n",
    "# Drop these columns from your DataFrame\n",
    "test = test.drop(columns=Fitnessvitals_columns_to_drop)\n",
    "\n",
    "# Check the result\n",
    "print(test.columns)\n"
   ]
  },
  {
   "cell_type": "markdown",
   "id": "db296672",
   "metadata": {},
   "source": [
    "Fitness Gram Data"
   ]
  },
  {
   "cell_type": "code",
   "execution_count": 90,
   "id": "9371518b",
   "metadata": {},
   "outputs": [
    {
     "name": "stdout",
     "output_type": "stream",
     "text": [
      "    FGC-FGC_GSND_Zone\n",
      "0                 NaN\n",
      "1                 NaN\n",
      "2                 0.0\n",
      "3                 NaN\n",
      "4                 NaN\n",
      "5                 0.0\n",
      "6                 NaN\n",
      "7                 0.0\n",
      "8                 NaN\n",
      "9                 NaN\n",
      "10                NaN\n",
      "11                NaN\n",
      "12                0.0\n",
      "13                0.0\n",
      "14                NaN\n",
      "15                NaN\n",
      "16                NaN\n",
      "17                NaN\n",
      "18                NaN\n",
      "19                NaN\n",
      "    FGC-FGC_GSD_Zone\n",
      "0                NaN\n",
      "1                NaN\n",
      "2                0.0\n",
      "3                NaN\n",
      "4                NaN\n",
      "5                0.0\n",
      "6                NaN\n",
      "7                0.0\n",
      "8                NaN\n",
      "9                NaN\n",
      "10               NaN\n",
      "11               NaN\n",
      "12               0.0\n",
      "13               0.0\n",
      "14               NaN\n",
      "15               NaN\n",
      "16               NaN\n",
      "17               NaN\n",
      "18               NaN\n",
      "19               NaN\n"
     ]
    }
   ],
   "source": [
    "# Convert the 3-category columns into binary, leaving NaN values as is\n",
    "test['FGC-FGC_GSND_Zone_Binary'] = test['FGC-FGC_GSND_Zone'].apply(\n",
    "    lambda x: 1 if x == 3 else (0 if x in [1, 2] else None)\n",
    ")\n",
    "\n",
    "test['FGC-FGC_GSD_Zone_Binary'] = test['FGC-FGC_GSD_Zone'].apply(\n",
    "    lambda x: 1 if x == 3 else (0 if x in [1, 2] else None)\n",
    ")\n",
    "\n",
    "# Replace the original columns with the binary versions\n",
    "test['FGC-FGC_GSND_Zone'] = test['FGC-FGC_GSND_Zone_Binary']\n",
    "test['FGC-FGC_GSD_Zone'] = test['FGC-FGC_GSD_Zone_Binary']\n",
    "\n",
    "# Drop the temporary binary columns if you no longer need them\n",
    "test.drop(columns=['FGC-FGC_GSND_Zone_Binary', 'FGC-FGC_GSD_Zone_Binary'], inplace=True)\n",
    "\n",
    "# Print to verify the changes\n",
    "print(test[['FGC-FGC_GSND_Zone']])\n",
    "print(test[['FGC-FGC_GSD_Zone']])\n"
   ]
  },
  {
   "cell_type": "code",
   "execution_count": 91,
   "id": "19aa24d2",
   "metadata": {},
   "outputs": [
    {
     "name": "stdout",
     "output_type": "stream",
     "text": [
      "FGC-FGC_CU_Zone       7\n",
      "FGC-FGC_GSND_Zone    15\n",
      "FGC-FGC_GSD_Zone     15\n",
      "FGC-FGC_PU_Zone       7\n",
      "FGC-FGC_SRL_Zone      7\n",
      "FGC-FGC_SRR_Zone      7\n",
      "FGC-FGC_TL_Zone       7\n",
      "dtype: int64\n"
     ]
    }
   ],
   "source": [
    "# List of columns to check for missing values\n",
    "columns_to_check = [\n",
    "    'FGC-FGC_CU_Zone',\n",
    "    'FGC-FGC_GSND_Zone',\n",
    "    'FGC-FGC_GSD_Zone',\n",
    "    'FGC-FGC_PU_Zone',\n",
    "    'FGC-FGC_SRL_Zone',\n",
    "    'FGC-FGC_SRR_Zone',\n",
    "    'FGC-FGC_TL_Zone'\n",
    "]\n",
    "\n",
    "# Check for missing values in these columns\n",
    "missing_values = test[columns_to_check].isna().sum()\n",
    "\n",
    "# Print the count of missing values for each column\n",
    "print(missing_values)\n",
    "\n",
    "# Dropping FGC-FGC_GSND_Zone & FGC-FGC_GSD_Zone columns \n",
    "\n",
    "# List of additional columns to drop\n",
    "Fitnessvitals_columns_to_drop = [\n",
    "    \"FGC-FGC_GSND_Zone\",\"FGC-FGC_GSD_Zone\"\n",
    "]\n",
    "# Drop these columns from your DataFrame\n",
    "test = test.drop(columns=Fitnessvitals_columns_to_drop)\n"
   ]
  },
  {
   "cell_type": "markdown",
   "id": "dd223148",
   "metadata": {},
   "source": [
    "Calculating Combined Score"
   ]
  },
  {
   "cell_type": "code",
   "execution_count": 92,
   "id": "2e43c241",
   "metadata": {},
   "outputs": [
    {
     "name": "stdout",
     "output_type": "stream",
     "text": [
      "         id  Basic_Demos-Age  Basic_Demos-Sex  SDS-SDS_Total_T  \\\n",
      "0  00008ff9                5                0        48.333333   \n",
      "1  000fd460                9                0        64.000000   \n",
      "2  00105258               10                1        54.000000   \n",
      "3  00115b9f                9                0        45.000000   \n",
      "4  0016bb22               18                1        53.500000   \n",
      "\n",
      "   PreInt_EduHx-computerinternet_hoursday  CGAS-CGAS_Score  Physical-BMI  \\\n",
      "0                                3.000000             51.0     16.877316   \n",
      "1                                0.000000             62.5     14.035590   \n",
      "2                                2.000000             71.0     16.648696   \n",
      "3                                0.000000             71.0     18.292347   \n",
      "4                                1.666667             62.5           NaN   \n",
      "\n",
      "   Physical-Height  Physical-Weight  BIA-BIA_Activity_Level_num  ...  \\\n",
      "0             46.0             50.8                         2.0  ...   \n",
      "1             48.0             46.0                         2.0  ...   \n",
      "2             56.5             75.6                         NaN  ...   \n",
      "3             56.0             81.6                         3.0  ...   \n",
      "4              NaN              NaN                         NaN  ...   \n",
      "\n",
      "   BIA-BIA_Fat  BIA-BIA_Frame_num  BIA-BIA_ICW  BIA-BIA_LDM  BIA-BIA_LST  \\\n",
      "0      9.21377                1.0      24.4349      8.89536      38.9177   \n",
      "1      3.97085                1.0      21.0352     14.97400      39.4497   \n",
      "2          NaN                NaN          NaN          NaN          NaN   \n",
      "3     18.82430                2.0      30.4041     16.77900      58.9338   \n",
      "4          NaN                NaN          NaN          NaN          NaN   \n",
      "\n",
      "   BIA-BIA_SMM  BIA-BIA_TBW  PAQ_A-PAQ_A_Total  Combined_Score  \\\n",
      "0      19.5413      32.6909                NaN             1.0   \n",
      "1      15.4107      27.0552                NaN             2.0   \n",
      "2          NaN          NaN                NaN             4.0   \n",
      "3      26.4798      45.9966                NaN             2.0   \n",
      "4          NaN          NaN               1.04             NaN   \n",
      "\n",
      "   Normalized_Combined_Score  \n",
      "0                        0.2  \n",
      "1                        0.4  \n",
      "2                        0.8  \n",
      "3                        0.4  \n",
      "4                        NaN  \n",
      "\n",
      "[5 rows x 28 columns]\n"
     ]
    }
   ],
   "source": [
    "import pandas as pd\n",
    "\n",
    "# Step 1: Calculate the combined score only if all specified columns are non-NaN\n",
    "test['Combined_Score'] = test.apply(\n",
    "    lambda row: row[['FGC-FGC_CU_Zone', 'FGC-FGC_PU_Zone', \n",
    "                    'FGC-FGC_SRL_Zone', 'FGC-FGC_SRR_Zone', \n",
    "                    'FGC-FGC_TL_Zone']].sum() \n",
    "    if row[['FGC-FGC_CU_Zone', 'FGC-FGC_PU_Zone', \n",
    "            'FGC-FGC_SRL_Zone', 'FGC-FGC_SRR_Zone', \n",
    "            'FGC-FGC_TL_Zone']].isna().any() == False \n",
    "    else float('nan'), axis=1)\n",
    "\n",
    "# Step 2: Normalize the 'Combined_Score' to a 0-1 scale\n",
    "# Remove rows with NaN in 'Combined_Score' before normalization\n",
    "test_clean = test.dropna(subset=['Combined_Score'])\n",
    "\n",
    "# Apply Min-Max normalization\n",
    "min_score = test_clean['Combined_Score'].min()\n",
    "max_score = test_clean['Combined_Score'].max()\n",
    "\n",
    "test['Normalized_Combined_Score'] = test['Combined_Score'].apply(\n",
    "    lambda x: (x - min_score) / (max_score - min_score) if pd.notna(x) else x\n",
    ")\n",
    "\n",
    "# Step 3: Drop the original columns and replace them with 'Normalized_Combined_Score'\n",
    "test.drop(columns=['FGC-FGC_CU_Zone', 'FGC-FGC_PU_Zone', \n",
    "                    'FGC-FGC_SRL_Zone', 'FGC-FGC_SRR_Zone', \n",
    "                    'FGC-FGC_TL_Zone'], inplace=True)\n",
    "\n",
    "# Replace the original columns with 'Normalized_Combined_Score' in the data\n",
    "test['Normalized_Combined_Score'] = test['Normalized_Combined_Score']\n",
    "\n",
    "# Print summary to verify\n",
    "print(test.head())\n"
   ]
  },
  {
   "cell_type": "code",
   "execution_count": 93,
   "id": "2db0581a",
   "metadata": {},
   "outputs": [
    {
     "name": "stdout",
     "output_type": "stream",
     "text": [
      "Null values in null_FCombined 7\n"
     ]
    }
   ],
   "source": [
    "null_FCombined = test['Normalized_Combined_Score'].isnull().sum()\n",
    "print('Null values in null_FCombined', null_FCombined)"
   ]
  },
  {
   "cell_type": "code",
   "execution_count": 94,
   "id": "11e82d55",
   "metadata": {},
   "outputs": [
    {
     "name": "stdout",
     "output_type": "stream",
     "text": [
      "Missing values after imputation: 0\n"
     ]
    }
   ],
   "source": [
    "#knn on fitnessgram combined score. \n",
    "\n",
    "from sklearn.impute import KNNImputer\n",
    "\n",
    "# Initialize the KNN imputer with a specified number of neighbors\n",
    "knn_imputer = KNNImputer(n_neighbors=5)\n",
    "\n",
    "# Apply KNN imputation to the 'Normalized_Combined_Score' column\n",
    "test['Normalized_Combined_Score'] = knn_imputer.fit_transform(test[['Normalized_Combined_Score']])\n",
    "\n",
    "# Check if imputation was successful by printing the count of missing values again\n",
    "missing_values_after_imputation = test['Normalized_Combined_Score'].isna().sum()\n",
    "print(f\"Missing values after imputation: {missing_values_after_imputation}\")"
   ]
  },
  {
   "cell_type": "code",
   "execution_count": 95,
   "id": "1fba73a3",
   "metadata": {},
   "outputs": [
    {
     "name": "stdout",
     "output_type": "stream",
     "text": [
      "         id  Basic_Demos-Age  Basic_Demos-Sex  SDS-SDS_Total_T  \\\n",
      "0  00008ff9                5                0        48.333333   \n",
      "1  000fd460                9                0        64.000000   \n",
      "2  00105258               10                1        54.000000   \n",
      "3  00115b9f                9                0        45.000000   \n",
      "4  0016bb22               18                1        53.500000   \n",
      "\n",
      "   PreInt_EduHx-computerinternet_hoursday  CGAS-CGAS_Score  Physical-BMI  \\\n",
      "0                                3.000000             51.0     16.877316   \n",
      "1                                0.000000             62.5     14.035590   \n",
      "2                                2.000000             71.0     16.648696   \n",
      "3                                0.000000             71.0     18.292347   \n",
      "4                                1.666667             62.5           NaN   \n",
      "\n",
      "   Physical-Height  Physical-Weight  BIA-BIA_Activity_Level_num  ...  \\\n",
      "0             46.0             50.8                         2.0  ...   \n",
      "1             48.0             46.0                         2.0  ...   \n",
      "2             56.5             75.6                         NaN  ...   \n",
      "3             56.0             81.6                         3.0  ...   \n",
      "4              NaN              NaN                         NaN  ...   \n",
      "\n",
      "   BIA-BIA_Fat  BIA-BIA_Frame_num  BIA-BIA_ICW  BIA-BIA_LDM  BIA-BIA_LST  \\\n",
      "0      9.21377                1.0      24.4349      8.89536      38.9177   \n",
      "1      3.97085                1.0      21.0352     14.97400      39.4497   \n",
      "2          NaN                NaN          NaN          NaN          NaN   \n",
      "3     18.82430                2.0      30.4041     16.77900      58.9338   \n",
      "4          NaN                NaN          NaN          NaN          NaN   \n",
      "\n",
      "   BIA-BIA_SMM  BIA-BIA_TBW  PAQ_A-PAQ_A_Total  Combined_Score  \\\n",
      "0      19.5413      32.6909                NaN             1.0   \n",
      "1      15.4107      27.0552                NaN             2.0   \n",
      "2          NaN          NaN                NaN             4.0   \n",
      "3      26.4798      45.9966                NaN             2.0   \n",
      "4          NaN          NaN               1.04             NaN   \n",
      "\n",
      "   Fitness_Combined_Score  \n",
      "0                0.200000  \n",
      "1                0.400000  \n",
      "2                0.800000  \n",
      "3                0.400000  \n",
      "4                0.492308  \n",
      "\n",
      "[5 rows x 28 columns]\n"
     ]
    }
   ],
   "source": [
    "# Rename the 'Normalized_Combined_Score' column to 'Fitness_Combined_Score'\n",
    "test.rename(columns={'Normalized_Combined_Score': 'Fitness_Combined_Score'}, inplace=True)\n",
    "\n",
    "# Print the updated DataFrame to verify\n",
    "print(test.head())\n"
   ]
  },
  {
   "cell_type": "markdown",
   "id": "3f7f0220",
   "metadata": {},
   "source": [
    "Bio-Electric Impedance Data"
   ]
  },
  {
   "cell_type": "code",
   "execution_count": 96,
   "id": "e6045f23",
   "metadata": {},
   "outputs": [
    {
     "name": "stdout",
     "output_type": "stream",
     "text": [
      "Index(['id', 'Basic_Demos-Age', 'Basic_Demos-Sex', 'SDS-SDS_Total_T',\n",
      "       'PreInt_EduHx-computerinternet_hoursday', 'CGAS-CGAS_Score',\n",
      "       'Physical-BMI', 'Physical-Height', 'Physical-Weight',\n",
      "       'BIA-BIA_Activity_Level_num', 'BIA-BIA_BMC', 'BIA-BIA_BMI',\n",
      "       'BIA-BIA_BMR', 'BIA-BIA_DEE', 'BIA-BIA_ECW', 'BIA-BIA_FFM',\n",
      "       'BIA-BIA_FFMI', 'BIA-BIA_FMI', 'BIA-BIA_Fat', 'BIA-BIA_Frame_num',\n",
      "       'BIA-BIA_ICW', 'BIA-BIA_LDM', 'BIA-BIA_LST', 'BIA-BIA_SMM',\n",
      "       'BIA-BIA_TBW', 'PAQ_A-PAQ_A_Total', 'Combined_Score',\n",
      "       'Fitness_Combined_Score', 'Physical_Composite_Index'],\n",
      "      dtype='object')\n"
     ]
    }
   ],
   "source": [
    "import pandas as pd\n",
    "from sklearn.preprocessing import MinMaxScaler\n",
    "\n",
    "# Specify the columns to normalize and their weights\n",
    "columns_to_normalize = [\n",
    "    'BIA-BIA_BMR', 'BIA-BIA_DEE', 'BIA-BIA_SMM', 'BIA-BIA_Fat',\n",
    "    'BIA-BIA_BMI', 'BIA-BIA_TBW', 'BIA-BIA_ICW', 'BIA-BIA_ECW',\n",
    "    'BIA-BIA_LST', 'BIA-BIA_LDM'\n",
    "]\n",
    "\n",
    "weights = {\n",
    "    'BIA-BIA_BMR': 0.25,  # High importance\n",
    "    'BIA-BIA_DEE': 0.25,  # High importance\n",
    "    'BIA-BIA_SMM': 0.15,  # Moderate importance\n",
    "    'BIA-BIA_Fat': 0.15,  # Moderate importance\n",
    "    'BIA-BIA_BMI': 0.1,   # Moderate importance\n",
    "    'BIA-BIA_TBW': 0.05,  # Low importance\n",
    "    'BIA-BIA_ICW': 0.05,  # Low importance\n",
    "    'BIA-BIA_ECW': 0.05,  # Low importance\n",
    "    'BIA-BIA_LST': 0.025, # Least importance\n",
    "    'BIA-BIA_LDM': 0.025  # Least importance\n",
    "}\n",
    "\n",
    "# Extract only the columns to be normalized\n",
    "test_subset = test[columns_to_normalize]\n",
    "\n",
    "# Normalizing the selected columns using Min-Max scaling\n",
    "scaler = MinMaxScaler()\n",
    "normalized_data = scaler.fit_transform(test_subset)\n",
    "test_normalized = pd.DataFrame(normalized_data, columns=columns_to_normalize)\n",
    "\n",
    "# Calculate the composite index using the specified weights\n",
    "test_normalized['Composite_Index'] = sum(\n",
    "    test_normalized[column] * weight for column, weight in weights.items()\n",
    ")\n",
    "\n",
    "# Add the 'Composite_Index' to the original 'test' DataFrame as 'Physical_Composite_Index'\n",
    "test['Physical_Composite_Index'] = test_normalized['Composite_Index']\n",
    "\n",
    "# Output the resulting DataFrame with the new column\n",
    "print(test.columns)\n"
   ]
  },
  {
   "cell_type": "code",
   "execution_count": 97,
   "id": "e708ba42",
   "metadata": {},
   "outputs": [
    {
     "name": "stdout",
     "output_type": "stream",
     "text": [
      "12\n"
     ]
    }
   ],
   "source": [
    "missing_values = test['Physical_Composite_Index'].isna().sum()\n",
    "print(missing_values)"
   ]
  },
  {
   "cell_type": "code",
   "execution_count": 98,
   "id": "50419443",
   "metadata": {},
   "outputs": [
    {
     "name": "stdout",
     "output_type": "stream",
     "text": [
      "   Physical_Composite_Index\n",
      "0                  0.083406\n",
      "1                  0.016713\n",
      "2                  0.425917\n",
      "3                  0.444415\n",
      "4                  0.425917\n"
     ]
    }
   ],
   "source": [
    "# Initialize the KNN imputer, specify the number of neighbors (k)\n",
    "imputer = KNNImputer(n_neighbors=5)  # You can adjust n_neighbors as needed\n",
    "\n",
    "# Apply KNN imputation on the 'Physical_Composite_Index' column\n",
    "test['Physical_Composite_Index'] = imputer.fit_transform(test[['Physical_Composite_Index']])\n",
    "\n",
    "# Output the DataFrame to check the filled values\n",
    "print(test[['Physical_Composite_Index']].head())"
   ]
  },
  {
   "cell_type": "code",
   "execution_count": 99,
   "id": "78676511",
   "metadata": {},
   "outputs": [
    {
     "name": "stdout",
     "output_type": "stream",
     "text": [
      "Index(['id', 'Basic_Demos-Age', 'Basic_Demos-Sex', 'SDS-SDS_Total_T',\n",
      "       'PreInt_EduHx-computerinternet_hoursday', 'CGAS-CGAS_Score',\n",
      "       'Physical-BMI', 'BIA-BIA_Activity_Level_num', 'BIA-BIA_FFM',\n",
      "       'Fitness_Combined_Score', 'Physical_Composite_Index'],\n",
      "      dtype='object')\n"
     ]
    }
   ],
   "source": [
    "# Dropping BIA columns\n",
    "\n",
    "columns_to_drop = [\n",
    "    'BIA-BIA_BMR', 'BIA-BIA_DEE', 'BIA-BIA_SMM', 'BIA-BIA_Fat','Physical-Height', 'Physical-Weight',\n",
    "    'BIA-BIA_BMI', 'BIA-BIA_TBW', 'BIA-BIA_ICW', 'BIA-BIA_ECW','BIA-BIA_LST', 'BIA-BIA_Frame_num',                         \n",
    "    'BIA-BIA_LDM', 'Combined_Score', 'BIA-BIA_BMC','BIA-BIA_FFMI','BIA-BIA_FMI', 'PAQ_A-PAQ_A_Total'\n",
    "]\n",
    "\n",
    "# Drop these columns from your DataFrame\n",
    "test= test.drop(columns=columns_to_drop)\n",
    "\n",
    "# Check the result\n",
    "print(test.columns)"
   ]
  },
  {
   "cell_type": "code",
   "execution_count": 100,
   "id": "1adc0cf7",
   "metadata": {},
   "outputs": [
    {
     "name": "stdout",
     "output_type": "stream",
     "text": [
      "id                                         0\n",
      "Basic_Demos-Age                            0\n",
      "Basic_Demos-Sex                            0\n",
      "SDS-SDS_Total_T                            0\n",
      "PreInt_EduHx-computerinternet_hoursday     0\n",
      "CGAS-CGAS_Score                            0\n",
      "Physical-BMI                               7\n",
      "BIA-BIA_Activity_Level_num                12\n",
      "BIA-BIA_FFM                               12\n",
      "Fitness_Combined_Score                     0\n",
      "Physical_Composite_Index                   0\n",
      "dtype: int64\n"
     ]
    }
   ],
   "source": [
    "#Checking for number of null values\n",
    "print(test.isna().sum())"
   ]
  },
  {
   "cell_type": "code",
   "execution_count": 101,
   "id": "a4b00097",
   "metadata": {},
   "outputs": [
    {
     "name": "stdout",
     "output_type": "stream",
     "text": [
      "0\n"
     ]
    }
   ],
   "source": [
    "# Initialize KNNImputer with the number of neighbors to consider\n",
    "knn_imputer = KNNImputer(n_neighbors=5)\n",
    "\n",
    "# Apply KNN imputation and update 'Physical-BMI' in the original DataFrame\n",
    "test[['Physical-BMI']] = knn_imputer.fit_transform(test[['Physical-BMI']])\n",
    "\n",
    "# Check if missing values are imputed in 'Physical-BMI'\n",
    "print(test['Physical-BMI'].isnull().sum())  "
   ]
  },
  {
   "cell_type": "code",
   "execution_count": 102,
   "id": "c3d6cd3d",
   "metadata": {},
   "outputs": [
    {
     "name": "stdout",
     "output_type": "stream",
     "text": [
      "2.0    0.625\n",
      "3.0    0.250\n",
      "5.0    0.125\n",
      "Name: BIA-BIA_Activity_Level_num, dtype: float64\n"
     ]
    }
   ],
   "source": [
    "# Check distribution of non-null values\n",
    "print(test['BIA-BIA_Activity_Level_num'].value_counts(normalize=True))\n",
    "\n",
    "# Check if missing values are random or related to other variables\n",
    "import seaborn as sns\n",
    "import matplotlib.pyplot as plt\n",
    "\n",
    "# Analyze missing vs non-missing patterns with other variables\n",
    "test['activity_missing'] = test['BIA-BIA_Activity_Level_num'].isna().astype(int)"
   ]
  },
  {
   "cell_type": "code",
   "execution_count": 103,
   "id": "104e4344",
   "metadata": {},
   "outputs": [
    {
     "name": "stdout",
     "output_type": "stream",
     "text": [
      "Original Distribution:\n",
      "2.0    0.625\n",
      "3.0    0.250\n",
      "5.0    0.125\n",
      "Name: BIA-BIA_Activity_Level_num, dtype: float64\n",
      "\n",
      "Imputed Distribution:\n",
      "2.0    0.65\n",
      "3.0    0.25\n",
      "5.0    0.10\n",
      "Name: BIA-BIA_Activity_Level_num, dtype: float64\n",
      "\n",
      "Correlations with Physical Metrics:\n",
      "{'BMI': 0.3480997378745178, 'Fitness': 0.5244760527619943, 'Physical_Composite': 0.36869061331001873}\n"
     ]
    }
   ],
   "source": [
    "import pandas as pd\n",
    "import numpy as np\n",
    "from sklearn.preprocessing import MinMaxScaler\n",
    "\n",
    "class ActivityLevelImputer:\n",
    "    def __init__(self, df):\n",
    "        # Copy the input dataframe to avoid modifying the original\n",
    "        self.df = df.copy()\n",
    "        \n",
    "        # Define the new distribution for activity levels\n",
    "        self.original_distribution = {\n",
    "            2.0: 0.625,\n",
    "            3.0: 0.250,\n",
    "            5.0: 0.125\n",
    "        }\n",
    "    \n",
    "    def calculate_physical_score(self):\n",
    "        \"\"\"\n",
    "        Calculate a physical score based on available metrics by normalizing\n",
    "        physical features and computing their mean.\n",
    "        \"\"\"\n",
    "        physical_features = [\n",
    "            'Physical-BMI',\n",
    "            'Fitness_Combined_Score',\n",
    "            'Physical_Composite_Index'\n",
    "        ]\n",
    "        \n",
    "        # Normalize physical features using MinMaxScaler\n",
    "        scaler = MinMaxScaler()\n",
    "        normalized = pd.DataFrame(\n",
    "            scaler.fit_transform(self.df[physical_features]),\n",
    "            columns=physical_features\n",
    "        )\n",
    "        \n",
    "        # Compute a composite physical score as the row-wise mean\n",
    "        return normalized.mean(axis=1)\n",
    "    \n",
    "    def impute_activity_levels(self):\n",
    "        \"\"\"\n",
    "        Impute missing activity levels while maintaining the new distribution.\n",
    "        \"\"\"\n",
    "        # Calculate physical score for all rows\n",
    "        physical_scores = self.calculate_physical_score()\n",
    "        \n",
    "        # Copy the activity level column to impute missing values\n",
    "        imputed_values = self.df['BIA-BIA_Activity_Level_num'].copy()\n",
    "        \n",
    "        # Count the number of missing values\n",
    "        missing_count = imputed_values.isna().sum()\n",
    "        \n",
    "        if missing_count > 0:\n",
    "            # Calculate the number of values needed for each activity level\n",
    "            level_counts = {\n",
    "                level: int(np.round(prop * missing_count))\n",
    "                for level, prop in self.original_distribution.items()\n",
    "            }\n",
    "            \n",
    "            # Adjust for rounding errors\n",
    "            total_allocated = sum(level_counts.values())\n",
    "            if total_allocated < missing_count:\n",
    "                # Assign remaining unallocated values to the most frequent level\n",
    "                most_frequent_level = max(\n",
    "                    self.original_distribution, \n",
    "                    key=self.original_distribution.get\n",
    "                )\n",
    "                level_counts[most_frequent_level] += missing_count - total_allocated\n",
    "            \n",
    "            # Sort missing values by physical score\n",
    "            missing_scores = physical_scores[imputed_values.isna()]\n",
    "            sorted_indices = missing_scores.sort_values().index\n",
    "            \n",
    "            # Allocate values maintaining the new distribution\n",
    "            new_values = []\n",
    "            for level in sorted(self.original_distribution.keys()):\n",
    "                count = level_counts[level]\n",
    "                new_values.extend([level] * count)\n",
    "            \n",
    "            # Ensure lengths of indices and values match\n",
    "            new_values = new_values[:len(sorted_indices)]\n",
    "            \n",
    "            # Assign imputed values back to the original DataFrame\n",
    "            imputed_values.loc[sorted_indices] = new_values\n",
    "        \n",
    "        return imputed_values\n",
    "\n",
    "    def validate_imputation(self, imputed_series):\n",
    "        \"\"\"\n",
    "        Validate the imputation results by comparing distributions and calculating correlations.\n",
    "        \"\"\"\n",
    "        # Compare distributions before and after imputation\n",
    "        original_dist = self.df['BIA-BIA_Activity_Level_num'].value_counts(normalize=True)\n",
    "        imputed_dist = imputed_series.value_counts(normalize=True)\n",
    "        \n",
    "        # Calculate correlations with physical metrics\n",
    "        correlations = {\n",
    "            'BMI': imputed_series.corr(self.df['Physical-BMI']),\n",
    "            'Fitness': imputed_series.corr(self.df['Fitness_Combined_Score']),\n",
    "            'Physical_Composite': imputed_series.corr(self.df['Physical_Composite_Index'])\n",
    "        }\n",
    "        \n",
    "        return {\n",
    "            'original_distribution': original_dist,\n",
    "            'imputed_distribution': imputed_dist,\n",
    "            'correlations': correlations\n",
    "        }\n",
    "\n",
    "# Assuming `test` is the input DataFrame\n",
    "# Initialize the imputer with the new distribution\n",
    "imputer = ActivityLevelImputer(test)\n",
    "\n",
    "# Perform imputation\n",
    "imputed_activity = imputer.impute_activity_levels()\n",
    "\n",
    "# Validate results\n",
    "validation = imputer.validate_imputation(imputed_activity)\n",
    "\n",
    "print(\"Original Distribution:\")\n",
    "print(validation['original_distribution'])\n",
    "print(\"\\nImputed Distribution:\")\n",
    "print(validation['imputed_distribution'])\n",
    "print(\"\\nCorrelations with Physical Metrics:\")\n",
    "print(validation['correlations'])\n",
    "\n",
    "# Update the dataframe with imputed values\n",
    "test['BIA-BIA_Activity_Level_num'] = imputed_activity\n"
   ]
  },
  {
   "cell_type": "code",
   "execution_count": 104,
   "id": "17bd1e19",
   "metadata": {},
   "outputs": [
    {
     "name": "stdout",
     "output_type": "stream",
     "text": [
      "(20, 12)\n",
      "id                                         0\n",
      "Basic_Demos-Age                            0\n",
      "Basic_Demos-Sex                            0\n",
      "SDS-SDS_Total_T                            0\n",
      "PreInt_EduHx-computerinternet_hoursday     0\n",
      "CGAS-CGAS_Score                            0\n",
      "Physical-BMI                               0\n",
      "BIA-BIA_Activity_Level_num                 0\n",
      "BIA-BIA_FFM                               12\n",
      "Fitness_Combined_Score                     0\n",
      "Physical_Composite_Index                   0\n",
      "activity_missing                           0\n",
      "dtype: int64\n"
     ]
    }
   ],
   "source": [
    "print(test.shape)\n",
    "print(test.isna().sum())"
   ]
  },
  {
   "cell_type": "code",
   "execution_count": 105,
   "id": "dc2b77d0",
   "metadata": {},
   "outputs": [],
   "source": [
    "# Drop these columns from your DataFrame\n",
    "test = test.drop(columns='BIA-BIA_FFM')"
   ]
  },
  {
   "cell_type": "code",
   "execution_count": 106,
   "id": "c9a7d3b7",
   "metadata": {},
   "outputs": [],
   "source": [
    "# Rename the columns\n",
    "test.rename(columns={\n",
    "    'BIA-BIA_Activity_Level_num': 'BIA_Activity_Level',\n",
    "    'CGAS-CGAS_Score': 'CGAS_Score'\n",
    "}, inplace=True)\n",
    "\n",
    "# Remove the 'activity_missing' column\n",
    "test.drop(columns=['activity_missing'], inplace=True)\n",
    "\n",
    "# Reorder the columns as specified\n",
    "column_order = [\n",
    "    'id',\n",
    "    'Basic_Demos-Age',\n",
    "    'Basic_Demos-Sex',\n",
    "    'CGAS_Score',\n",
    "    'Physical-BMI',\n",
    "    'BIA_Activity_Level',\n",
    "    'Fitness_Combined_Score',\n",
    "    'Physical_Composite_Index',\n",
    "    'SDS-SDS_Total_T',\n",
    "    'PreInt_EduHx-computerinternet_hoursday',\n",
    "]\n",
    "\n",
    "test = test[column_order]"
   ]
  },
  {
   "cell_type": "code",
   "execution_count": 107,
   "id": "816f95d5",
   "metadata": {},
   "outputs": [],
   "source": [
    "# Save the DataFrame to a CSV\n",
    "test.to_csv('cleaned_test.csv', index=False)"
   ]
  },
  {
   "cell_type": "code",
   "execution_count": 108,
   "id": "fbfac0cc",
   "metadata": {},
   "outputs": [
    {
     "data": {
      "text/plain": [
       "(20, 10)"
      ]
     },
     "execution_count": 108,
     "metadata": {},
     "output_type": "execute_result"
    }
   ],
   "source": [
    "test.shape"
   ]
  }
 ],
 "metadata": {
  "kernelspec": {
   "display_name": "Python 3 (ipykernel)",
   "language": "python",
   "name": "python3"
  },
  "language_info": {
   "codemirror_mode": {
    "name": "ipython",
    "version": 3
   },
   "file_extension": ".py",
   "mimetype": "text/x-python",
   "name": "python",
   "nbconvert_exporter": "python",
   "pygments_lexer": "ipython3",
   "version": "3.9.13"
  }
 },
 "nbformat": 4,
 "nbformat_minor": 5
}

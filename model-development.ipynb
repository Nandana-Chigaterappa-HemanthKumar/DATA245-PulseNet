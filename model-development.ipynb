{
 "cells": [
  {
   "cell_type": "code",
   "execution_count": 1,
   "id": "e6677df4",
   "metadata": {
    "execution": {
     "iopub.execute_input": "2024-11-19T19:15:08.402962Z",
     "iopub.status.busy": "2024-11-19T19:15:08.402484Z",
     "iopub.status.idle": "2024-11-19T19:15:09.335490Z",
     "shell.execute_reply": "2024-11-19T19:15:09.334373Z"
    },
    "papermill": {
     "duration": 0.942587,
     "end_time": "2024-11-19T19:15:09.338177",
     "exception": false,
     "start_time": "2024-11-19T19:15:08.395590",
     "status": "completed"
    },
    "tags": []
   },
   "outputs": [
    {
     "data": {
      "text/html": [
       "<div>\n",
       "<style scoped>\n",
       "    .dataframe tbody tr th:only-of-type {\n",
       "        vertical-align: middle;\n",
       "    }\n",
       "\n",
       "    .dataframe tbody tr th {\n",
       "        vertical-align: top;\n",
       "    }\n",
       "\n",
       "    .dataframe thead th {\n",
       "        text-align: right;\n",
       "    }\n",
       "</style>\n",
       "<table border=\"1\" class=\"dataframe\">\n",
       "  <thead>\n",
       "    <tr style=\"text-align: right;\">\n",
       "      <th></th>\n",
       "      <th>id</th>\n",
       "      <th>Basic_Demos-Age</th>\n",
       "      <th>Basic_Demos-Sex</th>\n",
       "      <th>age_group</th>\n",
       "      <th>CGAS_Score</th>\n",
       "      <th>Physical-BMI</th>\n",
       "      <th>BIA_Activity_Level</th>\n",
       "      <th>Fitness_Combined_Score</th>\n",
       "      <th>Physical_Composite_Index</th>\n",
       "      <th>SDS-SDS_Total_T</th>\n",
       "      <th>PreInt_EduHx-computerinternet_hoursday</th>\n",
       "      <th>sii</th>\n",
       "    </tr>\n",
       "  </thead>\n",
       "  <tbody>\n",
       "    <tr>\n",
       "      <th>0</th>\n",
       "      <td>00008ff9</td>\n",
       "      <td>5</td>\n",
       "      <td>0</td>\n",
       "      <td>Child</td>\n",
       "      <td>51.000000</td>\n",
       "      <td>16.877316</td>\n",
       "      <td>2.0</td>\n",
       "      <td>0.200000</td>\n",
       "      <td>0.184805</td>\n",
       "      <td>64.4</td>\n",
       "      <td>3.0</td>\n",
       "      <td>2.0</td>\n",
       "    </tr>\n",
       "    <tr>\n",
       "      <th>1</th>\n",
       "      <td>000fd460</td>\n",
       "      <td>9</td>\n",
       "      <td>0</td>\n",
       "      <td>Early Teen</td>\n",
       "      <td>65.156829</td>\n",
       "      <td>14.035590</td>\n",
       "      <td>2.0</td>\n",
       "      <td>0.400000</td>\n",
       "      <td>0.178587</td>\n",
       "      <td>64.0</td>\n",
       "      <td>0.0</td>\n",
       "      <td>0.0</td>\n",
       "    </tr>\n",
       "    <tr>\n",
       "      <th>2</th>\n",
       "      <td>00105258</td>\n",
       "      <td>10</td>\n",
       "      <td>1</td>\n",
       "      <td>Early Teen</td>\n",
       "      <td>65.156829</td>\n",
       "      <td>19.131648</td>\n",
       "      <td>3.0</td>\n",
       "      <td>0.583126</td>\n",
       "      <td>0.193319</td>\n",
       "      <td>54.0</td>\n",
       "      <td>2.0</td>\n",
       "      <td>0.0</td>\n",
       "    </tr>\n",
       "    <tr>\n",
       "      <th>3</th>\n",
       "      <td>00115b9f</td>\n",
       "      <td>9</td>\n",
       "      <td>0</td>\n",
       "      <td>Early Teen</td>\n",
       "      <td>71.000000</td>\n",
       "      <td>18.292347</td>\n",
       "      <td>3.0</td>\n",
       "      <td>0.400000</td>\n",
       "      <td>0.190185</td>\n",
       "      <td>45.0</td>\n",
       "      <td>0.0</td>\n",
       "      <td>1.0</td>\n",
       "    </tr>\n",
       "    <tr>\n",
       "      <th>4</th>\n",
       "      <td>001f3379</td>\n",
       "      <td>13</td>\n",
       "      <td>1</td>\n",
       "      <td>Teen</td>\n",
       "      <td>50.000000</td>\n",
       "      <td>22.279952</td>\n",
       "      <td>2.0</td>\n",
       "      <td>0.400000</td>\n",
       "      <td>0.217322</td>\n",
       "      <td>56.0</td>\n",
       "      <td>0.0</td>\n",
       "      <td>1.0</td>\n",
       "    </tr>\n",
       "  </tbody>\n",
       "</table>\n",
       "</div>"
      ],
      "text/plain": [
       "         id  Basic_Demos-Age  Basic_Demos-Sex   age_group  CGAS_Score  \\\n",
       "0  00008ff9                5                0       Child   51.000000   \n",
       "1  000fd460                9                0  Early Teen   65.156829   \n",
       "2  00105258               10                1  Early Teen   65.156829   \n",
       "3  00115b9f                9                0  Early Teen   71.000000   \n",
       "4  001f3379               13                1        Teen   50.000000   \n",
       "\n",
       "   Physical-BMI  BIA_Activity_Level  Fitness_Combined_Score  \\\n",
       "0     16.877316                 2.0                0.200000   \n",
       "1     14.035590                 2.0                0.400000   \n",
       "2     19.131648                 3.0                0.583126   \n",
       "3     18.292347                 3.0                0.400000   \n",
       "4     22.279952                 2.0                0.400000   \n",
       "\n",
       "   Physical_Composite_Index  SDS-SDS_Total_T  \\\n",
       "0                  0.184805             64.4   \n",
       "1                  0.178587             64.0   \n",
       "2                  0.193319             54.0   \n",
       "3                  0.190185             45.0   \n",
       "4                  0.217322             56.0   \n",
       "\n",
       "   PreInt_EduHx-computerinternet_hoursday  sii  \n",
       "0                                     3.0  2.0  \n",
       "1                                     0.0  0.0  \n",
       "2                                     2.0  0.0  \n",
       "3                                     0.0  1.0  \n",
       "4                                     0.0  1.0  "
      ]
     },
     "execution_count": 1,
     "metadata": {},
     "output_type": "execute_result"
    }
   ],
   "source": [
    "import os\n",
    "\n",
    "# List all files in the dataset directory\n",
    "base_path = '/kaggle/input/cleanedtabularcsv/cleaned_train.csv'\n",
    "\n",
    "import pandas as pd\n",
    "import numpy as np\n",
    "import warnings\n",
    "warnings.filterwarnings('ignore', category=FutureWarning)\n",
    "\n",
    "# Load the training data\n",
    "train = pd.read_csv(base_path)\n",
    "train.head(5)"
   ]
  },
  {
   "cell_type": "code",
   "execution_count": 2,
   "id": "782cbc48",
   "metadata": {
    "execution": {
     "iopub.execute_input": "2024-11-19T19:15:09.348944Z",
     "iopub.status.busy": "2024-11-19T19:15:09.348525Z",
     "iopub.status.idle": "2024-11-19T19:15:09.359176Z",
     "shell.execute_reply": "2024-11-19T19:15:09.357994Z"
    },
    "papermill": {
     "duration": 0.018598,
     "end_time": "2024-11-19T19:15:09.361608",
     "exception": false,
     "start_time": "2024-11-19T19:15:09.343010",
     "status": "completed"
    },
    "tags": []
   },
   "outputs": [],
   "source": [
    "# Drop a column by its name\n",
    "train.drop(['age_group','id'], axis=1, inplace=True)\n"
   ]
  },
  {
   "cell_type": "code",
   "execution_count": 3,
   "id": "f9683d38",
   "metadata": {
    "execution": {
     "iopub.execute_input": "2024-11-19T19:15:09.371969Z",
     "iopub.status.busy": "2024-11-19T19:15:09.371548Z",
     "iopub.status.idle": "2024-11-19T19:15:09.378005Z",
     "shell.execute_reply": "2024-11-19T19:15:09.376622Z"
    },
    "papermill": {
     "duration": 0.014048,
     "end_time": "2024-11-19T19:15:09.380133",
     "exception": false,
     "start_time": "2024-11-19T19:15:09.366085",
     "status": "completed"
    },
    "tags": []
   },
   "outputs": [],
   "source": [
    "X = train.drop(columns=['sii'])\n",
    "y = train['sii']"
   ]
  },
  {
   "cell_type": "code",
   "execution_count": 4,
   "id": "58e6b050",
   "metadata": {
    "execution": {
     "iopub.execute_input": "2024-11-19T19:15:09.391030Z",
     "iopub.status.busy": "2024-11-19T19:15:09.390614Z",
     "iopub.status.idle": "2024-11-19T19:15:10.893203Z",
     "shell.execute_reply": "2024-11-19T19:15:10.891741Z"
    },
    "papermill": {
     "duration": 1.510973,
     "end_time": "2024-11-19T19:15:10.895705",
     "exception": false,
     "start_time": "2024-11-19T19:15:09.384732",
     "status": "completed"
    },
    "tags": []
   },
   "outputs": [],
   "source": [
    "from sklearn.model_selection import train_test_split\n",
    "X_train, X_val, y_train, y_val = train_test_split(X, y, test_size=0.2, random_state=42, stratify=y)"
   ]
  },
  {
   "cell_type": "code",
   "execution_count": 5,
   "id": "eaff0dcb",
   "metadata": {
    "execution": {
     "iopub.execute_input": "2024-11-19T19:15:10.906589Z",
     "iopub.status.busy": "2024-11-19T19:15:10.906050Z",
     "iopub.status.idle": "2024-11-19T19:15:10.919441Z",
     "shell.execute_reply": "2024-11-19T19:15:10.918071Z"
    },
    "papermill": {
     "duration": 0.021756,
     "end_time": "2024-11-19T19:15:10.922003",
     "exception": false,
     "start_time": "2024-11-19T19:15:10.900247",
     "status": "completed"
    },
    "tags": []
   },
   "outputs": [],
   "source": [
    "from sklearn.preprocessing import StandardScaler\n",
    "scaler = StandardScaler()\n",
    "X_train_scaled = scaler.fit_transform(X_train)\n",
    "X_val_scaled = scaler.transform(X_val)\n"
   ]
  },
  {
   "cell_type": "code",
   "execution_count": 6,
   "id": "07b64a03",
   "metadata": {
    "execution": {
     "iopub.execute_input": "2024-11-19T19:15:10.932966Z",
     "iopub.status.busy": "2024-11-19T19:15:10.932537Z",
     "iopub.status.idle": "2024-11-19T19:15:11.512556Z",
     "shell.execute_reply": "2024-11-19T19:15:11.511256Z"
    },
    "papermill": {
     "duration": 0.588548,
     "end_time": "2024-11-19T19:15:11.515078",
     "exception": false,
     "start_time": "2024-11-19T19:15:10.926530",
     "status": "completed"
    },
    "tags": []
   },
   "outputs": [],
   "source": [
    "from imblearn.over_sampling import SMOTE\n",
    "smote = SMOTE(random_state=42)\n",
    "X_train_smote, y_train_smote = smote.fit_resample(X_train_scaled, y_train)\n"
   ]
  },
  {
   "cell_type": "code",
   "execution_count": 7,
   "id": "5f4fe71e",
   "metadata": {
    "execution": {
     "iopub.execute_input": "2024-11-19T19:15:11.526013Z",
     "iopub.status.busy": "2024-11-19T19:15:11.525246Z",
     "iopub.status.idle": "2024-11-19T19:15:11.540549Z",
     "shell.execute_reply": "2024-11-19T19:15:11.539084Z"
    },
    "papermill": {
     "duration": 0.023331,
     "end_time": "2024-11-19T19:15:11.542929",
     "exception": false,
     "start_time": "2024-11-19T19:15:11.519598",
     "status": "completed"
    },
    "tags": []
   },
   "outputs": [
    {
     "name": "stdout",
     "output_type": "stream",
     "text": [
      "sii\n",
      "2.0    1271\n",
      "0.0    1271\n",
      "1.0    1271\n",
      "3.0    1271\n",
      "Name: count, dtype: int64\n"
     ]
    }
   ],
   "source": [
    "# Check the class distribution after SMOTE\n",
    "print(pd.Series(y_train_smote).value_counts())"
   ]
  },
  {
   "cell_type": "code",
   "execution_count": null,
   "id": "d4611e52",
   "metadata": {
    "papermill": {
     "duration": 0.004486,
     "end_time": "2024-11-19T19:15:11.553056",
     "exception": false,
     "start_time": "2024-11-19T19:15:11.548570",
     "status": "completed"
    },
    "tags": []
   },
   "outputs": [],
   "source": []
  },
  {
   "cell_type": "code",
   "execution_count": 8,
   "id": "7ca3e0ea",
   "metadata": {
    "execution": {
     "iopub.execute_input": "2024-11-19T19:15:11.563419Z",
     "iopub.status.busy": "2024-11-19T19:15:11.563062Z",
     "iopub.status.idle": "2024-11-19T19:15:11.592336Z",
     "shell.execute_reply": "2024-11-19T19:15:11.591165Z"
    },
    "papermill": {
     "duration": 0.037343,
     "end_time": "2024-11-19T19:15:11.594826",
     "exception": false,
     "start_time": "2024-11-19T19:15:11.557483",
     "status": "completed"
    },
    "tags": []
   },
   "outputs": [],
   "source": [
    "# 8. Apply PCA to reduce dimensionality after SMOTE (optional but can improve SVM performance)\n",
    "from sklearn.decomposition import PCA\n",
    "pca = PCA(n_components=0.95, random_state=42)  # Keep 95% of variance\n",
    "X_train_pca = pca.fit_transform(X_train_smote)\n",
    "X_val_pca = pca.transform(X_val_scaled)"
   ]
  },
  {
   "cell_type": "code",
   "execution_count": 9,
   "id": "2f6d45c0",
   "metadata": {
    "execution": {
     "iopub.execute_input": "2024-11-19T19:15:11.606113Z",
     "iopub.status.busy": "2024-11-19T19:15:11.605131Z",
     "iopub.status.idle": "2024-11-19T19:15:11.611839Z",
     "shell.execute_reply": "2024-11-19T19:15:11.610192Z"
    },
    "papermill": {
     "duration": 0.015315,
     "end_time": "2024-11-19T19:15:11.614678",
     "exception": false,
     "start_time": "2024-11-19T19:15:11.599363",
     "status": "completed"
    },
    "tags": []
   },
   "outputs": [
    {
     "name": "stdout",
     "output_type": "stream",
     "text": [
      "Explained Variance Ratio by PCA: 0.9635096741705508\n"
     ]
    }
   ],
   "source": [
    "# Check the explained variance ratio to understand how much information PCA retained\n",
    "print(f\"Explained Variance Ratio by PCA: {np.sum(pca.explained_variance_ratio_)}\")"
   ]
  },
  {
   "cell_type": "code",
   "execution_count": 10,
   "id": "1f4894d7",
   "metadata": {
    "execution": {
     "iopub.execute_input": "2024-11-19T19:15:11.625768Z",
     "iopub.status.busy": "2024-11-19T19:15:11.625297Z",
     "iopub.status.idle": "2024-11-19T19:15:12.482264Z",
     "shell.execute_reply": "2024-11-19T19:15:12.480975Z"
    },
    "papermill": {
     "duration": 0.865352,
     "end_time": "2024-11-19T19:15:12.484695",
     "exception": false,
     "start_time": "2024-11-19T19:15:11.619343",
     "status": "completed"
    },
    "tags": []
   },
   "outputs": [
    {
     "data": {
      "text/html": [
       "<style>#sk-container-id-1 {color: black;background-color: white;}#sk-container-id-1 pre{padding: 0;}#sk-container-id-1 div.sk-toggleable {background-color: white;}#sk-container-id-1 label.sk-toggleable__label {cursor: pointer;display: block;width: 100%;margin-bottom: 0;padding: 0.3em;box-sizing: border-box;text-align: center;}#sk-container-id-1 label.sk-toggleable__label-arrow:before {content: \"▸\";float: left;margin-right: 0.25em;color: #696969;}#sk-container-id-1 label.sk-toggleable__label-arrow:hover:before {color: black;}#sk-container-id-1 div.sk-estimator:hover label.sk-toggleable__label-arrow:before {color: black;}#sk-container-id-1 div.sk-toggleable__content {max-height: 0;max-width: 0;overflow: hidden;text-align: left;background-color: #f0f8ff;}#sk-container-id-1 div.sk-toggleable__content pre {margin: 0.2em;color: black;border-radius: 0.25em;background-color: #f0f8ff;}#sk-container-id-1 input.sk-toggleable__control:checked~div.sk-toggleable__content {max-height: 200px;max-width: 100%;overflow: auto;}#sk-container-id-1 input.sk-toggleable__control:checked~label.sk-toggleable__label-arrow:before {content: \"▾\";}#sk-container-id-1 div.sk-estimator input.sk-toggleable__control:checked~label.sk-toggleable__label {background-color: #d4ebff;}#sk-container-id-1 div.sk-label input.sk-toggleable__control:checked~label.sk-toggleable__label {background-color: #d4ebff;}#sk-container-id-1 input.sk-hidden--visually {border: 0;clip: rect(1px 1px 1px 1px);clip: rect(1px, 1px, 1px, 1px);height: 1px;margin: -1px;overflow: hidden;padding: 0;position: absolute;width: 1px;}#sk-container-id-1 div.sk-estimator {font-family: monospace;background-color: #f0f8ff;border: 1px dotted black;border-radius: 0.25em;box-sizing: border-box;margin-bottom: 0.5em;}#sk-container-id-1 div.sk-estimator:hover {background-color: #d4ebff;}#sk-container-id-1 div.sk-parallel-item::after {content: \"\";width: 100%;border-bottom: 1px solid gray;flex-grow: 1;}#sk-container-id-1 div.sk-label:hover label.sk-toggleable__label {background-color: #d4ebff;}#sk-container-id-1 div.sk-serial::before {content: \"\";position: absolute;border-left: 1px solid gray;box-sizing: border-box;top: 0;bottom: 0;left: 50%;z-index: 0;}#sk-container-id-1 div.sk-serial {display: flex;flex-direction: column;align-items: center;background-color: white;padding-right: 0.2em;padding-left: 0.2em;position: relative;}#sk-container-id-1 div.sk-item {position: relative;z-index: 1;}#sk-container-id-1 div.sk-parallel {display: flex;align-items: stretch;justify-content: center;background-color: white;position: relative;}#sk-container-id-1 div.sk-item::before, #sk-container-id-1 div.sk-parallel-item::before {content: \"\";position: absolute;border-left: 1px solid gray;box-sizing: border-box;top: 0;bottom: 0;left: 50%;z-index: -1;}#sk-container-id-1 div.sk-parallel-item {display: flex;flex-direction: column;z-index: 1;position: relative;background-color: white;}#sk-container-id-1 div.sk-parallel-item:first-child::after {align-self: flex-end;width: 50%;}#sk-container-id-1 div.sk-parallel-item:last-child::after {align-self: flex-start;width: 50%;}#sk-container-id-1 div.sk-parallel-item:only-child::after {width: 0;}#sk-container-id-1 div.sk-dashed-wrapped {border: 1px dashed gray;margin: 0 0.4em 0.5em 0.4em;box-sizing: border-box;padding-bottom: 0.4em;background-color: white;}#sk-container-id-1 div.sk-label label {font-family: monospace;font-weight: bold;display: inline-block;line-height: 1.2em;}#sk-container-id-1 div.sk-label-container {text-align: center;}#sk-container-id-1 div.sk-container {/* jupyter's `normalize.less` sets `[hidden] { display: none; }` but bootstrap.min.css set `[hidden] { display: none !important; }` so we also need the `!important` here to be able to override the default hidden behavior on the sphinx rendered scikit-learn.org. See: https://github.com/scikit-learn/scikit-learn/issues/21755 */display: inline-block !important;position: relative;}#sk-container-id-1 div.sk-text-repr-fallback {display: none;}</style><div id=\"sk-container-id-1\" class=\"sk-top-container\"><div class=\"sk-text-repr-fallback\"><pre>SVC(class_weight=&#x27;balanced&#x27;, random_state=42)</pre><b>In a Jupyter environment, please rerun this cell to show the HTML representation or trust the notebook. <br />On GitHub, the HTML representation is unable to render, please try loading this page with nbviewer.org.</b></div><div class=\"sk-container\" hidden><div class=\"sk-item\"><div class=\"sk-estimator sk-toggleable\"><input class=\"sk-toggleable__control sk-hidden--visually\" id=\"sk-estimator-id-1\" type=\"checkbox\" checked><label for=\"sk-estimator-id-1\" class=\"sk-toggleable__label sk-toggleable__label-arrow\">SVC</label><div class=\"sk-toggleable__content\"><pre>SVC(class_weight=&#x27;balanced&#x27;, random_state=42)</pre></div></div></div></div></div>"
      ],
      "text/plain": [
       "SVC(class_weight='balanced', random_state=42)"
      ]
     },
     "execution_count": 10,
     "metadata": {},
     "output_type": "execute_result"
    }
   ],
   "source": [
    "from sklearn.svm import SVC\n",
    "\n",
    "# 9. Baseline Model: Train an SVM with a radial basis function (RBF) kernel and class weight balanced\n",
    "baseline_svm = SVC(kernel='rbf', class_weight='balanced', random_state=42)\n",
    "baseline_svm.fit(X_train_pca, y_train_smote)\n"
   ]
  },
  {
   "cell_type": "code",
   "execution_count": 11,
   "id": "e37c9b13",
   "metadata": {
    "execution": {
     "iopub.execute_input": "2024-11-19T19:15:12.496143Z",
     "iopub.status.busy": "2024-11-19T19:15:12.495700Z",
     "iopub.status.idle": "2024-11-19T19:15:12.616471Z",
     "shell.execute_reply": "2024-11-19T19:15:12.615032Z"
    },
    "papermill": {
     "duration": 0.129185,
     "end_time": "2024-11-19T19:15:12.618929",
     "exception": false,
     "start_time": "2024-11-19T19:15:12.489744",
     "status": "completed"
    },
    "tags": []
   },
   "outputs": [],
   "source": [
    "# Predict on the validation set\n",
    "y_pred = baseline_svm.predict(X_val_pca)"
   ]
  },
  {
   "cell_type": "code",
   "execution_count": 12,
   "id": "cfb1bf8f",
   "metadata": {
    "execution": {
     "iopub.execute_input": "2024-11-19T19:15:12.630975Z",
     "iopub.status.busy": "2024-11-19T19:15:12.630529Z",
     "iopub.status.idle": "2024-11-19T19:15:12.638831Z",
     "shell.execute_reply": "2024-11-19T19:15:12.637454Z"
    },
    "papermill": {
     "duration": 0.017254,
     "end_time": "2024-11-19T19:15:12.641521",
     "exception": false,
     "start_time": "2024-11-19T19:15:12.624267",
     "status": "completed"
    },
    "tags": []
   },
   "outputs": [
    {
     "name": "stdout",
     "output_type": "stream",
     "text": [
      "\n",
      "Class distribution in y_pred:\n",
      "0.0    285\n",
      "1.0    123\n",
      "2.0    110\n",
      "3.0     28\n",
      "Name: count, dtype: int64\n"
     ]
    }
   ],
   "source": [
    "print(\"\\nClass distribution in y_pred:\")\n",
    "print(pd.Series(y_pred).value_counts())"
   ]
  },
  {
   "cell_type": "code",
   "execution_count": 13,
   "id": "fcb37d42",
   "metadata": {
    "execution": {
     "iopub.execute_input": "2024-11-19T19:15:12.653671Z",
     "iopub.status.busy": "2024-11-19T19:15:12.653257Z",
     "iopub.status.idle": "2024-11-19T19:15:12.670455Z",
     "shell.execute_reply": "2024-11-19T19:15:12.669226Z"
    },
    "papermill": {
     "duration": 0.026341,
     "end_time": "2024-11-19T19:15:12.672939",
     "exception": false,
     "start_time": "2024-11-19T19:15:12.646598",
     "status": "completed"
    },
    "tags": []
   },
   "outputs": [
    {
     "name": "stdout",
     "output_type": "stream",
     "text": [
      "Baseline Model Performance:\n",
      "Accuracy: 0.5128205128205128\n",
      "              precision    recall  f1-score   support\n",
      "\n",
      "         0.0       0.75      0.67      0.71       318\n",
      "         1.0       0.33      0.28      0.30       146\n",
      "         2.0       0.21      0.31      0.25        75\n",
      "         3.0       0.07      0.29      0.11         7\n",
      "\n",
      "    accuracy                           0.51       546\n",
      "   macro avg       0.34      0.39      0.34       546\n",
      "weighted avg       0.56      0.51      0.53       546\n",
      "\n"
     ]
    }
   ],
   "source": [
    "# 10. Evaluate the baseline model\n",
    "from sklearn.metrics import accuracy_score\n",
    "from sklearn.metrics import classification_report\n",
    "print(\"Baseline Model Performance:\")\n",
    "print(f\"Accuracy: {accuracy_score(y_val, y_pred)}\")\n",
    "print(classification_report(y_val, y_pred))\n"
   ]
  },
  {
   "cell_type": "markdown",
   "id": "7aab5b34",
   "metadata": {
    "papermill": {
     "duration": 0.005039,
     "end_time": "2024-11-19T19:15:12.683120",
     "exception": false,
     "start_time": "2024-11-19T19:15:12.678081",
     "status": "completed"
    },
    "tags": []
   },
   "source": [
    "The warning you see occurs because some labels in your validation set (y_val) have no corresponding predicted samples in y_pred. This causes precision and F-score to be undefined for those labels.\n",
    "Cause: The model did not predict certain classes present in the ground truth (y_val), possibly due to class imbalance, poor model training, or issues with the input features.\n",
    "Effect: sklearn sets precision and F-score to 0.0 for such labels and warns you about it."
   ]
  },
  {
   "cell_type": "markdown",
   "id": "8ac151b7",
   "metadata": {
    "papermill": {
     "duration": 0.00509,
     "end_time": "2024-11-19T19:15:12.693052",
     "exception": false,
     "start_time": "2024-11-19T19:15:12.687962",
     "status": "completed"
    },
    "tags": []
   },
   "source": []
  },
  {
   "cell_type": "code",
   "execution_count": 14,
   "id": "10e2c9b2",
   "metadata": {
    "execution": {
     "iopub.execute_input": "2024-11-19T19:15:12.705462Z",
     "iopub.status.busy": "2024-11-19T19:15:12.705055Z",
     "iopub.status.idle": "2024-11-19T19:25:58.303602Z",
     "shell.execute_reply": "2024-11-19T19:25:58.302095Z"
    },
    "papermill": {
     "duration": 645.611692,
     "end_time": "2024-11-19T19:25:58.310384",
     "exception": false,
     "start_time": "2024-11-19T19:15:12.698692",
     "status": "completed"
    },
    "tags": []
   },
   "outputs": [
    {
     "name": "stdout",
     "output_type": "stream",
     "text": [
      "Best Model Performance after Hyperparameter Tuning:\n",
      "Accuracy: 0.510989010989011\n",
      "              precision    recall  f1-score   support\n",
      "\n",
      "         0.0       0.63      0.74      0.68       318\n",
      "         1.0       0.32      0.25      0.28       146\n",
      "         2.0       0.15      0.11      0.12        75\n",
      "         3.0       0.00      0.00      0.00         7\n",
      "\n",
      "    accuracy                           0.51       546\n",
      "   macro avg       0.27      0.27      0.27       546\n",
      "weighted avg       0.47      0.51      0.49       546\n",
      "\n"
     ]
    }
   ],
   "source": [
    "from sklearn.model_selection import GridSearchCV\n",
    "# 11. Hyperparameter Tuning using GridSearchCV\n",
    "param_grid = {\n",
    "    'C': [0.1, 1, 10],\n",
    "    'gamma': [0.01, 0.1, 1],\n",
    "    'kernel': ['rbf', 'poly']\n",
    "}\n",
    "\n",
    "grid_search = GridSearchCV(SVC(class_weight='balanced'), param_grid, scoring='f1_weighted', cv=3, n_jobs=-1)\n",
    "grid_search.fit(X_train_pca, y_train_smote)\n",
    "\n",
    "# Get the best model after hyperparameter tuning\n",
    "best_model = grid_search.best_estimator_\n",
    "\n",
    "# 12. Evaluate the best model from GridSearchCV\n",
    "y_pred_best = best_model.predict(X_val_pca)\n",
    "\n",
    "print(\"Best Model Performance after Hyperparameter Tuning:\")\n",
    "print(f\"Accuracy: {accuracy_score(y_val, y_pred_best)}\")\n",
    "print(classification_report(y_val, y_pred_best))\n"
   ]
  },
  {
   "cell_type": "code",
   "execution_count": 15,
   "id": "519a0291",
   "metadata": {
    "execution": {
     "iopub.execute_input": "2024-11-19T19:25:58.323111Z",
     "iopub.status.busy": "2024-11-19T19:25:58.322638Z",
     "iopub.status.idle": "2024-11-19T19:25:59.179948Z",
     "shell.execute_reply": "2024-11-19T19:25:59.178572Z"
    },
    "papermill": {
     "duration": 0.866701,
     "end_time": "2024-11-19T19:25:59.182412",
     "exception": false,
     "start_time": "2024-11-19T19:25:58.315711",
     "status": "completed"
    },
    "tags": []
   },
   "outputs": [
    {
     "data": {
      "image/png": "[encoded data removed]",
      "text/plain": [
       "<Figure size 1000x700 with 2 Axes>"
      ]
     },
     "metadata": {},
     "output_type": "display_data"
    }
   ],
   "source": [
    "from sklearn.metrics import confusion_matrix\n",
    "import seaborn as sns\n",
    "import matplotlib.pyplot as plt\n",
    "\n",
    "conf_matrix = confusion_matrix(y_val, y_pred_best)\n",
    "plt.figure(figsize=(10, 7))\n",
    "sns.heatmap(conf_matrix, annot=True, fmt='d', cmap='Blues', xticklabels=np.unique(y), yticklabels=np.unique(y))\n",
    "plt.title(\"Confusion Matrix\")\n",
    "plt.xlabel(\"Predicted Label\")\n",
    "plt.ylabel(\"True Label\")\n",
    "plt.show()"
   ]
  }
 ],
 "metadata": {
  "kaggle": {
   "accelerator": "none",
   "dataSources": [
    {
     "databundleVersionId": 9643020,
     "sourceId": 81933,
     "sourceType": "competition"
    },
    {
     "datasetId": 6122271,
     "sourceId": 9954617,
     "sourceType": "datasetVersion"
    }
   ],
   "dockerImageVersionId": 30786,
   "isGpuEnabled": false,
   "isInternetEnabled": true,
   "language": "python",
   "sourceType": "notebook"
  },
  "kernelspec": {
   "display_name": "Python 3",
   "language": "python",
   "name": "python3"
  },
  "language_info": {
   "codemirror_mode": {
    "name": "ipython",
    "version": 3
   },
   "file_extension": ".py",
   "mimetype": "text/x-python",
   "name": "python",
   "nbconvert_exporter": "python",
   "pygments_lexer": "ipython3",
   "version": "3.10.14"
  },
  "papermill": {
   "default_parameters": {},
   "duration": 656.310284,
   "end_time": "2024-11-19T19:26:01.810041",
   "environment_variables": {},
   "exception": null,
   "input_path": "__notebook__.ipynb",
   "output_path": "__notebook__.ipynb",
   "parameters": {},
   "start_time": "2024-11-19T19:15:05.499757",
   "version": "2.6.0"
  }
 },
 "nbformat": 4,
 "nbformat_minor": 5
}

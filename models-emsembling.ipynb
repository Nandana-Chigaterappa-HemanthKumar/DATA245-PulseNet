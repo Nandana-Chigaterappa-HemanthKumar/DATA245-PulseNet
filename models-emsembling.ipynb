{
 "cells": [
  {
   "cell_type": "code",
   "execution_count": 1,
   "id": "b8056040",
   "metadata": {
    "execution": {
     "iopub.execute_input": "2024-11-23T03:17:05.820692Z",
     "iopub.status.busy": "2024-11-23T03:17:05.820293Z",
     "iopub.status.idle": "2024-11-23T03:17:06.673323Z",
     "shell.execute_reply": "2024-11-23T03:17:06.672465Z"
    },
    "papermill": {
     "duration": 0.861369,
     "end_time": "2024-11-23T03:17:06.675549",
     "exception": false,
     "start_time": "2024-11-23T03:17:05.814180",
     "status": "completed"
    },
    "tags": []
   },
   "outputs": [],
   "source": [
    "import pandas as pd\n",
    "\n",
    "# Loading both the datasets\n",
    "tabularcsvdata = '/kaggle/input/inputdataset/cleaned_train.csv'\n",
    "actigraphydata = '/kaggle/input/inputdataset/CleanedActigraphyData.csv'\n",
    "\n",
    "data_1 = pd.read_csv(tabularcsvdata)\n",
    "data_2 = pd.read_csv(actigraphydata)\n"
   ]
  },
  {
   "cell_type": "code",
   "execution_count": 2,
   "id": "fdbcf317",
   "metadata": {
    "execution": {
     "iopub.execute_input": "2024-11-23T03:17:06.687929Z",
     "iopub.status.busy": "2024-11-23T03:17:06.687363Z",
     "iopub.status.idle": "2024-11-23T03:17:06.712296Z",
     "shell.execute_reply": "2024-11-23T03:17:06.711277Z"
    },
    "papermill": {
     "duration": 0.032844,
     "end_time": "2024-11-23T03:17:06.714213",
     "exception": false,
     "start_time": "2024-11-23T03:17:06.681369",
     "status": "completed"
    },
    "tags": []
   },
   "outputs": [
    {
     "data": {
      "text/html": [
       "<div>\n",
       "<style scoped>\n",
       "    .dataframe tbody tr th:only-of-type {\n",
       "        vertical-align: middle;\n",
       "    }\n",
       "\n",
       "    .dataframe tbody tr th {\n",
       "        vertical-align: top;\n",
       "    }\n",
       "\n",
       "    .dataframe thead th {\n",
       "        text-align: right;\n",
       "    }\n",
       "</style>\n",
       "<table border=\"1\" class=\"dataframe\">\n",
       "  <thead>\n",
       "    <tr style=\"text-align: right;\">\n",
       "      <th></th>\n",
       "      <th>id</th>\n",
       "      <th>Basic_Demos-Age</th>\n",
       "      <th>Basic_Demos-Sex</th>\n",
       "      <th>age_group</th>\n",
       "      <th>CGAS_Score</th>\n",
       "      <th>Physical-BMI</th>\n",
       "      <th>BIA_Activity_Level</th>\n",
       "      <th>Fitness_Combined_Score</th>\n",
       "      <th>Physical_Composite_Index</th>\n",
       "      <th>SDS-SDS_Total_T</th>\n",
       "      <th>PreInt_EduHx-computerinternet_hoursday</th>\n",
       "      <th>sii</th>\n",
       "    </tr>\n",
       "  </thead>\n",
       "  <tbody>\n",
       "    <tr>\n",
       "      <th>0</th>\n",
       "      <td>00008ff9</td>\n",
       "      <td>5</td>\n",
       "      <td>0</td>\n",
       "      <td>Child</td>\n",
       "      <td>51.000000</td>\n",
       "      <td>16.877316</td>\n",
       "      <td>2.0</td>\n",
       "      <td>0.200000</td>\n",
       "      <td>0.184805</td>\n",
       "      <td>64.4</td>\n",
       "      <td>3.0</td>\n",
       "      <td>2.0</td>\n",
       "    </tr>\n",
       "    <tr>\n",
       "      <th>1</th>\n",
       "      <td>000fd460</td>\n",
       "      <td>9</td>\n",
       "      <td>0</td>\n",
       "      <td>Early Teen</td>\n",
       "      <td>65.156829</td>\n",
       "      <td>14.035590</td>\n",
       "      <td>2.0</td>\n",
       "      <td>0.400000</td>\n",
       "      <td>0.178587</td>\n",
       "      <td>64.0</td>\n",
       "      <td>0.0</td>\n",
       "      <td>0.0</td>\n",
       "    </tr>\n",
       "    <tr>\n",
       "      <th>2</th>\n",
       "      <td>00105258</td>\n",
       "      <td>10</td>\n",
       "      <td>1</td>\n",
       "      <td>Early Teen</td>\n",
       "      <td>65.156829</td>\n",
       "      <td>19.131648</td>\n",
       "      <td>3.0</td>\n",
       "      <td>0.583126</td>\n",
       "      <td>0.193319</td>\n",
       "      <td>54.0</td>\n",
       "      <td>2.0</td>\n",
       "      <td>0.0</td>\n",
       "    </tr>\n",
       "    <tr>\n",
       "      <th>3</th>\n",
       "      <td>00115b9f</td>\n",
       "      <td>9</td>\n",
       "      <td>0</td>\n",
       "      <td>Early Teen</td>\n",
       "      <td>71.000000</td>\n",
       "      <td>18.292347</td>\n",
       "      <td>3.0</td>\n",
       "      <td>0.400000</td>\n",
       "      <td>0.190185</td>\n",
       "      <td>45.0</td>\n",
       "      <td>0.0</td>\n",
       "      <td>1.0</td>\n",
       "    </tr>\n",
       "    <tr>\n",
       "      <th>4</th>\n",
       "      <td>001f3379</td>\n",
       "      <td>13</td>\n",
       "      <td>1</td>\n",
       "      <td>Teen</td>\n",
       "      <td>50.000000</td>\n",
       "      <td>22.279952</td>\n",
       "      <td>2.0</td>\n",
       "      <td>0.400000</td>\n",
       "      <td>0.217322</td>\n",
       "      <td>56.0</td>\n",
       "      <td>0.0</td>\n",
       "      <td>1.0</td>\n",
       "    </tr>\n",
       "  </tbody>\n",
       "</table>\n",
       "</div>"
      ],
      "text/plain": [
       "         id  Basic_Demos-Age  Basic_Demos-Sex   age_group  CGAS_Score  \\\n",
       "0  00008ff9                5                0       Child   51.000000   \n",
       "1  000fd460                9                0  Early Teen   65.156829   \n",
       "2  00105258               10                1  Early Teen   65.156829   \n",
       "3  00115b9f                9                0  Early Teen   71.000000   \n",
       "4  001f3379               13                1        Teen   50.000000   \n",
       "\n",
       "   Physical-BMI  BIA_Activity_Level  Fitness_Combined_Score  \\\n",
       "0     16.877316                 2.0                0.200000   \n",
       "1     14.035590                 2.0                0.400000   \n",
       "2     19.131648                 3.0                0.583126   \n",
       "3     18.292347                 3.0                0.400000   \n",
       "4     22.279952                 2.0                0.400000   \n",
       "\n",
       "   Physical_Composite_Index  SDS-SDS_Total_T  \\\n",
       "0                  0.184805             64.4   \n",
       "1                  0.178587             64.0   \n",
       "2                  0.193319             54.0   \n",
       "3                  0.190185             45.0   \n",
       "4                  0.217322             56.0   \n",
       "\n",
       "   PreInt_EduHx-computerinternet_hoursday  sii  \n",
       "0                                     3.0  2.0  \n",
       "1                                     0.0  0.0  \n",
       "2                                     2.0  0.0  \n",
       "3                                     0.0  1.0  \n",
       "4                                     0.0  1.0  "
      ]
     },
     "execution_count": 2,
     "metadata": {},
     "output_type": "execute_result"
    }
   ],
   "source": [
    "data_1.head()"
   ]
  },
  {
   "cell_type": "code",
   "execution_count": 3,
   "id": "278bba3a",
   "metadata": {
    "execution": {
     "iopub.execute_input": "2024-11-23T03:17:06.725485Z",
     "iopub.status.busy": "2024-11-23T03:17:06.725085Z",
     "iopub.status.idle": "2024-11-23T03:17:06.736648Z",
     "shell.execute_reply": "2024-11-23T03:17:06.735777Z"
    },
    "papermill": {
     "duration": 0.01966,
     "end_time": "2024-11-23T03:17:06.738674",
     "exception": false,
     "start_time": "2024-11-23T03:17:06.719014",
     "status": "completed"
    },
    "tags": []
   },
   "outputs": [],
   "source": [
    "data_1 = data_1.drop(columns=['age_group'])"
   ]
  },
  {
   "cell_type": "code",
   "execution_count": 4,
   "id": "52ab95d3",
   "metadata": {
    "execution": {
     "iopub.execute_input": "2024-11-23T03:17:06.748828Z",
     "iopub.status.busy": "2024-11-23T03:17:06.748447Z",
     "iopub.status.idle": "2024-11-23T03:17:06.763716Z",
     "shell.execute_reply": "2024-11-23T03:17:06.762638Z"
    },
    "papermill": {
     "duration": 0.022371,
     "end_time": "2024-11-23T03:17:06.765548",
     "exception": false,
     "start_time": "2024-11-23T03:17:06.743177",
     "status": "completed"
    },
    "tags": []
   },
   "outputs": [
    {
     "data": {
      "text/html": [
       "<div>\n",
       "<style scoped>\n",
       "    .dataframe tbody tr th:only-of-type {\n",
       "        vertical-align: middle;\n",
       "    }\n",
       "\n",
       "    .dataframe tbody tr th {\n",
       "        vertical-align: top;\n",
       "    }\n",
       "\n",
       "    .dataframe thead th {\n",
       "        text-align: right;\n",
       "    }\n",
       "</style>\n",
       "<table border=\"1\" class=\"dataframe\">\n",
       "  <thead>\n",
       "    <tr style=\"text-align: right;\">\n",
       "      <th></th>\n",
       "      <th>participant_id</th>\n",
       "      <th>mean_enmo</th>\n",
       "      <th>std_enmo</th>\n",
       "      <th>max_enmo</th>\n",
       "      <th>min_enmo</th>\n",
       "      <th>mean_magnitude</th>\n",
       "      <th>std_magnitude</th>\n",
       "      <th>inactivity_percentage</th>\n",
       "      <th>non_wear_percentage</th>\n",
       "      <th>activity_level</th>\n",
       "      <th>sii</th>\n",
       "    </tr>\n",
       "  </thead>\n",
       "  <tbody>\n",
       "    <tr>\n",
       "      <th>0</th>\n",
       "      <td>00115b9f</td>\n",
       "      <td>0.020411</td>\n",
       "      <td>0.001761</td>\n",
       "      <td>0.022853</td>\n",
       "      <td>0.018667</td>\n",
       "      <td>1.020398</td>\n",
       "      <td>0.001759</td>\n",
       "      <td>0.000000</td>\n",
       "      <td>0.000000</td>\n",
       "      <td>Medium</td>\n",
       "      <td>1.0</td>\n",
       "    </tr>\n",
       "    <tr>\n",
       "      <th>1</th>\n",
       "      <td>001f3379</td>\n",
       "      <td>0.013445</td>\n",
       "      <td>0.031016</td>\n",
       "      <td>2.952888</td>\n",
       "      <td>0.000000</td>\n",
       "      <td>0.996000</td>\n",
       "      <td>0.049507</td>\n",
       "      <td>3.763106</td>\n",
       "      <td>48.399446</td>\n",
       "      <td>Medium</td>\n",
       "      <td>1.0</td>\n",
       "    </tr>\n",
       "    <tr>\n",
       "      <th>2</th>\n",
       "      <td>00f332d1</td>\n",
       "      <td>0.029802</td>\n",
       "      <td>0.104216</td>\n",
       "      <td>3.681586</td>\n",
       "      <td>0.000000</td>\n",
       "      <td>0.980751</td>\n",
       "      <td>0.070811</td>\n",
       "      <td>15.596860</td>\n",
       "      <td>11.175805</td>\n",
       "      <td>Low</td>\n",
       "      <td>1.0</td>\n",
       "    </tr>\n",
       "    <tr>\n",
       "      <th>3</th>\n",
       "      <td>01085eb3</td>\n",
       "      <td>0.035465</td>\n",
       "      <td>0.085573</td>\n",
       "      <td>2.506849</td>\n",
       "      <td>0.000000</td>\n",
       "      <td>0.969044</td>\n",
       "      <td>0.082127</td>\n",
       "      <td>4.349319</td>\n",
       "      <td>0.000000</td>\n",
       "      <td>Low</td>\n",
       "      <td>0.0</td>\n",
       "    </tr>\n",
       "    <tr>\n",
       "      <th>4</th>\n",
       "      <td>012cadd8</td>\n",
       "      <td>0.061621</td>\n",
       "      <td>0.202441</td>\n",
       "      <td>6.307294</td>\n",
       "      <td>0.000000</td>\n",
       "      <td>0.966942</td>\n",
       "      <td>0.135903</td>\n",
       "      <td>8.530412</td>\n",
       "      <td>0.000000</td>\n",
       "      <td>Low</td>\n",
       "      <td>0.0</td>\n",
       "    </tr>\n",
       "  </tbody>\n",
       "</table>\n",
       "</div>"
      ],
      "text/plain": [
       "  participant_id  mean_enmo  std_enmo  max_enmo  min_enmo  mean_magnitude  \\\n",
       "0       00115b9f   0.020411  0.001761  0.022853  0.018667        1.020398   \n",
       "1       001f3379   0.013445  0.031016  2.952888  0.000000        0.996000   \n",
       "2       00f332d1   0.029802  0.104216  3.681586  0.000000        0.980751   \n",
       "3       01085eb3   0.035465  0.085573  2.506849  0.000000        0.969044   \n",
       "4       012cadd8   0.061621  0.202441  6.307294  0.000000        0.966942   \n",
       "\n",
       "   std_magnitude  inactivity_percentage  non_wear_percentage activity_level  \\\n",
       "0       0.001759               0.000000             0.000000         Medium   \n",
       "1       0.049507               3.763106            48.399446         Medium   \n",
       "2       0.070811              15.596860            11.175805            Low   \n",
       "3       0.082127               4.349319             0.000000            Low   \n",
       "4       0.135903               8.530412             0.000000            Low   \n",
       "\n",
       "   sii  \n",
       "0  1.0  \n",
       "1  1.0  \n",
       "2  1.0  \n",
       "3  0.0  \n",
       "4  0.0  "
      ]
     },
     "execution_count": 4,
     "metadata": {},
     "output_type": "execute_result"
    }
   ],
   "source": [
    "data_2.head()"
   ]
  },
  {
   "cell_type": "code",
   "execution_count": 5,
   "id": "87ecf38e",
   "metadata": {
    "execution": {
     "iopub.execute_input": "2024-11-23T03:17:06.776047Z",
     "iopub.status.busy": "2024-11-23T03:17:06.775331Z",
     "iopub.status.idle": "2024-11-23T03:17:06.780921Z",
     "shell.execute_reply": "2024-11-23T03:17:06.779941Z"
    },
    "papermill": {
     "duration": 0.01307,
     "end_time": "2024-11-23T03:17:06.783013",
     "exception": false,
     "start_time": "2024-11-23T03:17:06.769943",
     "status": "completed"
    },
    "tags": []
   },
   "outputs": [],
   "source": [
    "data_2 = data_2.drop(columns=['activity_level','sii'])"
   ]
  },
  {
   "cell_type": "code",
   "execution_count": 6,
   "id": "3961d7c0",
   "metadata": {
    "execution": {
     "iopub.execute_input": "2024-11-23T03:17:06.793582Z",
     "iopub.status.busy": "2024-11-23T03:17:06.793208Z",
     "iopub.status.idle": "2024-11-23T03:17:06.812302Z",
     "shell.execute_reply": "2024-11-23T03:17:06.811354Z"
    },
    "papermill": {
     "duration": 0.026654,
     "end_time": "2024-11-23T03:17:06.814342",
     "exception": false,
     "start_time": "2024-11-23T03:17:06.787688",
     "status": "completed"
    },
    "tags": []
   },
   "outputs": [
    {
     "data": {
      "text/plain": [
       "id                                        0\n",
       "Basic_Demos-Age                           0\n",
       "Basic_Demos-Sex                           0\n",
       "CGAS_Score                                0\n",
       "Physical-BMI                              0\n",
       "BIA_Activity_Level                        0\n",
       "Fitness_Combined_Score                    0\n",
       "Physical_Composite_Index                  0\n",
       "SDS-SDS_Total_T                           0\n",
       "PreInt_EduHx-computerinternet_hoursday    0\n",
       "sii                                       0\n",
       "participant_id                            0\n",
       "mean_enmo                                 0\n",
       "std_enmo                                  2\n",
       "max_enmo                                  0\n",
       "min_enmo                                  0\n",
       "mean_magnitude                            0\n",
       "std_magnitude                             2\n",
       "inactivity_percentage                     0\n",
       "non_wear_percentage                       0\n",
       "dtype: int64"
      ]
     },
     "execution_count": 6,
     "metadata": {},
     "output_type": "execute_result"
    }
   ],
   "source": [
    "# Merge the dataframes based on 'participant_id' in data_1 and 'id' in data_2\n",
    "merged_data = pd.merge(data_1, data_2, left_on='id', right_on='participant_id', how='inner')\n",
    "nan_check = merged_data.isnull().sum()\n",
    "nan_check"
   ]
  },
  {
   "cell_type": "code",
   "execution_count": 7,
   "id": "ea760969",
   "metadata": {
    "execution": {
     "iopub.execute_input": "2024-11-23T03:17:06.824791Z",
     "iopub.status.busy": "2024-11-23T03:17:06.824450Z",
     "iopub.status.idle": "2024-11-23T03:17:06.831406Z",
     "shell.execute_reply": "2024-11-23T03:17:06.830667Z"
    },
    "papermill": {
     "duration": 0.014381,
     "end_time": "2024-11-23T03:17:06.833249",
     "exception": false,
     "start_time": "2024-11-23T03:17:06.818868",
     "status": "completed"
    },
    "tags": []
   },
   "outputs": [],
   "source": [
    "merged_data = merged_data.dropna()"
   ]
  },
  {
   "cell_type": "code",
   "execution_count": 8,
   "id": "c9d75a0f",
   "metadata": {
    "execution": {
     "iopub.execute_input": "2024-11-23T03:17:06.845046Z",
     "iopub.status.busy": "2024-11-23T03:17:06.844189Z",
     "iopub.status.idle": "2024-11-23T03:17:06.853109Z",
     "shell.execute_reply": "2024-11-23T03:17:06.852142Z"
    },
    "papermill": {
     "duration": 0.01638,
     "end_time": "2024-11-23T03:17:06.855000",
     "exception": false,
     "start_time": "2024-11-23T03:17:06.838620",
     "status": "completed"
    },
    "tags": []
   },
   "outputs": [
    {
     "data": {
      "text/plain": [
       "id                                        0\n",
       "Basic_Demos-Age                           0\n",
       "Basic_Demos-Sex                           0\n",
       "CGAS_Score                                0\n",
       "Physical-BMI                              0\n",
       "BIA_Activity_Level                        0\n",
       "Fitness_Combined_Score                    0\n",
       "Physical_Composite_Index                  0\n",
       "SDS-SDS_Total_T                           0\n",
       "PreInt_EduHx-computerinternet_hoursday    0\n",
       "sii                                       0\n",
       "participant_id                            0\n",
       "mean_enmo                                 0\n",
       "std_enmo                                  0\n",
       "max_enmo                                  0\n",
       "min_enmo                                  0\n",
       "mean_magnitude                            0\n",
       "std_magnitude                             0\n",
       "inactivity_percentage                     0\n",
       "non_wear_percentage                       0\n",
       "dtype: int64"
      ]
     },
     "execution_count": 8,
     "metadata": {},
     "output_type": "execute_result"
    }
   ],
   "source": [
    "nan_check = merged_data.isnull().sum()\n",
    "nan_check"
   ]
  },
  {
   "cell_type": "code",
   "execution_count": 9,
   "id": "1d5a804d",
   "metadata": {
    "execution": {
     "iopub.execute_input": "2024-11-23T03:17:06.865655Z",
     "iopub.status.busy": "2024-11-23T03:17:06.865004Z",
     "iopub.status.idle": "2024-11-23T03:17:06.892814Z",
     "shell.execute_reply": "2024-11-23T03:17:06.891970Z"
    },
    "papermill": {
     "duration": 0.035361,
     "end_time": "2024-11-23T03:17:06.894990",
     "exception": false,
     "start_time": "2024-11-23T03:17:06.859629",
     "status": "completed"
    },
    "tags": []
   },
   "outputs": [],
   "source": [
    "# Saving the merged data to a new CSV file\n",
    "merged_data_path = '/kaggle/working/merged_dataset.csv'\n",
    "merged_data.to_csv(merged_data_path, index=False)"
   ]
  },
  {
   "cell_type": "code",
   "execution_count": 10,
   "id": "15a4cf12",
   "metadata": {
    "execution": {
     "iopub.execute_input": "2024-11-23T03:17:06.906257Z",
     "iopub.status.busy": "2024-11-23T03:17:06.905535Z",
     "iopub.status.idle": "2024-11-23T03:17:06.924924Z",
     "shell.execute_reply": "2024-11-23T03:17:06.923983Z"
    },
    "papermill": {
     "duration": 0.027211,
     "end_time": "2024-11-23T03:17:06.927105",
     "exception": false,
     "start_time": "2024-11-23T03:17:06.899894",
     "status": "completed"
    },
    "tags": []
   },
   "outputs": [
    {
     "data": {
      "text/html": [
       "<div>\n",
       "<style scoped>\n",
       "    .dataframe tbody tr th:only-of-type {\n",
       "        vertical-align: middle;\n",
       "    }\n",
       "\n",
       "    .dataframe tbody tr th {\n",
       "        vertical-align: top;\n",
       "    }\n",
       "\n",
       "    .dataframe thead th {\n",
       "        text-align: right;\n",
       "    }\n",
       "</style>\n",
       "<table border=\"1\" class=\"dataframe\">\n",
       "  <thead>\n",
       "    <tr style=\"text-align: right;\">\n",
       "      <th></th>\n",
       "      <th>id</th>\n",
       "      <th>Basic_Demos-Age</th>\n",
       "      <th>Basic_Demos-Sex</th>\n",
       "      <th>CGAS_Score</th>\n",
       "      <th>Physical-BMI</th>\n",
       "      <th>BIA_Activity_Level</th>\n",
       "      <th>Fitness_Combined_Score</th>\n",
       "      <th>Physical_Composite_Index</th>\n",
       "      <th>SDS-SDS_Total_T</th>\n",
       "      <th>PreInt_EduHx-computerinternet_hoursday</th>\n",
       "      <th>sii</th>\n",
       "      <th>participant_id</th>\n",
       "      <th>mean_enmo</th>\n",
       "      <th>std_enmo</th>\n",
       "      <th>max_enmo</th>\n",
       "      <th>min_enmo</th>\n",
       "      <th>mean_magnitude</th>\n",
       "      <th>std_magnitude</th>\n",
       "      <th>inactivity_percentage</th>\n",
       "      <th>non_wear_percentage</th>\n",
       "    </tr>\n",
       "  </thead>\n",
       "  <tbody>\n",
       "    <tr>\n",
       "      <th>0</th>\n",
       "      <td>00115b9f</td>\n",
       "      <td>9</td>\n",
       "      <td>0</td>\n",
       "      <td>71.0</td>\n",
       "      <td>18.292347</td>\n",
       "      <td>3.0</td>\n",
       "      <td>0.400000</td>\n",
       "      <td>0.190185</td>\n",
       "      <td>45.0</td>\n",
       "      <td>0.0</td>\n",
       "      <td>1.0</td>\n",
       "      <td>00115b9f</td>\n",
       "      <td>0.020411</td>\n",
       "      <td>0.001761</td>\n",
       "      <td>0.022853</td>\n",
       "      <td>0.018667</td>\n",
       "      <td>1.020398</td>\n",
       "      <td>0.001759</td>\n",
       "      <td>0.000000</td>\n",
       "      <td>0.000000</td>\n",
       "    </tr>\n",
       "    <tr>\n",
       "      <th>1</th>\n",
       "      <td>001f3379</td>\n",
       "      <td>13</td>\n",
       "      <td>1</td>\n",
       "      <td>50.0</td>\n",
       "      <td>22.279952</td>\n",
       "      <td>2.0</td>\n",
       "      <td>0.400000</td>\n",
       "      <td>0.217322</td>\n",
       "      <td>56.0</td>\n",
       "      <td>0.0</td>\n",
       "      <td>1.0</td>\n",
       "      <td>001f3379</td>\n",
       "      <td>0.013445</td>\n",
       "      <td>0.031016</td>\n",
       "      <td>2.952888</td>\n",
       "      <td>0.000000</td>\n",
       "      <td>0.996000</td>\n",
       "      <td>0.049507</td>\n",
       "      <td>3.763106</td>\n",
       "      <td>48.399446</td>\n",
       "    </tr>\n",
       "    <tr>\n",
       "      <th>2</th>\n",
       "      <td>00f332d1</td>\n",
       "      <td>14</td>\n",
       "      <td>0</td>\n",
       "      <td>68.0</td>\n",
       "      <td>17.168636</td>\n",
       "      <td>4.0</td>\n",
       "      <td>0.400000</td>\n",
       "      <td>0.192240</td>\n",
       "      <td>43.0</td>\n",
       "      <td>2.0</td>\n",
       "      <td>1.0</td>\n",
       "      <td>00f332d1</td>\n",
       "      <td>0.029802</td>\n",
       "      <td>0.104216</td>\n",
       "      <td>3.681586</td>\n",
       "      <td>0.000000</td>\n",
       "      <td>0.980751</td>\n",
       "      <td>0.070811</td>\n",
       "      <td>15.596860</td>\n",
       "      <td>11.175805</td>\n",
       "    </tr>\n",
       "    <tr>\n",
       "      <th>3</th>\n",
       "      <td>01085eb3</td>\n",
       "      <td>12</td>\n",
       "      <td>0</td>\n",
       "      <td>58.0</td>\n",
       "      <td>34.187282</td>\n",
       "      <td>1.0</td>\n",
       "      <td>0.200000</td>\n",
       "      <td>0.227412</td>\n",
       "      <td>73.0</td>\n",
       "      <td>0.0</td>\n",
       "      <td>0.0</td>\n",
       "      <td>01085eb3</td>\n",
       "      <td>0.035465</td>\n",
       "      <td>0.085573</td>\n",
       "      <td>2.506849</td>\n",
       "      <td>0.000000</td>\n",
       "      <td>0.969044</td>\n",
       "      <td>0.082127</td>\n",
       "      <td>4.349319</td>\n",
       "      <td>0.000000</td>\n",
       "    </tr>\n",
       "    <tr>\n",
       "      <th>4</th>\n",
       "      <td>012cadd8</td>\n",
       "      <td>9</td>\n",
       "      <td>0</td>\n",
       "      <td>60.0</td>\n",
       "      <td>17.089151</td>\n",
       "      <td>2.0</td>\n",
       "      <td>0.583126</td>\n",
       "      <td>0.193319</td>\n",
       "      <td>40.0</td>\n",
       "      <td>0.0</td>\n",
       "      <td>0.0</td>\n",
       "      <td>012cadd8</td>\n",
       "      <td>0.061621</td>\n",
       "      <td>0.202441</td>\n",
       "      <td>6.307294</td>\n",
       "      <td>0.000000</td>\n",
       "      <td>0.966942</td>\n",
       "      <td>0.135903</td>\n",
       "      <td>8.530412</td>\n",
       "      <td>0.000000</td>\n",
       "    </tr>\n",
       "  </tbody>\n",
       "</table>\n",
       "</div>"
      ],
      "text/plain": [
       "         id  Basic_Demos-Age  Basic_Demos-Sex  CGAS_Score  Physical-BMI  \\\n",
       "0  00115b9f                9                0        71.0     18.292347   \n",
       "1  001f3379               13                1        50.0     22.279952   \n",
       "2  00f332d1               14                0        68.0     17.168636   \n",
       "3  01085eb3               12                0        58.0     34.187282   \n",
       "4  012cadd8                9                0        60.0     17.089151   \n",
       "\n",
       "   BIA_Activity_Level  Fitness_Combined_Score  Physical_Composite_Index  \\\n",
       "0                 3.0                0.400000                  0.190185   \n",
       "1                 2.0                0.400000                  0.217322   \n",
       "2                 4.0                0.400000                  0.192240   \n",
       "3                 1.0                0.200000                  0.227412   \n",
       "4                 2.0                0.583126                  0.193319   \n",
       "\n",
       "   SDS-SDS_Total_T  PreInt_EduHx-computerinternet_hoursday  sii  \\\n",
       "0             45.0                                     0.0  1.0   \n",
       "1             56.0                                     0.0  1.0   \n",
       "2             43.0                                     2.0  1.0   \n",
       "3             73.0                                     0.0  0.0   \n",
       "4             40.0                                     0.0  0.0   \n",
       "\n",
       "  participant_id  mean_enmo  std_enmo  max_enmo  min_enmo  mean_magnitude  \\\n",
       "0       00115b9f   0.020411  0.001761  0.022853  0.018667        1.020398   \n",
       "1       001f3379   0.013445  0.031016  2.952888  0.000000        0.996000   \n",
       "2       00f332d1   0.029802  0.104216  3.681586  0.000000        0.980751   \n",
       "3       01085eb3   0.035465  0.085573  2.506849  0.000000        0.969044   \n",
       "4       012cadd8   0.061621  0.202441  6.307294  0.000000        0.966942   \n",
       "\n",
       "   std_magnitude  inactivity_percentage  non_wear_percentage  \n",
       "0       0.001759               0.000000             0.000000  \n",
       "1       0.049507               3.763106            48.399446  \n",
       "2       0.070811              15.596860            11.175805  \n",
       "3       0.082127               4.349319             0.000000  \n",
       "4       0.135903               8.530412             0.000000  "
      ]
     },
     "execution_count": 10,
     "metadata": {},
     "output_type": "execute_result"
    }
   ],
   "source": [
    "merged_data.head()"
   ]
  },
  {
   "cell_type": "code",
   "execution_count": 11,
   "id": "326dd631",
   "metadata": {
    "execution": {
     "iopub.execute_input": "2024-11-23T03:17:06.938376Z",
     "iopub.status.busy": "2024-11-23T03:17:06.938077Z",
     "iopub.status.idle": "2024-11-23T03:17:08.113016Z",
     "shell.execute_reply": "2024-11-23T03:17:08.111842Z"
    },
    "papermill": {
     "duration": 1.183447,
     "end_time": "2024-11-23T03:17:08.115669",
     "exception": false,
     "start_time": "2024-11-23T03:17:06.932222",
     "status": "completed"
    },
    "tags": []
   },
   "outputs": [
    {
     "name": "stdout",
     "output_type": "stream",
     "text": [
      "__notebook__.ipynb\r\n",
      "__output__.json\r\n",
      "__results__.html\r\n",
      "__results___files\r\n",
      "actigraphydatapredictions.csv\r\n",
      "actigraphydatapredictions_with_probabilities.csv\r\n",
      "actigraphytest_data.csv\r\n",
      "custom.css\r\n",
      "svm_actigraphydata_model.pkl\r\n",
      "svm_actigraphydata_pca.pkl\r\n",
      "svm_actigraphydata_scaler.pkl\r\n",
      "svm_actigraphydata_selected_features.pkl\r\n"
     ]
    }
   ],
   "source": [
    "!ls /kaggle/input/actigraphy-data-model-development"
   ]
  },
  {
   "cell_type": "code",
   "execution_count": 12,
   "id": "ae31915c",
   "metadata": {
    "execution": {
     "iopub.execute_input": "2024-11-23T03:17:08.127838Z",
     "iopub.status.busy": "2024-11-23T03:17:08.127405Z",
     "iopub.status.idle": "2024-11-23T03:17:09.701773Z",
     "shell.execute_reply": "2024-11-23T03:17:09.700629Z"
    },
    "papermill": {
     "duration": 1.583399,
     "end_time": "2024-11-23T03:17:09.704271",
     "exception": false,
     "start_time": "2024-11-23T03:17:08.120872",
     "status": "completed"
    },
    "tags": []
   },
   "outputs": [],
   "source": [
    "import pandas as pd\n",
    "import numpy as np\n",
    "import joblib\n",
    "from sklearn.model_selection import train_test_split\n",
    "from sklearn.linear_model import LogisticRegression\n",
    "from sklearn.metrics import accuracy_score, roc_curve, auc, classification_report, confusion_matrix\n",
    "\n",
    "path_to_scaler_1=\"/kaggle/input/svm-model-implementation/svm_tabulardata_scaler.pkl\"\n",
    "scaler_1 = joblib.load(path_to_scaler_1)"
   ]
  },
  {
   "cell_type": "code",
   "execution_count": 13,
   "id": "00522e86",
   "metadata": {
    "execution": {
     "iopub.execute_input": "2024-11-23T03:17:09.716751Z",
     "iopub.status.busy": "2024-11-23T03:17:09.716217Z",
     "iopub.status.idle": "2024-11-23T03:17:10.193491Z",
     "shell.execute_reply": "2024-11-23T03:17:10.192441Z"
    },
    "papermill": {
     "duration": 0.487152,
     "end_time": "2024-11-23T03:17:10.196721",
     "exception": false,
     "start_time": "2024-11-23T03:17:09.709569",
     "status": "completed"
    },
    "tags": []
   },
   "outputs": [
    {
     "name": "stdout",
     "output_type": "stream",
     "text": [
      "Ensemble Model Accuracy: 0.5919732441471572\n",
      "Classification Report:\n",
      "              precision    recall  f1-score   support\n",
      "\n",
      "         0.0       0.60      0.98      0.74       173\n",
      "         1.0       0.50      0.02      0.04        86\n",
      "         2.0       0.45      0.14      0.21        37\n",
      "         3.0       0.00      0.00      0.00         3\n",
      "\n",
      "    accuracy                           0.59       299\n",
      "   macro avg       0.39      0.29      0.25       299\n",
      "weighted avg       0.55      0.59      0.47       299\n",
      "\n"
     ]
    },
    {
     "name": "stderr",
     "output_type": "stream",
     "text": [
      "/opt/conda/lib/python3.10/site-packages/sklearn/metrics/_classification.py:1344: UndefinedMetricWarning: Precision and F-score are ill-defined and being set to 0.0 in labels with no predicted samples. Use `zero_division` parameter to control this behavior.\n",
      "  _warn_prf(average, modifier, msg_start, len(result))\n",
      "/opt/conda/lib/python3.10/site-packages/sklearn/metrics/_classification.py:1344: UndefinedMetricWarning: Precision and F-score are ill-defined and being set to 0.0 in labels with no predicted samples. Use `zero_division` parameter to control this behavior.\n",
      "  _warn_prf(average, modifier, msg_start, len(result))\n",
      "/opt/conda/lib/python3.10/site-packages/sklearn/metrics/_classification.py:1344: UndefinedMetricWarning: Precision and F-score are ill-defined and being set to 0.0 in labels with no predicted samples. Use `zero_division` parameter to control this behavior.\n",
      "  _warn_prf(average, modifier, msg_start, len(result))\n"
     ]
    }
   ],
   "source": [
    "import pandas as pd\n",
    "import numpy as np\n",
    "import joblib\n",
    "from sklearn.model_selection import train_test_split\n",
    "from sklearn.linear_model import LogisticRegression\n",
    "from sklearn.metrics import accuracy_score, roc_curve, auc, classification_report, confusion_matrix\n",
    "\n",
    "# Paths to the saved components for both models, loaded from the respective notebooks\n",
    "path_to_scaler_1, path_to_pca_1, path_to_svm_model_1, path_to_selected_features_1 = \"/kaggle/input/svm-model-implementation/svm_tabulardata_scaler.pkl\", \"/kaggle/input/svm-model-implementation/svm_tabulardata_pca.pkl\", \"/kaggle/input/svm-model-implementation/svm_tabulardata_model.pkl\", \"/kaggle/input/svm-model-implementation/svm_tabulardata_selected_features.pkl\"\n",
    "path_to_scaler_2, path_to_pca_2, path_to_svm_model_2, path_to_selected_features_2 = \"/kaggle/input/actigraphy-data-model-development/svm_actigraphydata_scaler.pkl\", \"/kaggle/input/actigraphy-data-model-development/svm_actigraphydata_pca.pkl\", \"/kaggle/input/actigraphy-data-model-development/svm_actigraphydata_model.pkl\", \"/kaggle/input/actigraphy-data-model-development/svm_actigraphydata_selected_features.pkl\"\n",
    "\n",
    "# Load saved components\n",
    "scaler_1 = joblib.load(path_to_scaler_1)\n",
    "pca_1 = joblib.load(path_to_pca_1)\n",
    "svm_model_1 = joblib.load(path_to_svm_model_1)\n",
    "selected_features_1 = joblib.load(path_to_selected_features_1)\n",
    "\n",
    "scaler_2 = joblib.load(path_to_scaler_2)\n",
    "pca_2 = joblib.load(path_to_pca_2)\n",
    "svm_model_2 = joblib.load(path_to_svm_model_2)\n",
    "selected_features_2 = joblib.load(path_to_selected_features_2)\n",
    "\n",
    "# Load the new dataset\n",
    "new_data_path = \"/kaggle/working/merged_dataset.csv\"\n",
    "new_dataset = pd.read_csv(new_data_path)\n",
    "\n",
    "# Divide into features and target\n",
    "X = new_dataset.drop(columns=[\"sii\"])\n",
    "y = new_dataset[\"sii\"]\n",
    "\n",
    "# Train-Test Split\n",
    "X_train, X_test, y_train, y_test = train_test_split(X, y, test_size=0.3, random_state=42)\n",
    "\n",
    "# Preprocess and generate predictions for each SVM model\n",
    "def preprocess_and_predict(X_data, scaler, pca, selected_features, model):\n",
    "    X_selected = X_data[selected_features]\n",
    "    X_scaled = scaler.transform(X_selected)\n",
    "    X_pca = pca.transform(X_scaled)\n",
    "    predictions = model.predict(X_pca)\n",
    "    proba = model.predict_proba(X_pca)\n",
    "    return predictions, proba\n",
    "\n",
    "# Predictions from model 1\n",
    "pred_1_train, proba_1_train = preprocess_and_predict(X_train, scaler_1, pca_1, selected_features_1, svm_model_1)\n",
    "pred_1_test, proba_1_test = preprocess_and_predict(X_test, scaler_1, pca_1, selected_features_1, svm_model_1)\n",
    "\n",
    "# Predictions from model 2\n",
    "pred_2_train, proba_2_train = preprocess_and_predict(X_train, scaler_2, pca_2, selected_features_2, svm_model_2)\n",
    "pred_2_test, proba_2_test = preprocess_and_predict(X_test, scaler_2, pca_2, selected_features_2, svm_model_2)\n",
    "\n",
    "# Combine predictions as features for the ensemble model\n",
    "X_ensemble_train = np.column_stack((pred_1_train, pred_2_train))\n",
    "X_ensemble_test = np.column_stack((pred_1_test, pred_2_test))\n",
    "\n",
    "# Train the ensemble model (Logistic Regression)\n",
    "ensemble_model = LogisticRegression(random_state=42)\n",
    "ensemble_model.fit(X_ensemble_train, y_train)\n",
    "\n",
    "# Predictions using ensemble model\n",
    "y_pred_ensemble = ensemble_model.predict(X_ensemble_test)\n",
    "y_pred_proba_ensemble = ensemble_model.predict_proba(X_ensemble_test)  # Probability for positive class\n",
    "\n",
    "# Evaluate the ensemble model\n",
    "accuracy = accuracy_score(y_test, y_pred_ensemble)\n",
    "print(f\"Ensemble Model Accuracy: {accuracy}\")\n",
    "print(\"Classification Report:\")\n",
    "print(classification_report(y_test, y_pred_ensemble))\n",
    "\n"
   ]
  },
  {
   "cell_type": "code",
   "execution_count": 14,
   "id": "d1fda5d7",
   "metadata": {
    "execution": {
     "iopub.execute_input": "2024-11-23T03:17:10.209197Z",
     "iopub.status.busy": "2024-11-23T03:17:10.208815Z",
     "iopub.status.idle": "2024-11-23T03:17:10.215959Z",
     "shell.execute_reply": "2024-11-23T03:17:10.214881Z"
    },
    "papermill": {
     "duration": 0.015867,
     "end_time": "2024-11-23T03:17:10.218077",
     "exception": false,
     "start_time": "2024-11-23T03:17:10.202210",
     "status": "completed"
    },
    "tags": []
   },
   "outputs": [
    {
     "data": {
      "text/plain": [
       "array([0., 1., 2.])"
      ]
     },
     "execution_count": 14,
     "metadata": {},
     "output_type": "execute_result"
    }
   ],
   "source": [
    "unique_values = np.unique(y_pred_ensemble)\n",
    "unique_values"
   ]
  },
  {
   "cell_type": "code",
   "execution_count": 15,
   "id": "137f2d2d",
   "metadata": {
    "execution": {
     "iopub.execute_input": "2024-11-23T03:17:10.230405Z",
     "iopub.status.busy": "2024-11-23T03:17:10.230021Z",
     "iopub.status.idle": "2024-11-23T03:17:10.236665Z",
     "shell.execute_reply": "2024-11-23T03:17:10.235660Z"
    },
    "papermill": {
     "duration": 0.015234,
     "end_time": "2024-11-23T03:17:10.238738",
     "exception": false,
     "start_time": "2024-11-23T03:17:10.223504",
     "status": "completed"
    },
    "tags": []
   },
   "outputs": [
    {
     "data": {
      "text/plain": [
       "(299, 4)"
      ]
     },
     "execution_count": 15,
     "metadata": {},
     "output_type": "execute_result"
    }
   ],
   "source": [
    "y_pred_proba_ensemble.shape"
   ]
  },
  {
   "cell_type": "code",
   "execution_count": 16,
   "id": "172f4116",
   "metadata": {
    "execution": {
     "iopub.execute_input": "2024-11-23T03:17:10.251427Z",
     "iopub.status.busy": "2024-11-23T03:17:10.250763Z",
     "iopub.status.idle": "2024-11-23T03:17:10.257136Z",
     "shell.execute_reply": "2024-11-23T03:17:10.256099Z"
    },
    "papermill": {
     "duration": 0.014768,
     "end_time": "2024-11-23T03:17:10.258987",
     "exception": false,
     "start_time": "2024-11-23T03:17:10.244219",
     "status": "completed"
    },
    "tags": []
   },
   "outputs": [
    {
     "data": {
      "text/plain": [
       "(299, 2)"
      ]
     },
     "execution_count": 16,
     "metadata": {},
     "output_type": "execute_result"
    }
   ],
   "source": [
    "X_ensemble_test.shape"
   ]
  },
  {
   "cell_type": "code",
   "execution_count": 17,
   "id": "3898e81f",
   "metadata": {
    "execution": {
     "iopub.execute_input": "2024-11-23T03:17:10.271900Z",
     "iopub.status.busy": "2024-11-23T03:17:10.271199Z",
     "iopub.status.idle": "2024-11-23T03:17:11.786316Z",
     "shell.execute_reply": "2024-11-23T03:17:11.784699Z"
    },
    "papermill": {
     "duration": 1.525625,
     "end_time": "2024-11-23T03:17:11.790225",
     "exception": false,
     "start_time": "2024-11-23T03:17:10.264600",
     "status": "completed"
    },
    "tags": []
   },
   "outputs": [
    {
     "data": {
      "image/png": "[encoded data removed]",
      "text/plain": [
       "<Figure size 800x600 with 2 Axes>"
      ]
     },
     "metadata": {},
     "output_type": "display_data"
    },
    {
     "data": {
      "image/png": "[encoded data removed]",
      "text/plain": [
       "<Figure size 1200x500 with 2 Axes>"
      ]
     },
     "metadata": {},
     "output_type": "display_data"
    },
    {
     "name": "stdout",
     "output_type": "stream",
     "text": [
      "Ensemble Model Accuracy: 0.5919732441471572\n",
      "Classification Report:\n",
      "              precision    recall  f1-score   support\n",
      "\n",
      "         0.0       0.60      0.98      0.74       173\n",
      "         1.0       0.50      0.02      0.04        86\n",
      "         2.0       0.45      0.14      0.21        37\n",
      "         3.0       0.00      0.00      0.00         3\n",
      "\n",
      "    accuracy                           0.59       299\n",
      "   macro avg       0.39      0.29      0.25       299\n",
      "weighted avg       0.55      0.59      0.47       299\n",
      "\n"
     ]
    },
    {
     "name": "stderr",
     "output_type": "stream",
     "text": [
      "/opt/conda/lib/python3.10/site-packages/sklearn/metrics/_classification.py:1344: UndefinedMetricWarning: Precision and F-score are ill-defined and being set to 0.0 in labels with no predicted samples. Use `zero_division` parameter to control this behavior.\n",
      "  _warn_prf(average, modifier, msg_start, len(result))\n",
      "/opt/conda/lib/python3.10/site-packages/sklearn/metrics/_classification.py:1344: UndefinedMetricWarning: Precision and F-score are ill-defined and being set to 0.0 in labels with no predicted samples. Use `zero_division` parameter to control this behavior.\n",
      "  _warn_prf(average, modifier, msg_start, len(result))\n",
      "/opt/conda/lib/python3.10/site-packages/sklearn/metrics/_classification.py:1344: UndefinedMetricWarning: Precision and F-score are ill-defined and being set to 0.0 in labels with no predicted samples. Use `zero_division` parameter to control this behavior.\n",
      "  _warn_prf(average, modifier, msg_start, len(result))\n"
     ]
    }
   ],
   "source": [
    "import matplotlib.pyplot as plt\n",
    "import seaborn as sns\n",
    "import numpy as np\n",
    "from sklearn.metrics import precision_recall_curve, roc_curve, roc_auc_score, classification_report, confusion_matrix\n",
    "from sklearn.preprocessing import label_binarize\n",
    "import warnings\n",
    "warnings.filterwarnings('ignore', category=FutureWarning)\n",
    "\n",
    "# Confusion Matrix\n",
    "plt.figure(figsize=(8, 6))\n",
    "cm = confusion_matrix(y_test, y_pred_ensemble)\n",
    "sns.heatmap(cm, annot=True, fmt='d', cmap=\"Blues\", xticklabels=np.unique(y), yticklabels=np.unique(y))\n",
    "plt.title(\"Confusion Matrix\")\n",
    "plt.xlabel(\"Predicted\")\n",
    "plt.ylabel(\"Actual\")\n",
    "plt.show()\n",
    "\n",
    "# Precision-Recall Curves and ROC Curves for each class\n",
    "y_test_binarized = label_binarize(y_test, classes=[0, 1, 2, 3])\n",
    "\n",
    "plt.figure(figsize=(12, 5))\n",
    "\n",
    "# Precision-Recall Curves\n",
    "plt.subplot(121)\n",
    "for i, class_label in enumerate([0, 1, 2, 3]):\n",
    "    precision, recall, _ = precision_recall_curve(y_test_binarized[:, i], y_pred_proba_ensemble[:, i])\n",
    "    plt.plot(recall, precision, label=f\"Class {class_label}\")\n",
    "plt.title(\"Precision-Recall Curves\")\n",
    "plt.xlabel(\"Recall\")\n",
    "plt.ylabel(\"Precision\")\n",
    "plt.legend()\n",
    "\n",
    "# ROC Curves\n",
    "plt.subplot(122)\n",
    "for i, class_label in enumerate([0, 1, 2, 3]):\n",
    "    fpr, tpr, _ = roc_curve(y_test_binarized[:, i], y_pred_proba_ensemble[:, i])\n",
    "    roc_auc = roc_auc_score(y_test_binarized[:, i], y_pred_proba_ensemble[:, i])\n",
    "    plt.plot(fpr, tpr, label=f\"Class {class_label} (AUC = {roc_auc:.2f})\")\n",
    "plt.plot([0, 1], [0, 1], 'k--')\n",
    "plt.title(\"ROC Curves\")\n",
    "plt.xlabel(\"False Positive Rate\")\n",
    "plt.ylabel(\"True Positive Rate\")\n",
    "plt.legend()\n",
    "\n",
    "plt.tight_layout()\n",
    "plt.show()\n",
    "\n",
    "# Evaluation Metrics: Accuracy, Classification Report\n",
    "accuracy = accuracy_score(y_test, y_pred_ensemble)\n",
    "print(f\"Ensemble Model Accuracy: {accuracy}\")\n",
    "print(\"Classification Report:\")\n",
    "print(classification_report(y_test, y_pred_ensemble))\n"
   ]
  }
 ],
 "metadata": {
  "kaggle": {
   "accelerator": "none",
   "dataSources": [
    {
     "databundleVersionId": 9643020,
     "sourceId": 81933,
     "sourceType": "competition"
    },
    {
     "datasetId": 6146373,
     "sourceId": 9987403,
     "sourceType": "datasetVersion"
    },
    {
     "sourceId": 209079665,
     "sourceType": "kernelVersion"
    },
    {
     "sourceId": 209106215,
     "sourceType": "kernelVersion"
    }
   ],
   "dockerImageVersionId": 30786,
   "isGpuEnabled": false,
   "isInternetEnabled": true,
   "language": "python",
   "sourceType": "notebook"
  },
  "kernelspec": {
   "display_name": "Python 3",
   "language": "python",
   "name": "python3"
  },
  "language_info": {
   "codemirror_mode": {
    "name": "ipython",
    "version": 3
   },
   "file_extension": ".py",
   "mimetype": "text/x-python",
   "name": "python",
   "nbconvert_exporter": "python",
   "pygments_lexer": "ipython3",
   "version": "3.10.14"
  },
  "papermill": {
   "default_parameters": {},
   "duration": 9.425449,
   "end_time": "2024-11-23T03:17:12.627958",
   "environment_variables": {},
   "exception": null,
   "input_path": "__notebook__.ipynb",
   "output_path": "__notebook__.ipynb",
   "parameters": {},
   "start_time": "2024-11-23T03:17:03.202509",
   "version": "2.6.0"
  }
 },
 "nbformat": 4,
 "nbformat_minor": 5
}

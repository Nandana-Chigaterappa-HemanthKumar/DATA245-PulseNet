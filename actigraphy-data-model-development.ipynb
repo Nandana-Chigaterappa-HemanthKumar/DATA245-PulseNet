{
 "cells": [
  {
   "cell_type": "code",
   "execution_count": 1,
   "id": "cbdacd78",
   "metadata": {
    "_cell_guid": "b1076dfc-b9ad-4769-8c92-a6c4dae69d19",
    "_uuid": "8f2839f25d086af736a60e9eeb907d3b93b6e0e5",
    "execution": {
     "iopub.execute_input": "2024-11-22T08:45:23.464280Z",
     "iopub.status.busy": "2024-11-22T08:45:23.463870Z",
     "iopub.status.idle": "2024-11-22T08:45:27.377002Z",
     "shell.execute_reply": "2024-11-22T08:45:27.375887Z"
    },
    "papermill": {
     "duration": 3.921928,
     "end_time": "2024-11-22T08:45:27.379754",
     "exception": false,
     "start_time": "2024-11-22T08:45:23.457826",
     "status": "completed"
    },
    "tags": []
   },
   "outputs": [
    {
     "data": {
      "text/html": [
       "<div>\n",
       "<style scoped>\n",
       "    .dataframe tbody tr th:only-of-type {\n",
       "        vertical-align: middle;\n",
       "    }\n",
       "\n",
       "    .dataframe tbody tr th {\n",
       "        vertical-align: top;\n",
       "    }\n",
       "\n",
       "    .dataframe thead th {\n",
       "        text-align: right;\n",
       "    }\n",
       "</style>\n",
       "<table border=\"1\" class=\"dataframe\">\n",
       "  <thead>\n",
       "    <tr style=\"text-align: right;\">\n",
       "      <th></th>\n",
       "      <th>participant_id</th>\n",
       "      <th>mean_enmo</th>\n",
       "      <th>std_enmo</th>\n",
       "      <th>max_enmo</th>\n",
       "      <th>min_enmo</th>\n",
       "      <th>mean_magnitude</th>\n",
       "      <th>std_magnitude</th>\n",
       "      <th>inactivity_percentage</th>\n",
       "      <th>non_wear_percentage</th>\n",
       "      <th>activity_level</th>\n",
       "      <th>sii</th>\n",
       "    </tr>\n",
       "  </thead>\n",
       "  <tbody>\n",
       "    <tr>\n",
       "      <th>0</th>\n",
       "      <td>00115b9f</td>\n",
       "      <td>0.020411</td>\n",
       "      <td>0.001761</td>\n",
       "      <td>0.022853</td>\n",
       "      <td>0.018667</td>\n",
       "      <td>1.020398</td>\n",
       "      <td>0.001759</td>\n",
       "      <td>0.000000</td>\n",
       "      <td>0.000000</td>\n",
       "      <td>Medium</td>\n",
       "      <td>1.0</td>\n",
       "    </tr>\n",
       "    <tr>\n",
       "      <th>1</th>\n",
       "      <td>001f3379</td>\n",
       "      <td>0.013445</td>\n",
       "      <td>0.031016</td>\n",
       "      <td>2.952888</td>\n",
       "      <td>0.000000</td>\n",
       "      <td>0.996000</td>\n",
       "      <td>0.049507</td>\n",
       "      <td>3.763106</td>\n",
       "      <td>48.399446</td>\n",
       "      <td>Medium</td>\n",
       "      <td>1.0</td>\n",
       "    </tr>\n",
       "    <tr>\n",
       "      <th>2</th>\n",
       "      <td>00f332d1</td>\n",
       "      <td>0.029802</td>\n",
       "      <td>0.104216</td>\n",
       "      <td>3.681586</td>\n",
       "      <td>0.000000</td>\n",
       "      <td>0.980751</td>\n",
       "      <td>0.070811</td>\n",
       "      <td>15.596860</td>\n",
       "      <td>11.175805</td>\n",
       "      <td>Low</td>\n",
       "      <td>1.0</td>\n",
       "    </tr>\n",
       "    <tr>\n",
       "      <th>3</th>\n",
       "      <td>01085eb3</td>\n",
       "      <td>0.035465</td>\n",
       "      <td>0.085573</td>\n",
       "      <td>2.506849</td>\n",
       "      <td>0.000000</td>\n",
       "      <td>0.969044</td>\n",
       "      <td>0.082127</td>\n",
       "      <td>4.349319</td>\n",
       "      <td>0.000000</td>\n",
       "      <td>Low</td>\n",
       "      <td>0.0</td>\n",
       "    </tr>\n",
       "    <tr>\n",
       "      <th>4</th>\n",
       "      <td>012cadd8</td>\n",
       "      <td>0.061621</td>\n",
       "      <td>0.202441</td>\n",
       "      <td>6.307294</td>\n",
       "      <td>0.000000</td>\n",
       "      <td>0.966942</td>\n",
       "      <td>0.135903</td>\n",
       "      <td>8.530412</td>\n",
       "      <td>0.000000</td>\n",
       "      <td>Low</td>\n",
       "      <td>0.0</td>\n",
       "    </tr>\n",
       "  </tbody>\n",
       "</table>\n",
       "</div>"
      ],
      "text/plain": [
       "  participant_id  mean_enmo  std_enmo  max_enmo  min_enmo  mean_magnitude  \\\n",
       "0       00115b9f   0.020411  0.001761  0.022853  0.018667        1.020398   \n",
       "1       001f3379   0.013445  0.031016  2.952888  0.000000        0.996000   \n",
       "2       00f332d1   0.029802  0.104216  3.681586  0.000000        0.980751   \n",
       "3       01085eb3   0.035465  0.085573  2.506849  0.000000        0.969044   \n",
       "4       012cadd8   0.061621  0.202441  6.307294  0.000000        0.966942   \n",
       "\n",
       "   std_magnitude  inactivity_percentage  non_wear_percentage activity_level  \\\n",
       "0       0.001759               0.000000             0.000000         Medium   \n",
       "1       0.049507               3.763106            48.399446         Medium   \n",
       "2       0.070811              15.596860            11.175805            Low   \n",
       "3       0.082127               4.349319             0.000000            Low   \n",
       "4       0.135903               8.530412             0.000000            Low   \n",
       "\n",
       "   sii  \n",
       "0  1.0  \n",
       "1  1.0  \n",
       "2  1.0  \n",
       "3  0.0  \n",
       "4  0.0  "
      ]
     },
     "execution_count": 1,
     "metadata": {},
     "output_type": "execute_result"
    }
   ],
   "source": [
    "import os\n",
    "\n",
    "# List all files in the dataset directory\n",
    "base_path = '/kaggle/input/actigraphydata/CleanedActigraphyData.csv'\n",
    "\n",
    "import pandas as pd\n",
    "import numpy as np\n",
    "import warnings\n",
    "warnings.filterwarnings('ignore', category=FutureWarning)\n",
    "import seaborn as sns\n",
    "import matplotlib.pyplot as plt\n",
    "from mpl_toolkits.mplot3d import Axes3D\n",
    "import seaborn as sns\n",
    "import matplotlib.pyplot as plt\n",
    "from mpl_toolkits.mplot3d import Axes3D\n",
    "from imblearn.combine import SMOTETomek\n",
    "from sklearn.model_selection import GridSearchCV\n",
    "from sklearn.ensemble import VotingClassifier\n",
    "from sklearn.preprocessing import StandardScaler\n",
    "from sklearn.model_selection import train_test_split\n",
    "from sklearn.metrics import (\n",
    "    accuracy_score,\n",
    "    classification_report,\n",
    "    confusion_matrix,\n",
    "    roc_auc_score,\n",
    "    roc_curve,\n",
    "    precision_recall_curve\n",
    ")\n",
    "from sklearn.svm import SVC\n",
    "from sklearn.utils.class_weight import compute_class_weight\n",
    "from sklearn.decomposition import PCA\n",
    "from imblearn.over_sampling import SMOTE\n",
    "import seaborn as sns\n",
    "from sklearn.preprocessing import label_binarize\n",
    "\n",
    "# Load the training data\n",
    "train = pd.read_csv(base_path)\n",
    "train.head(5)"
   ]
  },
  {
   "cell_type": "code",
   "execution_count": 2,
   "id": "2000cf88",
   "metadata": {
    "execution": {
     "iopub.execute_input": "2024-11-22T08:45:27.389676Z",
     "iopub.status.busy": "2024-11-22T08:45:27.389230Z",
     "iopub.status.idle": "2024-11-22T08:45:27.415026Z",
     "shell.execute_reply": "2024-11-22T08:45:27.413682Z"
    },
    "papermill": {
     "duration": 0.033486,
     "end_time": "2024-11-22T08:45:27.417392",
     "exception": false,
     "start_time": "2024-11-22T08:45:27.383906",
     "status": "completed"
    },
    "tags": []
   },
   "outputs": [
    {
     "data": {
      "text/html": [
       "<div>\n",
       "<style scoped>\n",
       "    .dataframe tbody tr th:only-of-type {\n",
       "        vertical-align: middle;\n",
       "    }\n",
       "\n",
       "    .dataframe tbody tr th {\n",
       "        vertical-align: top;\n",
       "    }\n",
       "\n",
       "    .dataframe thead th {\n",
       "        text-align: right;\n",
       "    }\n",
       "</style>\n",
       "<table border=\"1\" class=\"dataframe\">\n",
       "  <thead>\n",
       "    <tr style=\"text-align: right;\">\n",
       "      <th></th>\n",
       "      <th>participant_id</th>\n",
       "      <th>mean_enmo</th>\n",
       "      <th>std_enmo</th>\n",
       "      <th>max_enmo</th>\n",
       "      <th>min_enmo</th>\n",
       "      <th>mean_magnitude</th>\n",
       "      <th>std_magnitude</th>\n",
       "      <th>inactivity_percentage</th>\n",
       "      <th>non_wear_percentage</th>\n",
       "      <th>activity_level</th>\n",
       "      <th>sii</th>\n",
       "    </tr>\n",
       "  </thead>\n",
       "  <tbody>\n",
       "    <tr>\n",
       "      <th>0</th>\n",
       "      <td>00115b9f</td>\n",
       "      <td>0.020411</td>\n",
       "      <td>0.001761</td>\n",
       "      <td>0.022853</td>\n",
       "      <td>0.018667</td>\n",
       "      <td>1.020398</td>\n",
       "      <td>0.001759</td>\n",
       "      <td>0.000000</td>\n",
       "      <td>0.000000</td>\n",
       "      <td>Medium</td>\n",
       "      <td>1.0</td>\n",
       "    </tr>\n",
       "    <tr>\n",
       "      <th>1</th>\n",
       "      <td>001f3379</td>\n",
       "      <td>0.013445</td>\n",
       "      <td>0.031016</td>\n",
       "      <td>2.952888</td>\n",
       "      <td>0.000000</td>\n",
       "      <td>0.996000</td>\n",
       "      <td>0.049507</td>\n",
       "      <td>3.763106</td>\n",
       "      <td>48.399446</td>\n",
       "      <td>Medium</td>\n",
       "      <td>1.0</td>\n",
       "    </tr>\n",
       "    <tr>\n",
       "      <th>2</th>\n",
       "      <td>00f332d1</td>\n",
       "      <td>0.029802</td>\n",
       "      <td>0.104216</td>\n",
       "      <td>3.681586</td>\n",
       "      <td>0.000000</td>\n",
       "      <td>0.980751</td>\n",
       "      <td>0.070811</td>\n",
       "      <td>15.596860</td>\n",
       "      <td>11.175805</td>\n",
       "      <td>Low</td>\n",
       "      <td>1.0</td>\n",
       "    </tr>\n",
       "    <tr>\n",
       "      <th>3</th>\n",
       "      <td>01085eb3</td>\n",
       "      <td>0.035465</td>\n",
       "      <td>0.085573</td>\n",
       "      <td>2.506849</td>\n",
       "      <td>0.000000</td>\n",
       "      <td>0.969044</td>\n",
       "      <td>0.082127</td>\n",
       "      <td>4.349319</td>\n",
       "      <td>0.000000</td>\n",
       "      <td>Low</td>\n",
       "      <td>0.0</td>\n",
       "    </tr>\n",
       "    <tr>\n",
       "      <th>4</th>\n",
       "      <td>012cadd8</td>\n",
       "      <td>0.061621</td>\n",
       "      <td>0.202441</td>\n",
       "      <td>6.307294</td>\n",
       "      <td>0.000000</td>\n",
       "      <td>0.966942</td>\n",
       "      <td>0.135903</td>\n",
       "      <td>8.530412</td>\n",
       "      <td>0.000000</td>\n",
       "      <td>Low</td>\n",
       "      <td>0.0</td>\n",
       "    </tr>\n",
       "  </tbody>\n",
       "</table>\n",
       "</div>"
      ],
      "text/plain": [
       "  participant_id  mean_enmo  std_enmo  max_enmo  min_enmo  mean_magnitude  \\\n",
       "0       00115b9f   0.020411  0.001761  0.022853  0.018667        1.020398   \n",
       "1       001f3379   0.013445  0.031016  2.952888  0.000000        0.996000   \n",
       "2       00f332d1   0.029802  0.104216  3.681586  0.000000        0.980751   \n",
       "3       01085eb3   0.035465  0.085573  2.506849  0.000000        0.969044   \n",
       "4       012cadd8   0.061621  0.202441  6.307294  0.000000        0.966942   \n",
       "\n",
       "   std_magnitude  inactivity_percentage  non_wear_percentage activity_level  \\\n",
       "0       0.001759               0.000000             0.000000         Medium   \n",
       "1       0.049507               3.763106            48.399446         Medium   \n",
       "2       0.070811              15.596860            11.175805            Low   \n",
       "3       0.082127               4.349319             0.000000            Low   \n",
       "4       0.135903               8.530412             0.000000            Low   \n",
       "\n",
       "   sii  \n",
       "0  1.0  \n",
       "1  1.0  \n",
       "2  1.0  \n",
       "3  0.0  \n",
       "4  0.0  "
      ]
     },
     "execution_count": 2,
     "metadata": {},
     "output_type": "execute_result"
    }
   ],
   "source": [
    "# Drop rows with specific participant IDs\n",
    "train = train[~train['participant_id'].isin(['ab16a20d', 'db38d1f9'])]\n",
    "\n",
    "# Check the dataset after removing the rows\n",
    "train.head()\n"
   ]
  },
  {
   "cell_type": "code",
   "execution_count": 3,
   "id": "b529f2cb",
   "metadata": {
    "execution": {
     "iopub.execute_input": "2024-11-22T08:45:27.427909Z",
     "iopub.status.busy": "2024-11-22T08:45:27.427463Z",
     "iopub.status.idle": "2024-11-22T08:45:27.435984Z",
     "shell.execute_reply": "2024-11-22T08:45:27.434541Z"
    },
    "papermill": {
     "duration": 0.016757,
     "end_time": "2024-11-22T08:45:27.438508",
     "exception": false,
     "start_time": "2024-11-22T08:45:27.421751",
     "status": "completed"
    },
    "tags": []
   },
   "outputs": [],
   "source": [
    "# Drop the 'activity_level' column as it was introduced to understand the data\n",
    "train = train.drop(columns=['activity_level','participant_id'])"
   ]
  },
  {
   "cell_type": "code",
   "execution_count": 4,
   "id": "55865b7b",
   "metadata": {
    "execution": {
     "iopub.execute_input": "2024-11-22T08:45:27.449426Z",
     "iopub.status.busy": "2024-11-22T08:45:27.448989Z",
     "iopub.status.idle": "2024-11-22T08:45:27.466313Z",
     "shell.execute_reply": "2024-11-22T08:45:27.464743Z"
    },
    "papermill": {
     "duration": 0.025813,
     "end_time": "2024-11-22T08:45:27.468855",
     "exception": false,
     "start_time": "2024-11-22T08:45:27.443042",
     "status": "completed"
    },
    "tags": []
   },
   "outputs": [
    {
     "data": {
      "text/html": [
       "<div>\n",
       "<style scoped>\n",
       "    .dataframe tbody tr th:only-of-type {\n",
       "        vertical-align: middle;\n",
       "    }\n",
       "\n",
       "    .dataframe tbody tr th {\n",
       "        vertical-align: top;\n",
       "    }\n",
       "\n",
       "    .dataframe thead th {\n",
       "        text-align: right;\n",
       "    }\n",
       "</style>\n",
       "<table border=\"1\" class=\"dataframe\">\n",
       "  <thead>\n",
       "    <tr style=\"text-align: right;\">\n",
       "      <th></th>\n",
       "      <th>mean_enmo</th>\n",
       "      <th>std_enmo</th>\n",
       "      <th>max_enmo</th>\n",
       "      <th>min_enmo</th>\n",
       "      <th>mean_magnitude</th>\n",
       "      <th>std_magnitude</th>\n",
       "      <th>inactivity_percentage</th>\n",
       "      <th>non_wear_percentage</th>\n",
       "      <th>sii</th>\n",
       "    </tr>\n",
       "  </thead>\n",
       "  <tbody>\n",
       "    <tr>\n",
       "      <th>0</th>\n",
       "      <td>0.020411</td>\n",
       "      <td>0.001761</td>\n",
       "      <td>0.022853</td>\n",
       "      <td>0.018667</td>\n",
       "      <td>1.020398</td>\n",
       "      <td>0.001759</td>\n",
       "      <td>0.000000</td>\n",
       "      <td>0.000000</td>\n",
       "      <td>1.0</td>\n",
       "    </tr>\n",
       "    <tr>\n",
       "      <th>1</th>\n",
       "      <td>0.013445</td>\n",
       "      <td>0.031016</td>\n",
       "      <td>2.952888</td>\n",
       "      <td>0.000000</td>\n",
       "      <td>0.996000</td>\n",
       "      <td>0.049507</td>\n",
       "      <td>3.763106</td>\n",
       "      <td>48.399446</td>\n",
       "      <td>1.0</td>\n",
       "    </tr>\n",
       "    <tr>\n",
       "      <th>2</th>\n",
       "      <td>0.029802</td>\n",
       "      <td>0.104216</td>\n",
       "      <td>3.681586</td>\n",
       "      <td>0.000000</td>\n",
       "      <td>0.980751</td>\n",
       "      <td>0.070811</td>\n",
       "      <td>15.596860</td>\n",
       "      <td>11.175805</td>\n",
       "      <td>1.0</td>\n",
       "    </tr>\n",
       "    <tr>\n",
       "      <th>3</th>\n",
       "      <td>0.035465</td>\n",
       "      <td>0.085573</td>\n",
       "      <td>2.506849</td>\n",
       "      <td>0.000000</td>\n",
       "      <td>0.969044</td>\n",
       "      <td>0.082127</td>\n",
       "      <td>4.349319</td>\n",
       "      <td>0.000000</td>\n",
       "      <td>0.0</td>\n",
       "    </tr>\n",
       "    <tr>\n",
       "      <th>4</th>\n",
       "      <td>0.061621</td>\n",
       "      <td>0.202441</td>\n",
       "      <td>6.307294</td>\n",
       "      <td>0.000000</td>\n",
       "      <td>0.966942</td>\n",
       "      <td>0.135903</td>\n",
       "      <td>8.530412</td>\n",
       "      <td>0.000000</td>\n",
       "      <td>0.0</td>\n",
       "    </tr>\n",
       "  </tbody>\n",
       "</table>\n",
       "</div>"
      ],
      "text/plain": [
       "   mean_enmo  std_enmo  max_enmo  min_enmo  mean_magnitude  std_magnitude  \\\n",
       "0   0.020411  0.001761  0.022853  0.018667        1.020398       0.001759   \n",
       "1   0.013445  0.031016  2.952888  0.000000        0.996000       0.049507   \n",
       "2   0.029802  0.104216  3.681586  0.000000        0.980751       0.070811   \n",
       "3   0.035465  0.085573  2.506849  0.000000        0.969044       0.082127   \n",
       "4   0.061621  0.202441  6.307294  0.000000        0.966942       0.135903   \n",
       "\n",
       "   inactivity_percentage  non_wear_percentage  sii  \n",
       "0               0.000000             0.000000  1.0  \n",
       "1               3.763106            48.399446  1.0  \n",
       "2              15.596860            11.175805  1.0  \n",
       "3               4.349319             0.000000  0.0  \n",
       "4               8.530412             0.000000  0.0  "
      ]
     },
     "execution_count": 4,
     "metadata": {},
     "output_type": "execute_result"
    }
   ],
   "source": [
    "train.head()"
   ]
  },
  {
   "cell_type": "code",
   "execution_count": 5,
   "id": "19b3efb0",
   "metadata": {
    "execution": {
     "iopub.execute_input": "2024-11-22T08:45:27.480111Z",
     "iopub.status.busy": "2024-11-22T08:45:27.479714Z",
     "iopub.status.idle": "2024-11-22T08:45:27.494559Z",
     "shell.execute_reply": "2024-11-22T08:45:27.493200Z"
    },
    "papermill": {
     "duration": 0.023158,
     "end_time": "2024-11-22T08:45:27.497224",
     "exception": false,
     "start_time": "2024-11-22T08:45:27.474066",
     "status": "completed"
    },
    "tags": []
   },
   "outputs": [
    {
     "name": "stdout",
     "output_type": "stream",
     "text": [
      "sii\n",
      "0.0    582\n",
      "1.0    265\n",
      "2.0    137\n",
      "3.0     10\n",
      "Name: count, dtype: int64\n"
     ]
    }
   ],
   "source": [
    "print(train['sii'].value_counts())"
   ]
  },
  {
   "cell_type": "code",
   "execution_count": 6,
   "id": "c5c73f86",
   "metadata": {
    "execution": {
     "iopub.execute_input": "2024-11-22T08:45:27.508201Z",
     "iopub.status.busy": "2024-11-22T08:45:27.507798Z",
     "iopub.status.idle": "2024-11-22T08:45:27.522506Z",
     "shell.execute_reply": "2024-11-22T08:45:27.521046Z"
    },
    "papermill": {
     "duration": 0.023448,
     "end_time": "2024-11-22T08:45:27.525238",
     "exception": false,
     "start_time": "2024-11-22T08:45:27.501790",
     "status": "completed"
    },
    "tags": []
   },
   "outputs": [],
   "source": [
    "# Selecting feature columns and target variable\n",
    "X = train.drop(columns=['sii'])\n",
    "y = train['sii']\n",
    "\n",
    "# Standardizing the features\n",
    "from sklearn.preprocessing import StandardScaler\n",
    "\n",
    "scaler = StandardScaler()\n",
    "X_scaled = scaler.fit_transform(X)\n"
   ]
  },
  {
   "cell_type": "code",
   "execution_count": 7,
   "id": "16f2186f",
   "metadata": {
    "execution": {
     "iopub.execute_input": "2024-11-22T08:45:27.536748Z",
     "iopub.status.busy": "2024-11-22T08:45:27.536305Z",
     "iopub.status.idle": "2024-11-22T08:45:28.075350Z",
     "shell.execute_reply": "2024-11-22T08:45:28.074113Z"
    },
    "papermill": {
     "duration": 0.547144,
     "end_time": "2024-11-22T08:45:28.077691",
     "exception": false,
     "start_time": "2024-11-22T08:45:27.530547",
     "status": "completed"
    },
    "tags": []
   },
   "outputs": [
    {
     "data": {
      "image/png": "[encoded data removed]",
      "text/plain": [
       "<Figure size 1400x600 with 2 Axes>"
      ]
     },
     "metadata": {},
     "output_type": "display_data"
    }
   ],
   "source": [
    "# Visualize original vs scaled features\n",
    "fig, axes = plt.subplots(1, 2, figsize=(14, 6))\n",
    "\n",
    "# Before scaling\n",
    "axes[0].boxplot(X.values, vert=False)\n",
    "axes[0].set_title(\"Original Features Distribution\")\n",
    "\n",
    "# After scaling\n",
    "axes[1].boxplot(X_scaled, vert=False)\n",
    "axes[1].set_title(\"Scaled Features Distribution\")\n",
    "\n",
    "plt.tight_layout()\n",
    "plt.show()\n"
   ]
  },
  {
   "cell_type": "code",
   "execution_count": 8,
   "id": "cd8efbce",
   "metadata": {
    "execution": {
     "iopub.execute_input": "2024-11-22T08:45:28.090013Z",
     "iopub.status.busy": "2024-11-22T08:45:28.089275Z",
     "iopub.status.idle": "2024-11-22T08:45:31.461176Z",
     "shell.execute_reply": "2024-11-22T08:45:31.459802Z"
    },
    "papermill": {
     "duration": 3.381034,
     "end_time": "2024-11-22T08:45:31.463876",
     "exception": false,
     "start_time": "2024-11-22T08:45:28.082842",
     "status": "completed"
    },
    "tags": []
   },
   "outputs": [
    {
     "name": "stdout",
     "output_type": "stream",
     "text": [
      "Best Parameters: {'C': 0.1, 'class_weight': 'balanced', 'gamma': 0.7, 'kernel': 'sigmoid'}\n"
     ]
    }
   ],
   "source": [
    "X_train, X_test, y_train, y_test = train_test_split(X_scaled, y, test_size=0.2, random_state=42, stratify=y)\n",
    "param_grid = {\n",
    "    'C': [0.1],\n",
    "    'gamma': [0.7],\n",
    "    'kernel': ['rbf', 'poly', 'sigmoid'],\n",
    "    'class_weight': ['balanced']\n",
    "}\n",
    "grid_search = GridSearchCV(SVC(probability=True, class_weight='balanced', random_state=42),\n",
    "                           param_grid, cv=3, scoring='f1_weighted', n_jobs=-1)\n",
    "grid_search.fit(X_train, y_train)\n",
    "best_params = grid_search.best_params_\n",
    "print(\"Best Parameters:\", best_params)"
   ]
  },
  {
   "cell_type": "code",
   "execution_count": 9,
   "id": "b56d5d87",
   "metadata": {
    "execution": {
     "iopub.execute_input": "2024-11-22T08:45:31.477503Z",
     "iopub.status.busy": "2024-11-22T08:45:31.477064Z",
     "iopub.status.idle": "2024-11-22T08:45:31.860374Z",
     "shell.execute_reply": "2024-11-22T08:45:31.859208Z"
    },
    "papermill": {
     "duration": 0.392461,
     "end_time": "2024-11-22T08:45:31.862678",
     "exception": false,
     "start_time": "2024-11-22T08:45:31.470217",
     "status": "completed"
    },
    "tags": []
   },
   "outputs": [
    {
     "data": {
      "text/html": [
       "<style>#sk-container-id-1 {color: black;background-color: white;}#sk-container-id-1 pre{padding: 0;}#sk-container-id-1 div.sk-toggleable {background-color: white;}#sk-container-id-1 label.sk-toggleable__label {cursor: pointer;display: block;width: 100%;margin-bottom: 0;padding: 0.3em;box-sizing: border-box;text-align: center;}#sk-container-id-1 label.sk-toggleable__label-arrow:before {content: \"▸\";float: left;margin-right: 0.25em;color: #696969;}#sk-container-id-1 label.sk-toggleable__label-arrow:hover:before {color: black;}#sk-container-id-1 div.sk-estimator:hover label.sk-toggleable__label-arrow:before {color: black;}#sk-container-id-1 div.sk-toggleable__content {max-height: 0;max-width: 0;overflow: hidden;text-align: left;background-color: #f0f8ff;}#sk-container-id-1 div.sk-toggleable__content pre {margin: 0.2em;color: black;border-radius: 0.25em;background-color: #f0f8ff;}#sk-container-id-1 input.sk-toggleable__control:checked~div.sk-toggleable__content {max-height: 200px;max-width: 100%;overflow: auto;}#sk-container-id-1 input.sk-toggleable__control:checked~label.sk-toggleable__label-arrow:before {content: \"▾\";}#sk-container-id-1 div.sk-estimator input.sk-toggleable__control:checked~label.sk-toggleable__label {background-color: #d4ebff;}#sk-container-id-1 div.sk-label input.sk-toggleable__control:checked~label.sk-toggleable__label {background-color: #d4ebff;}#sk-container-id-1 input.sk-hidden--visually {border: 0;clip: rect(1px 1px 1px 1px);clip: rect(1px, 1px, 1px, 1px);height: 1px;margin: -1px;overflow: hidden;padding: 0;position: absolute;width: 1px;}#sk-container-id-1 div.sk-estimator {font-family: monospace;background-color: #f0f8ff;border: 1px dotted black;border-radius: 0.25em;box-sizing: border-box;margin-bottom: 0.5em;}#sk-container-id-1 div.sk-estimator:hover {background-color: #d4ebff;}#sk-container-id-1 div.sk-parallel-item::after {content: \"\";width: 100%;border-bottom: 1px solid gray;flex-grow: 1;}#sk-container-id-1 div.sk-label:hover label.sk-toggleable__label {background-color: #d4ebff;}#sk-container-id-1 div.sk-serial::before {content: \"\";position: absolute;border-left: 1px solid gray;box-sizing: border-box;top: 0;bottom: 0;left: 50%;z-index: 0;}#sk-container-id-1 div.sk-serial {display: flex;flex-direction: column;align-items: center;background-color: white;padding-right: 0.2em;padding-left: 0.2em;position: relative;}#sk-container-id-1 div.sk-item {position: relative;z-index: 1;}#sk-container-id-1 div.sk-parallel {display: flex;align-items: stretch;justify-content: center;background-color: white;position: relative;}#sk-container-id-1 div.sk-item::before, #sk-container-id-1 div.sk-parallel-item::before {content: \"\";position: absolute;border-left: 1px solid gray;box-sizing: border-box;top: 0;bottom: 0;left: 50%;z-index: -1;}#sk-container-id-1 div.sk-parallel-item {display: flex;flex-direction: column;z-index: 1;position: relative;background-color: white;}#sk-container-id-1 div.sk-parallel-item:first-child::after {align-self: flex-end;width: 50%;}#sk-container-id-1 div.sk-parallel-item:last-child::after {align-self: flex-start;width: 50%;}#sk-container-id-1 div.sk-parallel-item:only-child::after {width: 0;}#sk-container-id-1 div.sk-dashed-wrapped {border: 1px dashed gray;margin: 0 0.4em 0.5em 0.4em;box-sizing: border-box;padding-bottom: 0.4em;background-color: white;}#sk-container-id-1 div.sk-label label {font-family: monospace;font-weight: bold;display: inline-block;line-height: 1.2em;}#sk-container-id-1 div.sk-label-container {text-align: center;}#sk-container-id-1 div.sk-container {/* jupyter's `normalize.less` sets `[hidden] { display: none; }` but bootstrap.min.css set `[hidden] { display: none !important; }` so we also need the `!important` here to be able to override the default hidden behavior on the sphinx rendered scikit-learn.org. See: https://github.com/scikit-learn/scikit-learn/issues/21755 */display: inline-block !important;position: relative;}#sk-container-id-1 div.sk-text-repr-fallback {display: none;}</style><div id=\"sk-container-id-1\" class=\"sk-top-container\"><div class=\"sk-text-repr-fallback\"><pre>SVC(C=0.1, class_weight=&#x27;balanced&#x27;, gamma=0.7, kernel=&#x27;sigmoid&#x27;,\n",
       "    probability=True, random_state=42)</pre><b>In a Jupyter environment, please rerun this cell to show the HTML representation or trust the notebook. <br />On GitHub, the HTML representation is unable to render, please try loading this page with nbviewer.org.</b></div><div class=\"sk-container\" hidden><div class=\"sk-item\"><div class=\"sk-estimator sk-toggleable\"><input class=\"sk-toggleable__control sk-hidden--visually\" id=\"sk-estimator-id-1\" type=\"checkbox\" checked><label for=\"sk-estimator-id-1\" class=\"sk-toggleable__label sk-toggleable__label-arrow\">SVC</label><div class=\"sk-toggleable__content\"><pre>SVC(C=0.1, class_weight=&#x27;balanced&#x27;, gamma=0.7, kernel=&#x27;sigmoid&#x27;,\n",
       "    probability=True, random_state=42)</pre></div></div></div></div></div>"
      ],
      "text/plain": [
       "SVC(C=0.1, class_weight='balanced', gamma=0.7, kernel='sigmoid',\n",
       "    probability=True, random_state=42)"
      ]
     },
     "execution_count": 9,
     "metadata": {},
     "output_type": "execute_result"
    }
   ],
   "source": [
    "# Train SVM with best parameters\n",
    "svm_model = SVC(**best_params, probability=True, random_state=42)\n",
    "svm_model.fit(X_train, y_train)"
   ]
  },
  {
   "cell_type": "code",
   "execution_count": 10,
   "id": "e2728560",
   "metadata": {
    "execution": {
     "iopub.execute_input": "2024-11-22T08:45:31.876019Z",
     "iopub.status.busy": "2024-11-22T08:45:31.875057Z",
     "iopub.status.idle": "2024-11-22T08:45:31.901685Z",
     "shell.execute_reply": "2024-11-22T08:45:31.900414Z"
    },
    "papermill": {
     "duration": 0.03601,
     "end_time": "2024-11-22T08:45:31.904273",
     "exception": false,
     "start_time": "2024-11-22T08:45:31.868263",
     "status": "completed"
    },
    "tags": []
   },
   "outputs": [],
   "source": [
    "y_pred = svm_model.predict(X_test)\n",
    "y_prob = svm_model.predict_proba(X_test)"
   ]
  },
  {
   "cell_type": "code",
   "execution_count": 11,
   "id": "e37177d1",
   "metadata": {
    "execution": {
     "iopub.execute_input": "2024-11-22T08:45:31.917499Z",
     "iopub.status.busy": "2024-11-22T08:45:31.917051Z",
     "iopub.status.idle": "2024-11-22T08:45:32.241041Z",
     "shell.execute_reply": "2024-11-22T08:45:32.239894Z"
    },
    "papermill": {
     "duration": 0.333647,
     "end_time": "2024-11-22T08:45:32.243677",
     "exception": false,
     "start_time": "2024-11-22T08:45:31.910030",
     "status": "completed"
    },
    "tags": []
   },
   "outputs": [
    {
     "data": {
      "image/png": "[encoded data removed]",
      "text/plain": [
       "<Figure size 800x600 with 2 Axes>"
      ]
     },
     "metadata": {},
     "output_type": "display_data"
    }
   ],
   "source": [
    "# Visualizing confusion matrix\n",
    "from sklearn.metrics import confusion_matrix\n",
    "import seaborn as sns\n",
    "\n",
    "cm = confusion_matrix(y_test, y_pred)\n",
    "plt.figure(figsize=(8, 6))\n",
    "sns.heatmap(cm, annot=True, fmt='d', cmap=\"Blues\", xticklabels=[0, 1, 2, 3], yticklabels=[0, 1, 2, 3])\n",
    "plt.title(\"Confusion Matrix for SVM Model\")\n",
    "plt.xlabel(\"Predicted Label\")\n",
    "plt.ylabel(\"True Label\")\n",
    "plt.show()\n"
   ]
  },
  {
   "cell_type": "code",
   "execution_count": 12,
   "id": "518575d0",
   "metadata": {
    "execution": {
     "iopub.execute_input": "2024-11-22T08:45:32.257874Z",
     "iopub.status.busy": "2024-11-22T08:45:32.257355Z",
     "iopub.status.idle": "2024-11-22T08:45:32.272447Z",
     "shell.execute_reply": "2024-11-22T08:45:32.271091Z"
    },
    "papermill": {
     "duration": 0.02506,
     "end_time": "2024-11-22T08:45:32.274889",
     "exception": false,
     "start_time": "2024-11-22T08:45:32.249829",
     "status": "completed"
    },
    "tags": []
   },
   "outputs": [
    {
     "name": "stdout",
     "output_type": "stream",
     "text": [
      "SVM Classification Report:\n",
      "              precision    recall  f1-score   support\n",
      "\n",
      "         0.0       0.60      0.32      0.41       117\n",
      "         1.0       0.29      0.26      0.27        53\n",
      "         2.0       0.12      0.11      0.12        27\n",
      "         3.0       0.02      0.50      0.03         2\n",
      "\n",
      "    accuracy                           0.28       199\n",
      "   macro avg       0.26      0.30      0.21       199\n",
      "weighted avg       0.44      0.28      0.33       199\n",
      "\n"
     ]
    }
   ],
   "source": [
    "# Evaluate the model\n",
    "print(\"SVM Classification Report:\")\n",
    "print(classification_report(y_test, y_pred))\n"
   ]
  },
  {
   "cell_type": "code",
   "execution_count": 13,
   "id": "39a6401a",
   "metadata": {
    "execution": {
     "iopub.execute_input": "2024-11-22T08:45:32.289101Z",
     "iopub.status.busy": "2024-11-22T08:45:32.288588Z",
     "iopub.status.idle": "2024-11-22T08:45:32.540680Z",
     "shell.execute_reply": "2024-11-22T08:45:32.539431Z"
    },
    "papermill": {
     "duration": 0.262037,
     "end_time": "2024-11-22T08:45:32.543250",
     "exception": false,
     "start_time": "2024-11-22T08:45:32.281213",
     "status": "completed"
    },
    "tags": []
   },
   "outputs": [
    {
     "name": "stdout",
     "output_type": "stream",
     "text": [
      "ROC AUC Score (One-vs-Rest): 0.6477335532171982\n",
      "Classification Report:\n",
      "               precision    recall  f1-score   support\n",
      "\n",
      "         0.0       0.64      0.50      0.56       117\n",
      "         1.0       0.32      0.11      0.17        53\n",
      "         2.0       0.12      0.15      0.14        27\n",
      "         3.0       0.00      0.00      0.00         2\n",
      "\n",
      "    accuracy                           0.34       199\n",
      "   macro avg       0.27      0.19      0.22       199\n",
      "weighted avg       0.48      0.34      0.39       199\n",
      "\n",
      "Confusion Matrix:\n",
      " [[58 10 16 33]\n",
      " [21  6 10 16]\n",
      " [11  3  4  9]\n",
      " [ 0  0  2  0]]\n"
     ]
    }
   ],
   "source": [
    "from sklearn.preprocessing import label_binarize\n",
    "from sklearn.metrics import roc_auc_score, classification_report, confusion_matrix\n",
    "from sklearn.decomposition import PCA\n",
    "from sklearn.model_selection import train_test_split\n",
    "from sklearn.svm import SVC\n",
    "import numpy as np\n",
    "import matplotlib.pyplot as plt\n",
    "\n",
    "from sklearn.preprocessing import StandardScaler\n",
    "\n",
    "from sklearn.preprocessing import label_binarize\n",
    "\n",
    "\n",
    "# Assuming data is already cleaned and preprocessed\n",
    "X = train.drop(columns=[ 'sii'])\n",
    "y = train['sii']\n",
    "\n",
    "# Normalize/Standardize features\n",
    "scaler = StandardScaler()\n",
    "X_std = scaler.fit_transform(X)\n",
    "\n",
    "# Train-test split\n",
    "X_train, X_test, y_train, y_test = train_test_split(X_std, y, test_size=0.2, random_state=42, stratify=y)\n",
    "\n",
    "# PCA: Fit on the training data and transform both train and test sets\n",
    "pca = PCA(n_components=2)\n",
    "X_train_pca = pca.fit_transform(X_train)  # Fit and transform on training data\n",
    "X_test_pca = pca.transform(X_test)       # Transform test data using the same PCA object\n",
    "\n",
    "# Train SVM on PCA-reduced training data\n",
    "svm_model_pca = SVC(\n",
    "    kernel='rbf', \n",
    "    C=1.0, \n",
    "    gamma='scale', \n",
    "    probability=True, \n",
    "    class_weight='balanced'\n",
    ")\n",
    "svm_model_pca.fit(X_train_pca, y_train)\n",
    "\n",
    "# Predictions\n",
    "y_pred = svm_model_pca.predict(X_test_pca)\n",
    "y_prob = svm_model_pca.predict_proba(X_test_pca)  # Predicted probabilities for ROC-AUC\n",
    "\n",
    "# Convert target to one-hot encoding for multi-class ROC-AUC\n",
    "y_test_binarized = label_binarize(y_test, classes=np.unique(y))\n",
    "y_prob_binarized = y_prob\n",
    "\n",
    "# Compute ROC AUC Score for multi-class\n",
    "roc_auc = roc_auc_score(y_test_binarized, y_prob_binarized, multi_class='ovr')\n",
    "print(\"ROC AUC Score (One-vs-Rest):\", roc_auc)\n",
    "\n",
    "# Evaluation Metrics\n",
    "print(\"Classification Report:\\n\", classification_report(y_test, y_pred))\n",
    "print(\"Confusion Matrix:\\n\", confusion_matrix(y_test, y_pred))\n"
   ]
  },
  {
   "cell_type": "code",
   "execution_count": 14,
   "id": "db2b4420",
   "metadata": {
    "execution": {
     "iopub.execute_input": "2024-11-22T08:45:32.558215Z",
     "iopub.status.busy": "2024-11-22T08:45:32.557795Z",
     "iopub.status.idle": "2024-11-22T08:45:32.890978Z",
     "shell.execute_reply": "2024-11-22T08:45:32.889656Z"
    },
    "papermill": {
     "duration": 0.343476,
     "end_time": "2024-11-22T08:45:32.893179",
     "exception": false,
     "start_time": "2024-11-22T08:45:32.549703",
     "status": "completed"
    },
    "tags": []
   },
   "outputs": [
    {
     "data": {
      "image/png": "[encoded data removed]",
      "text/plain": [
       "<Figure size 1000x800 with 1 Axes>"
      ]
     },
     "metadata": {},
     "output_type": "display_data"
    },
    {
     "data": {
      "text/plain": [
       "<Figure size 1000x800 with 0 Axes>"
      ]
     },
     "execution_count": 14,
     "metadata": {},
     "output_type": "execute_result"
    },
    {
     "data": {
      "text/plain": [
       "<Figure size 1000x800 with 0 Axes>"
      ]
     },
     "metadata": {},
     "output_type": "display_data"
    }
   ],
   "source": [
    "from sklearn.metrics import (\n",
    "    accuracy_score,\n",
    "    classification_report,\n",
    "    confusion_matrix,\n",
    "    roc_auc_score,\n",
    "    roc_curve,\n",
    "    precision_recall_curve\n",
    ")\n",
    "# Evaluate Precision-Recall and ROC Curves for each class\n",
    "plt.figure(figsize=(10, 8))\n",
    "y_test_binarized = label_binarize(y_test, classes=np.unique(y))\n",
    "for i, class_label in enumerate(np.unique(y)):\n",
    "    precision, recall, _ = precision_recall_curve(y_test_binarized[:, i], y_prob[:, i])\n",
    "    plt.plot(recall, precision, label=f\"Class {class_label}\")\n",
    "plt.title(\"Precision-Recall Curves\")\n",
    "plt.xlabel(\"Recall\")\n",
    "plt.ylabel(\"Precision\")\n",
    "plt.legend()\n",
    "plt.show()\n",
    "\n",
    "plt.figure(figsize=(10, 8))\n"
   ]
  }
 ],
 "metadata": {
  "kaggle": {
   "accelerator": "none",
   "dataSources": [
    {
     "databundleVersionId": 9643020,
     "sourceId": 81933,
     "sourceType": "competition"
    },
    {
     "datasetId": 6137681,
     "sourceId": 9975483,
     "sourceType": "datasetVersion"
    }
   ],
   "dockerImageVersionId": 30786,
   "isGpuEnabled": false,
   "isInternetEnabled": true,
   "language": "python",
   "sourceType": "notebook"
  },
  "kernelspec": {
   "display_name": "Python 3",
   "language": "python",
   "name": "python3"
  },
  "language_info": {
   "codemirror_mode": {
    "name": "ipython",
    "version": 3
   },
   "file_extension": ".py",
   "mimetype": "text/x-python",
   "name": "python",
   "nbconvert_exporter": "python",
   "pygments_lexer": "ipython3",
   "version": "3.10.14"
  },
  "papermill": {
   "default_parameters": {},
   "duration": 14.952612,
   "end_time": "2024-11-22T08:45:35.522837",
   "environment_variables": {},
   "exception": null,
   "input_path": "__notebook__.ipynb",
   "output_path": "__notebook__.ipynb",
   "parameters": {},
   "start_time": "2024-11-22T08:45:20.570225",
   "version": "2.6.0"
  }
 },
 "nbformat": 4,
 "nbformat_minor": 5
}
